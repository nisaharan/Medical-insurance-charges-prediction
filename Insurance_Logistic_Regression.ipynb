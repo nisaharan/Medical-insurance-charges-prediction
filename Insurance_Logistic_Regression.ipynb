{
 "cells": [
  {
   "cell_type": "markdown",
   "source": [
    "# Modelling Medical Insurance data using logistic regression"
   ],
   "metadata": {
    "application/vnd.databricks.v1+cell": {
     "showTitle": false,
     "cellMetadata": {},
     "nuid": "a627be25-9fcd-4b57-84d1-c9f11a155876",
     "inputWidgets": {},
     "title": ""
    }
   }
  },
  {
   "cell_type": "code",
   "source": [
    "# Data processing\n",
    "from pyspark.sql.functions import *\n",
    "\n",
    "# Modeling\n",
    "from pyspark.ml.feature import VectorAssembler\n",
    "from pyspark.ml.classification import LogisticRegression\n",
    "from pyspark.ml.evaluation import BinaryClassificationEvaluator\n"
   ],
   "metadata": {
    "application/vnd.databricks.v1+cell": {
     "showTitle": false,
     "cellMetadata": {
      "rowLimit": 10000,
      "byteLimit": 2048000
     },
     "nuid": "3c72ddea-d6b7-426b-bed6-861fb814ff4b",
     "inputWidgets": {},
     "title": ""
    }
   },
   "outputs": [
    {
     "output_type": "display_data",
     "metadata": {
      "application/vnd.databricks.v1+output": {
       "datasetInfos": [],
       "data": "<div class=\"ansiout\"></div>",
       "removedWidgets": [],
       "addedWidgets": {},
       "metadata": {},
       "type": "html",
       "arguments": {}
      }
     },
     "data": {
      "text/html": [
       "<style scoped>\n",
       "  .ansiout {\n",
       "    display: block;\n",
       "    unicode-bidi: embed;\n",
       "    white-space: pre-wrap;\n",
       "    word-wrap: break-word;\n",
       "    word-break: break-all;\n",
       "    font-family: \"Source Code Pro\", \"Menlo\", monospace;;\n",
       "    font-size: 13px;\n",
       "    color: #555;\n",
       "    margin-left: 4px;\n",
       "    line-height: 19px;\n",
       "  }\n",
       "</style>\n",
       "<div class=\"ansiout\"></div>"
      ]
     }
    }
   ],
   "execution_count": 0
  },
  {
   "cell_type": "code",
   "source": [
    "write_path = 'dbfs:/tmp/reproducible_ml_uofl/medinsurance_linearreg_class1_7_csv.delta'\n",
    "medins_chrgs = spark.read.format('delta').load(write_path)\n",
    "\n",
    "#Show basic summary stats\n",
    "display(medins_chrgs.summary())"
   ],
   "metadata": {
    "application/vnd.databricks.v1+cell": {
     "showTitle": false,
     "cellMetadata": {
      "rowLimit": 10000,
      "byteLimit": 2048000
     },
     "nuid": "1de632ee-f2e6-43ec-858f-3807115afb92",
     "inputWidgets": {},
     "title": ""
    }
   },
   "outputs": [
    {
     "output_type": "display_data",
     "metadata": {
      "application/vnd.databricks.v1+output": {
       "overflow": false,
       "datasetInfos": [
        {
         "name": "medins_chrgs",
         "typeStr": "pyspark.sql.dataframe.DataFrame",
         "schema": {
          "fields": [
           {
            "metadata": {},
            "name": "age",
            "nullable": true,
            "type": "integer"
           },
           {
            "metadata": {},
            "name": "bmi",
            "nullable": true,
            "type": "double"
           },
           {
            "metadata": {},
            "name": "children",
            "nullable": true,
            "type": "integer"
           },
           {
            "metadata": {},
            "name": "region",
            "nullable": true,
            "type": "string"
           },
           {
            "metadata": {},
            "name": "charges",
            "nullable": true,
            "type": "double"
           },
           {
            "metadata": {},
            "name": "gender_cd",
            "nullable": true,
            "type": "integer"
           },
           {
            "metadata": {},
            "name": "smoker_cd",
            "nullable": true,
            "type": "integer"
           }
          ],
          "type": "struct"
         },
         "tableIdentifier": "dbfs:/tmp/reproducible_ml_uofl/medinsurance_linearreg_class1_7_csv.delta"
        }
       ],
       "data": [
        [
         "count",
         "1338",
         "1338",
         "1338",
         "1338",
         "1338",
         "1338",
         "1338"
        ],
        [
         "mean",
         "39.20702541106129",
         "30.663396860986538",
         "1.0949177877429",
         null,
         "13270.422265141257",
         "0.4947683109118087",
         "0.20478325859491778"
        ],
        [
         "stddev",
         "14.049960379216147",
         "6.098186911679012",
         "1.205492739781914",
         null,
         "12110.011236693992",
         "0.5001595692843768",
         "0.40369403754561717"
        ],
        [
         "min",
         "18",
         "15.96",
         "0",
         "northeast",
         "1121.8739",
         "0",
         "0"
        ],
        [
         "25%",
         "27",
         "26.29",
         "0",
         null,
         "4738.2682",
         "0",
         "0"
        ],
        [
         "50%",
         "39",
         "30.4",
         "1",
         null,
         "9377.9047",
         "0",
         "0"
        ],
        [
         "75%",
         "51",
         "34.7",
         "2",
         null,
         "16657.71745",
         "1",
         "0"
        ],
        [
         "max",
         "64",
         "53.13",
         "5",
         "southwest",
         "63770.42801",
         "1",
         "1"
        ]
       ],
       "plotOptions": {
        "displayType": "table",
        "customPlotOptions": {},
        "pivotColumns": null,
        "pivotAggregation": null,
        "xColumns": null,
        "yColumns": null
       },
       "columnCustomDisplayInfos": {},
       "aggType": "",
       "isJsonSchema": true,
       "removedWidgets": [],
       "aggSchema": [],
       "schema": [
        {
         "name": "summary",
         "type": "\"string\"",
         "metadata": "{}"
        },
        {
         "name": "age",
         "type": "\"string\"",
         "metadata": "{}"
        },
        {
         "name": "bmi",
         "type": "\"string\"",
         "metadata": "{}"
        },
        {
         "name": "children",
         "type": "\"string\"",
         "metadata": "{}"
        },
        {
         "name": "region",
         "type": "\"string\"",
         "metadata": "{}"
        },
        {
         "name": "charges",
         "type": "\"string\"",
         "metadata": "{}"
        },
        {
         "name": "gender_cd",
         "type": "\"string\"",
         "metadata": "{}"
        },
        {
         "name": "smoker_cd",
         "type": "\"string\"",
         "metadata": "{}"
        }
       ],
       "aggError": "",
       "aggData": [],
       "addedWidgets": {},
       "metadata": {},
       "dbfsResultPath": null,
       "type": "table",
       "aggOverflow": false,
       "aggSeriesLimitReached": false,
       "arguments": {}
      }
     },
     "data": {
      "text/html": [
       "<style scoped>\n",
       "  .table-result-container {\n",
       "    max-height: 300px;\n",
       "    overflow: auto;\n",
       "  }\n",
       "  table, th, td {\n",
       "    border: 1px solid black;\n",
       "    border-collapse: collapse;\n",
       "  }\n",
       "  th, td {\n",
       "    padding: 5px;\n",
       "  }\n",
       "  th {\n",
       "    text-align: left;\n",
       "  }\n",
       "</style><div class='table-result-container'><table class='table-result'><thead style='background-color: white'><tr><th>summary</th><th>age</th><th>bmi</th><th>children</th><th>region</th><th>charges</th><th>gender_cd</th><th>smoker_cd</th></tr></thead><tbody><tr><td>count</td><td>1338</td><td>1338</td><td>1338</td><td>1338</td><td>1338</td><td>1338</td><td>1338</td></tr><tr><td>mean</td><td>39.20702541106129</td><td>30.663396860986538</td><td>1.0949177877429</td><td>null</td><td>13270.422265141257</td><td>0.4947683109118087</td><td>0.20478325859491778</td></tr><tr><td>stddev</td><td>14.049960379216147</td><td>6.098186911679012</td><td>1.205492739781914</td><td>null</td><td>12110.011236693992</td><td>0.5001595692843768</td><td>0.40369403754561717</td></tr><tr><td>min</td><td>18</td><td>15.96</td><td>0</td><td>northeast</td><td>1121.8739</td><td>0</td><td>0</td></tr><tr><td>25%</td><td>27</td><td>26.29</td><td>0</td><td>null</td><td>4738.2682</td><td>0</td><td>0</td></tr><tr><td>50%</td><td>39</td><td>30.4</td><td>1</td><td>null</td><td>9377.9047</td><td>0</td><td>0</td></tr><tr><td>75%</td><td>51</td><td>34.7</td><td>2</td><td>null</td><td>16657.71745</td><td>1</td><td>0</td></tr><tr><td>max</td><td>64</td><td>53.13</td><td>5</td><td>southwest</td><td>63770.42801</td><td>1</td><td>1</td></tr></tbody></table></div>"
      ]
     }
    }
   ],
   "execution_count": 0
  },
  {
   "cell_type": "code",
   "source": [
    "from pyspark.sql.window import Window\n",
    "import pyspark.sql.functions as f\n",
    "from pyspark.sql.functions import row_number\n",
    "\n",
    "#create percentile ranks\n",
    "medins_chrgs = medins_chrgs.select(\"age\",\"bmi\",\"children\",\"region\",\"charges\",\"gender_cd\",\"smoker_cd\", \n",
    "                                   f.row_number().over(Window.partitionBy().orderBy(medins_chrgs['charges'])).alias(\"row_num\"),\n",
    "                                   f.percent_rank().over(Window.partitionBy().orderBy(medins_chrgs['charges'])).alias(\"percent_rank\"))\n",
    "#display(medins_chrgs)\n",
    "\n",
    "#create targets for Top 5%, 10%, and 25%\n",
    "medins_chrgs_new=(medins_chrgs.withColumn('top05_trgt', f.when(f.col('percent_rank') >=0.95, 1).otherwise(0))\n",
    "                  .withColumn('top10_trgt', f.when(f.col('percent_rank') >=0.9, 1).otherwise(0))\n",
    "                  .withColumn('top25_trgt', f.when(f.col('percent_rank') >=0.75, 1).otherwise(0))\n",
    ")\n",
    "medins_chrgs_new.show()\n",
    "medins_chrgs_new.groupBy('top05_trgt').count().show()\n",
    "medins_chrgs_new.groupBy('top10_trgt').count().show()\n",
    "medins_chrgs_new.groupBy('top25_trgt').count().show()"
   ],
   "metadata": {
    "application/vnd.databricks.v1+cell": {
     "showTitle": false,
     "cellMetadata": {
      "rowLimit": 10000,
      "byteLimit": 2048000
     },
     "nuid": "fc897968-bc47-491d-b7a5-c40720ce5eae",
     "inputWidgets": {},
     "title": ""
    }
   },
   "outputs": [
    {
     "output_type": "display_data",
     "metadata": {
      "application/vnd.databricks.v1+output": {
       "datasetInfos": [
        {
         "name": "medins_chrgs",
         "typeStr": "pyspark.sql.dataframe.DataFrame",
         "schema": {
          "fields": [
           {
            "metadata": {},
            "name": "age",
            "nullable": true,
            "type": "integer"
           },
           {
            "metadata": {},
            "name": "bmi",
            "nullable": true,
            "type": "double"
           },
           {
            "metadata": {},
            "name": "children",
            "nullable": true,
            "type": "integer"
           },
           {
            "metadata": {},
            "name": "region",
            "nullable": true,
            "type": "string"
           },
           {
            "metadata": {},
            "name": "charges",
            "nullable": true,
            "type": "double"
           },
           {
            "metadata": {},
            "name": "gender_cd",
            "nullable": true,
            "type": "integer"
           },
           {
            "metadata": {},
            "name": "smoker_cd",
            "nullable": true,
            "type": "integer"
           },
           {
            "metadata": {},
            "name": "row_num",
            "nullable": true,
            "type": "integer"
           },
           {
            "metadata": {},
            "name": "percent_rank",
            "nullable": true,
            "type": "double"
           }
          ],
          "type": "struct"
         },
         "tableIdentifier": null
        },
        {
         "name": "medins_chrgs_new",
         "typeStr": "pyspark.sql.dataframe.DataFrame",
         "schema": {
          "fields": [
           {
            "metadata": {},
            "name": "age",
            "nullable": true,
            "type": "integer"
           },
           {
            "metadata": {},
            "name": "bmi",
            "nullable": true,
            "type": "double"
           },
           {
            "metadata": {},
            "name": "children",
            "nullable": true,
            "type": "integer"
           },
           {
            "metadata": {},
            "name": "region",
            "nullable": true,
            "type": "string"
           },
           {
            "metadata": {},
            "name": "charges",
            "nullable": true,
            "type": "double"
           },
           {
            "metadata": {},
            "name": "gender_cd",
            "nullable": true,
            "type": "integer"
           },
           {
            "metadata": {},
            "name": "smoker_cd",
            "nullable": true,
            "type": "integer"
           },
           {
            "metadata": {},
            "name": "row_num",
            "nullable": true,
            "type": "integer"
           },
           {
            "metadata": {},
            "name": "percent_rank",
            "nullable": true,
            "type": "double"
           },
           {
            "metadata": {},
            "name": "top05_trgt",
            "nullable": false,
            "type": "integer"
           },
           {
            "metadata": {},
            "name": "top10_trgt",
            "nullable": false,
            "type": "integer"
           },
           {
            "metadata": {},
            "name": "top25_trgt",
            "nullable": false,
            "type": "integer"
           }
          ],
          "type": "struct"
         },
         "tableIdentifier": null
        }
       ],
       "data": "<div class=\"ansiout\">+---+-----+--------+---------+---------+---------+---------+-------+--------------------+----------+----------+----------+\n|age|  bmi|children|   region|  charges|gender_cd|smoker_cd|row_num|        percent_rank|top05_trgt|top10_trgt|top25_trgt|\n+---+-----+--------+---------+---------+---------+---------+-------+--------------------+----------+----------+----------+\n| 18|23.21|       0|southeast|1121.8739|        0|        0|      1|                 0.0|         0|         0|         0|\n| 18|30.14|       0|southeast|1131.5066|        0|        0|      2|7.479431563201197E-4|         0|         0|         0|\n| 18|33.33|       0|southeast|1135.9407|        0|        0|      3|0.001495886312640...|         0|         0|         0|\n| 18|33.66|       0|southeast|1136.3994|        0|        0|      4|0.002243829468960359|         0|         0|         0|\n| 18| 34.1|       0|southeast| 1137.011|        0|        0|      5|0.002991772625280...|         0|         0|         0|\n| 18|34.43|       0|southeast|1137.4697|        0|        0|      6|0.003739715781600...|         0|         0|         0|\n| 18|37.29|       0|southeast|1141.4451|        0|        0|      7|0.004487658937920718|         0|         0|         0|\n| 18|41.14|       0|southeast|1146.7966|        0|        0|      8|0.005235602094240838|         0|         0|         0|\n| 18|43.01|       0|southeast|1149.3959|        0|        0|      9|0.005983545250560957|         0|         0|         0|\n| 18|53.13|       0|southeast|1163.4627|        0|        0|     10|0.006731488406881077|         0|         0|         0|\n| 19| 19.8|       0|southwest| 1241.565|        0|        0|     11|0.007479431563201...|         0|         0|         0|\n| 19| 20.3|       0|southwest|  1242.26|        0|        0|     12|0.008227374719521317|         0|         0|         0|\n| 19| 20.7|       0|southwest| 1242.816|        0|        0|     13|0.008975317875841436|         0|         0|         0|\n| 19| 27.6|       0|southwest| 1252.407|        0|        0|     14|0.009723261032161555|         0|         0|         0|\n| 19| 28.7|       0|southwest| 1253.936|        0|        0|     15|0.010471204188481676|         0|         0|         0|\n| 19| 30.4|       0|southwest| 1256.299|        0|        0|     16|0.011219147344801795|         0|         0|         0|\n| 19| 34.1|       0|southwest| 1261.442|        0|        0|     17|0.011967090501121914|         0|         0|         0|\n| 19| 34.4|       0|southwest| 1261.859|        0|        0|     18|0.012715033657442034|         0|         0|         0|\n| 19| 35.4|       0|southwest| 1263.249|        0|        0|     19|0.013462976813762155|         0|         0|         0|\n| 20|33.33|       0|southeast|1391.5287|        0|        0|     20|0.014210919970082274|         0|         0|         0|\n+---+-----+--------+---------+---------+---------+---------+-------+--------------------+----------+----------+----------+\nonly showing top 20 rows\n\n+----------+-----+\n|top05_trgt|count|\n+----------+-----+\n|         0| 1271|\n|         1|   67|\n+----------+-----+\n\n+----------+-----+\n|top10_trgt|count|\n+----------+-----+\n|         0| 1204|\n|         1|  134|\n+----------+-----+\n\n+----------+-----+\n|top25_trgt|count|\n+----------+-----+\n|         0| 1003|\n|         1|  335|\n+----------+-----+\n\n</div>",
       "removedWidgets": [],
       "addedWidgets": {},
       "metadata": {},
       "type": "html",
       "arguments": {}
      }
     },
     "data": {
      "text/html": [
       "<style scoped>\n",
       "  .ansiout {\n",
       "    display: block;\n",
       "    unicode-bidi: embed;\n",
       "    white-space: pre-wrap;\n",
       "    word-wrap: break-word;\n",
       "    word-break: break-all;\n",
       "    font-family: \"Source Code Pro\", \"Menlo\", monospace;;\n",
       "    font-size: 13px;\n",
       "    color: #555;\n",
       "    margin-left: 4px;\n",
       "    line-height: 19px;\n",
       "  }\n",
       "</style>\n",
       "<div class=\"ansiout\">+---+-----+--------+---------+---------+---------+---------+-------+--------------------+----------+----------+----------+\n",
       "age|  bmi|children|   region|  charges|gender_cd|smoker_cd|row_num|        percent_rank|top05_trgt|top10_trgt|top25_trgt|\n",
       "+---+-----+--------+---------+---------+---------+---------+-------+--------------------+----------+----------+----------+\n",
       " 18|23.21|       0|southeast|1121.8739|        0|        0|      1|                 0.0|         0|         0|         0|\n",
       " 18|30.14|       0|southeast|1131.5066|        0|        0|      2|7.479431563201197E-4|         0|         0|         0|\n",
       " 18|33.33|       0|southeast|1135.9407|        0|        0|      3|0.001495886312640...|         0|         0|         0|\n",
       " 18|33.66|       0|southeast|1136.3994|        0|        0|      4|0.002243829468960359|         0|         0|         0|\n",
       " 18| 34.1|       0|southeast| 1137.011|        0|        0|      5|0.002991772625280...|         0|         0|         0|\n",
       " 18|34.43|       0|southeast|1137.4697|        0|        0|      6|0.003739715781600...|         0|         0|         0|\n",
       " 18|37.29|       0|southeast|1141.4451|        0|        0|      7|0.004487658937920718|         0|         0|         0|\n",
       " 18|41.14|       0|southeast|1146.7966|        0|        0|      8|0.005235602094240838|         0|         0|         0|\n",
       " 18|43.01|       0|southeast|1149.3959|        0|        0|      9|0.005983545250560957|         0|         0|         0|\n",
       " 18|53.13|       0|southeast|1163.4627|        0|        0|     10|0.006731488406881077|         0|         0|         0|\n",
       " 19| 19.8|       0|southwest| 1241.565|        0|        0|     11|0.007479431563201...|         0|         0|         0|\n",
       " 19| 20.3|       0|southwest|  1242.26|        0|        0|     12|0.008227374719521317|         0|         0|         0|\n",
       " 19| 20.7|       0|southwest| 1242.816|        0|        0|     13|0.008975317875841436|         0|         0|         0|\n",
       " 19| 27.6|       0|southwest| 1252.407|        0|        0|     14|0.009723261032161555|         0|         0|         0|\n",
       " 19| 28.7|       0|southwest| 1253.936|        0|        0|     15|0.010471204188481676|         0|         0|         0|\n",
       " 19| 30.4|       0|southwest| 1256.299|        0|        0|     16|0.011219147344801795|         0|         0|         0|\n",
       " 19| 34.1|       0|southwest| 1261.442|        0|        0|     17|0.011967090501121914|         0|         0|         0|\n",
       " 19| 34.4|       0|southwest| 1261.859|        0|        0|     18|0.012715033657442034|         0|         0|         0|\n",
       " 19| 35.4|       0|southwest| 1263.249|        0|        0|     19|0.013462976813762155|         0|         0|         0|\n",
       " 20|33.33|       0|southeast|1391.5287|        0|        0|     20|0.014210919970082274|         0|         0|         0|\n",
       "+---+-----+--------+---------+---------+---------+---------+-------+--------------------+----------+----------+----------+\n",
       "only showing top 20 rows\n",
       "\n",
       "+----------+-----+\n",
       "top05_trgt|count|\n",
       "+----------+-----+\n",
       "         0| 1271|\n",
       "         1|   67|\n",
       "+----------+-----+\n",
       "\n",
       "+----------+-----+\n",
       "top10_trgt|count|\n",
       "+----------+-----+\n",
       "         0| 1204|\n",
       "         1|  134|\n",
       "+----------+-----+\n",
       "\n",
       "+----------+-----+\n",
       "top25_trgt|count|\n",
       "+----------+-----+\n",
       "         0| 1003|\n",
       "         1|  335|\n",
       "+----------+-----+\n",
       "\n",
       "</div>"
      ]
     }
    }
   ],
   "execution_count": 0
  },
  {
   "cell_type": "code",
   "source": [
    "# Train test split\n",
    "trainDF, testDF = medins_chrgs_new.randomSplit([.65, .35], seed=42)\n",
    "# Print the number of records\n",
    "print(f'There are {trainDF.cache().count()} records in the training dataset.')\n",
    "print(f'There are {testDF.cache().count()} records in the testing dataset.')"
   ],
   "metadata": {
    "application/vnd.databricks.v1+cell": {
     "showTitle": false,
     "cellMetadata": {
      "rowLimit": 10000,
      "byteLimit": 2048000
     },
     "nuid": "cbca723d-70fc-46d9-b996-cb36638f4b6d",
     "inputWidgets": {},
     "title": ""
    }
   },
   "outputs": [
    {
     "output_type": "display_data",
     "metadata": {
      "application/vnd.databricks.v1+output": {
       "datasetInfos": [
        {
         "name": "trainDF",
         "typeStr": "pyspark.sql.dataframe.DataFrame",
         "schema": {
          "fields": [
           {
            "metadata": {},
            "name": "age",
            "nullable": true,
            "type": "integer"
           },
           {
            "metadata": {},
            "name": "bmi",
            "nullable": true,
            "type": "double"
           },
           {
            "metadata": {},
            "name": "children",
            "nullable": true,
            "type": "integer"
           },
           {
            "metadata": {},
            "name": "region",
            "nullable": true,
            "type": "string"
           },
           {
            "metadata": {},
            "name": "charges",
            "nullable": true,
            "type": "double"
           },
           {
            "metadata": {},
            "name": "gender_cd",
            "nullable": true,
            "type": "integer"
           },
           {
            "metadata": {},
            "name": "smoker_cd",
            "nullable": true,
            "type": "integer"
           },
           {
            "metadata": {},
            "name": "row_num",
            "nullable": true,
            "type": "integer"
           },
           {
            "metadata": {},
            "name": "percent_rank",
            "nullable": true,
            "type": "double"
           },
           {
            "metadata": {},
            "name": "top05_trgt",
            "nullable": false,
            "type": "integer"
           },
           {
            "metadata": {},
            "name": "top10_trgt",
            "nullable": false,
            "type": "integer"
           },
           {
            "metadata": {},
            "name": "top25_trgt",
            "nullable": false,
            "type": "integer"
           }
          ],
          "type": "struct"
         },
         "tableIdentifier": null
        },
        {
         "name": "testDF",
         "typeStr": "pyspark.sql.dataframe.DataFrame",
         "schema": {
          "fields": [
           {
            "metadata": {},
            "name": "age",
            "nullable": true,
            "type": "integer"
           },
           {
            "metadata": {},
            "name": "bmi",
            "nullable": true,
            "type": "double"
           },
           {
            "metadata": {},
            "name": "children",
            "nullable": true,
            "type": "integer"
           },
           {
            "metadata": {},
            "name": "region",
            "nullable": true,
            "type": "string"
           },
           {
            "metadata": {},
            "name": "charges",
            "nullable": true,
            "type": "double"
           },
           {
            "metadata": {},
            "name": "gender_cd",
            "nullable": true,
            "type": "integer"
           },
           {
            "metadata": {},
            "name": "smoker_cd",
            "nullable": true,
            "type": "integer"
           },
           {
            "metadata": {},
            "name": "row_num",
            "nullable": true,
            "type": "integer"
           },
           {
            "metadata": {},
            "name": "percent_rank",
            "nullable": true,
            "type": "double"
           },
           {
            "metadata": {},
            "name": "top05_trgt",
            "nullable": false,
            "type": "integer"
           },
           {
            "metadata": {},
            "name": "top10_trgt",
            "nullable": false,
            "type": "integer"
           },
           {
            "metadata": {},
            "name": "top25_trgt",
            "nullable": false,
            "type": "integer"
           }
          ],
          "type": "struct"
         },
         "tableIdentifier": null
        }
       ],
       "data": "<div class=\"ansiout\">There are 919 records in the training dataset.\nThere are 419 records in the testing dataset.\n</div>",
       "removedWidgets": [],
       "addedWidgets": {},
       "metadata": {},
       "type": "html",
       "arguments": {}
      }
     },
     "data": {
      "text/html": [
       "<style scoped>\n",
       "  .ansiout {\n",
       "    display: block;\n",
       "    unicode-bidi: embed;\n",
       "    white-space: pre-wrap;\n",
       "    word-wrap: break-word;\n",
       "    word-break: break-all;\n",
       "    font-family: \"Source Code Pro\", \"Menlo\", monospace;;\n",
       "    font-size: 13px;\n",
       "    color: #555;\n",
       "    margin-left: 4px;\n",
       "    line-height: 19px;\n",
       "  }\n",
       "</style>\n",
       "<div class=\"ansiout\">There are 919 records in the training dataset.\n",
       "There are 419 records in the testing dataset.\n",
       "</div>"
      ]
     }
    }
   ],
   "execution_count": 0
  },
  {
   "cell_type": "code",
   "source": [
    "#One hot encoding of string feature Region\n",
    "trainDF.groupBy('region').count().show()"
   ],
   "metadata": {
    "application/vnd.databricks.v1+cell": {
     "showTitle": false,
     "cellMetadata": {
      "rowLimit": 10000,
      "byteLimit": 2048000
     },
     "nuid": "4c55f571-4694-4f39-8693-fc6bf9a83871",
     "inputWidgets": {},
     "title": ""
    }
   },
   "outputs": [
    {
     "output_type": "display_data",
     "metadata": {
      "application/vnd.databricks.v1+output": {
       "datasetInfos": [],
       "data": "<div class=\"ansiout\">+---------+-----+\n|   region|count|\n+---------+-----+\n|northeast|  222|\n|southeast|  261|\n|southwest|  224|\n|northwest|  212|\n+---------+-----+\n\n</div>",
       "removedWidgets": [],
       "addedWidgets": {},
       "metadata": {},
       "type": "html",
       "arguments": {}
      }
     },
     "data": {
      "text/html": [
       "<style scoped>\n",
       "  .ansiout {\n",
       "    display: block;\n",
       "    unicode-bidi: embed;\n",
       "    white-space: pre-wrap;\n",
       "    word-wrap: break-word;\n",
       "    word-break: break-all;\n",
       "    font-family: \"Source Code Pro\", \"Menlo\", monospace;;\n",
       "    font-size: 13px;\n",
       "    color: #555;\n",
       "    margin-left: 4px;\n",
       "    line-height: 19px;\n",
       "  }\n",
       "</style>\n",
       "<div class=\"ansiout\">+---------+-----+\n",
       "   region|count|\n",
       "+---------+-----+\n",
       "northeast|  222|\n",
       "southeast|  261|\n",
       "southwest|  224|\n",
       "northwest|  212|\n",
       "+---------+-----+\n",
       "\n",
       "</div>"
      ]
     }
    }
   ],
   "execution_count": 0
  },
  {
   "cell_type": "markdown",
   "source": [
    "##Now we need to modify the categorical variable region into one-hot-encoded version\n",
    " For this we will use a pipeline to do this in one step"
   ],
   "metadata": {
    "application/vnd.databricks.v1+cell": {
     "showTitle": false,
     "cellMetadata": {
      "rowLimit": 10000,
      "byteLimit": 2048000
     },
     "nuid": "49346026-09ef-4c39-99d4-cbec017e789e",
     "inputWidgets": {},
     "title": ""
    }
   }
  },
  {
   "cell_type": "code",
   "source": [
    "#You can also create a pipeline and do everything together in one easy fit and transform step\n",
    "from pyspark.ml import Pipeline\n",
    "from pyspark.ml.feature import StringIndexer, VectorAssembler\n",
    " \n",
    "categoricalColumns = [\"region\"]\n",
    "stages = [] # stages in Pipeline\n",
    "for categoricalCol in categoricalColumns:\n",
    "    # Category Indexing with StringIndexer\n",
    "    stringIndexer = StringIndexer(inputCol=categoricalCol, outputCol=categoricalCol + \"Index\")\n",
    "    \n",
    "# Use OneHotEncoder to convert categorical variables into binary SparseVectors\n",
    "from pyspark.ml.feature import OneHotEncoder\n",
    "encoder = OneHotEncoder(inputCols=[stringIndexer.getOutputCol()], outputCols=[categoricalCol + \"classVec\"])\n",
    "\n",
    "# Define the pipeline based on the stages created in previous steps.\n",
    "pipeline = Pipeline(stages=[stringIndexer, encoder])\n",
    " \n",
    "# Define the pipeline model.\n",
    "transform_mdl = pipeline.fit(trainDF)\n",
    "trainDF21=transform_mdl.transform(trainDF)\n",
    "trainDF21.show()"
   ],
   "metadata": {
    "application/vnd.databricks.v1+cell": {
     "showTitle": false,
     "cellMetadata": {
      "rowLimit": 10000,
      "byteLimit": 2048000
     },
     "nuid": "c1805ce5-cbc3-4de4-9b0f-7685d61aee10",
     "inputWidgets": {},
     "title": ""
    }
   },
   "outputs": [
    {
     "output_type": "display_data",
     "metadata": {
      "application/vnd.databricks.v1+output": {
       "datasetInfos": [
        {
         "name": "trainDF21",
         "typeStr": "pyspark.sql.dataframe.DataFrame",
         "schema": {
          "fields": [
           {
            "metadata": {},
            "name": "age",
            "nullable": true,
            "type": "integer"
           },
           {
            "metadata": {},
            "name": "bmi",
            "nullable": true,
            "type": "double"
           },
           {
            "metadata": {},
            "name": "children",
            "nullable": true,
            "type": "integer"
           },
           {
            "metadata": {},
            "name": "region",
            "nullable": true,
            "type": "string"
           },
           {
            "metadata": {},
            "name": "charges",
            "nullable": true,
            "type": "double"
           },
           {
            "metadata": {},
            "name": "gender_cd",
            "nullable": true,
            "type": "integer"
           },
           {
            "metadata": {},
            "name": "smoker_cd",
            "nullable": true,
            "type": "integer"
           },
           {
            "metadata": {},
            "name": "row_num",
            "nullable": true,
            "type": "integer"
           },
           {
            "metadata": {},
            "name": "percent_rank",
            "nullable": true,
            "type": "double"
           },
           {
            "metadata": {},
            "name": "top05_trgt",
            "nullable": false,
            "type": "integer"
           },
           {
            "metadata": {},
            "name": "top10_trgt",
            "nullable": false,
            "type": "integer"
           },
           {
            "metadata": {},
            "name": "top25_trgt",
            "nullable": false,
            "type": "integer"
           },
           {
            "metadata": {
             "ml_attr": {
              "name": "regionIndex",
              "type": "nominal",
              "vals": [
               "southeast",
               "southwest",
               "northeast",
               "northwest"
              ]
             }
            },
            "name": "regionIndex",
            "nullable": false,
            "type": "double"
           },
           {
            "metadata": {
             "ml_attr": {
              "attrs": {
               "binary": [
                {
                 "idx": 0,
                 "name": "southeast"
                },
                {
                 "idx": 1,
                 "name": "southwest"
                },
                {
                 "idx": 2,
                 "name": "northeast"
                }
               ]
              },
              "num_attrs": 3
             }
            },
            "name": "regionclassVec",
            "nullable": true,
            "type": {
             "class": "org.apache.spark.ml.linalg.VectorUDT",
             "pyClass": "pyspark.ml.linalg.VectorUDT",
             "sqlType": {
              "fields": [
               {
                "metadata": {},
                "name": "type",
                "nullable": false,
                "type": "byte"
               },
               {
                "metadata": {},
                "name": "size",
                "nullable": true,
                "type": "integer"
               },
               {
                "metadata": {},
                "name": "indices",
                "nullable": true,
                "type": {
                 "containsNull": false,
                 "elementType": "integer",
                 "type": "array"
                }
               },
               {
                "metadata": {},
                "name": "values",
                "nullable": true,
                "type": {
                 "containsNull": false,
                 "elementType": "double",
                 "type": "array"
                }
               }
              ],
              "type": "struct"
             },
             "type": "udt"
            }
           }
          ],
          "type": "struct"
         },
         "tableIdentifier": null
        }
       ],
       "data": "<div class=\"ansiout\">+---+------+--------+---------+-----------+---------+---------+-------+--------------------+----------+----------+----------+-----------+--------------+\n|age|   bmi|children|   region|    charges|gender_cd|smoker_cd|row_num|        percent_rank|top05_trgt|top10_trgt|top25_trgt|regionIndex|regionclassVec|\n+---+------+--------+---------+-----------+---------+---------+-------+--------------------+----------+----------+----------+-----------+--------------+\n| 18| 15.96|       0|northeast|  1694.7964|        0|        0|     48|0.035153328347045626|         0|         0|         0|        2.0| (3,[2],[1.0])|\n| 18| 17.29|       2|northeast| 12829.4551|        0|        1|    893|  0.6671652954375468|         0|         0|         0|        2.0| (3,[2],[1.0])|\n| 18| 21.47|       0|northeast|  1702.4553|        0|        0|     49| 0.03590127150336574|         0|         0|         0|        2.0| (3,[2],[1.0])|\n| 18| 21.66|       0|northeast| 14283.4594|        1|        1|    959|  0.7165295437546746|         0|         0|         0|        2.0| (3,[2],[1.0])|\n| 18| 22.99|       0|northeast|  1704.5681|        0|        0|     50| 0.03664921465968586|         0|         0|         0|        2.0| (3,[2],[1.0])|\n| 18| 23.32|       1|southeast|  1711.0268|        0|        0|     55| 0.04038893044128646|         0|         0|         0|        0.0| (3,[0],[1.0])|\n| 18| 24.09|       1|southeast|  2201.0971|        1|        0|    117| 0.08676140613313388|         0|         0|         0|        0.0| (3,[0],[1.0])|\n| 18|26.125|       0|northeast| 1708.92575|        0|        0|     54|0.039640987284966345|         0|         0|         0|        2.0| (3,[2],[1.0])|\n| 18| 26.18|       2|southeast|  2304.0022|        0|        0|    132| 0.09798055347793568|         0|         0|         0|        0.0| (3,[0],[1.0])|\n| 18|26.315|       0|northeast| 2198.18985|        1|        0|    115| 0.08526551982049364|         0|         0|         0|        2.0| (3,[2],[1.0])|\n| 18| 27.28|       3|southeast| 18223.4512|        1|        1|   1029|   0.768885564697083|         0|         0|         1|        0.0| (3,[0],[1.0])|\n| 18|28.215|       0|northeast| 2200.83085|        1|        0|    116| 0.08601346297681377|         0|         0|         0|        2.0| (3,[2],[1.0])|\n| 18|29.165|       0|northeast|7323.734819|        1|        0|    529|  0.3949139865370232|         0|         0|         0|        2.0| (3,[2],[1.0])|\n| 18| 29.37|       1|southeast|  1719.4363|        0|        0|     57|0.041884816753926704|         0|         0|         0|        0.0| (3,[0],[1.0])|\n| 18| 30.03|       1|southeast|  1720.3537|        0|        0|     58| 0.04263275991024682|         0|         0|         0|        0.0| (3,[0],[1.0])|\n| 18|30.305|       0|northeast| 2203.73595|        1|        0|    119| 0.08825729244577413|         0|         0|         0|        2.0| (3,[2],[1.0])|\n| 18| 31.13|       0|southeast|  1621.8827|        1|        0|     28| 0.02019446522064323|         0|         0|         0|        0.0| (3,[0],[1.0])|\n| 18| 31.68|       2|southeast| 34303.1672|        0|        1|   1197|  0.8945400149588631|         0|         0|         1|        0.0| (3,[0],[1.0])|\n| 18| 31.73|       0|northeast| 33732.6867|        0|        1|   1191|  0.8900523560209425|         0|         0|         1|        2.0| (3,[2],[1.0])|\n| 18| 31.92|       0|northeast|  2205.9808|        1|        0|    120| 0.08900523560209424|         0|         0|         0|        2.0| (3,[2],[1.0])|\n+---+------+--------+---------+-----------+---------+---------+-------+--------------------+----------+----------+----------+-----------+--------------+\nonly showing top 20 rows\n\n</div>",
       "removedWidgets": [],
       "addedWidgets": {},
       "metadata": {},
       "type": "html",
       "arguments": {}
      }
     },
     "data": {
      "text/html": [
       "<style scoped>\n",
       "  .ansiout {\n",
       "    display: block;\n",
       "    unicode-bidi: embed;\n",
       "    white-space: pre-wrap;\n",
       "    word-wrap: break-word;\n",
       "    word-break: break-all;\n",
       "    font-family: \"Source Code Pro\", \"Menlo\", monospace;;\n",
       "    font-size: 13px;\n",
       "    color: #555;\n",
       "    margin-left: 4px;\n",
       "    line-height: 19px;\n",
       "  }\n",
       "</style>\n",
       "<div class=\"ansiout\">+---+------+--------+---------+-----------+---------+---------+-------+--------------------+----------+----------+----------+-----------+--------------+\n",
       "age|   bmi|children|   region|    charges|gender_cd|smoker_cd|row_num|        percent_rank|top05_trgt|top10_trgt|top25_trgt|regionIndex|regionclassVec|\n",
       "+---+------+--------+---------+-----------+---------+---------+-------+--------------------+----------+----------+----------+-----------+--------------+\n",
       " 18| 15.96|       0|northeast|  1694.7964|        0|        0|     48|0.035153328347045626|         0|         0|         0|        2.0| (3,[2],[1.0])|\n",
       " 18| 17.29|       2|northeast| 12829.4551|        0|        1|    893|  0.6671652954375468|         0|         0|         0|        2.0| (3,[2],[1.0])|\n",
       " 18| 21.47|       0|northeast|  1702.4553|        0|        0|     49| 0.03590127150336574|         0|         0|         0|        2.0| (3,[2],[1.0])|\n",
       " 18| 21.66|       0|northeast| 14283.4594|        1|        1|    959|  0.7165295437546746|         0|         0|         0|        2.0| (3,[2],[1.0])|\n",
       " 18| 22.99|       0|northeast|  1704.5681|        0|        0|     50| 0.03664921465968586|         0|         0|         0|        2.0| (3,[2],[1.0])|\n",
       " 18| 23.32|       1|southeast|  1711.0268|        0|        0|     55| 0.04038893044128646|         0|         0|         0|        0.0| (3,[0],[1.0])|\n",
       " 18| 24.09|       1|southeast|  2201.0971|        1|        0|    117| 0.08676140613313388|         0|         0|         0|        0.0| (3,[0],[1.0])|\n",
       " 18|26.125|       0|northeast| 1708.92575|        0|        0|     54|0.039640987284966345|         0|         0|         0|        2.0| (3,[2],[1.0])|\n",
       " 18| 26.18|       2|southeast|  2304.0022|        0|        0|    132| 0.09798055347793568|         0|         0|         0|        0.0| (3,[0],[1.0])|\n",
       " 18|26.315|       0|northeast| 2198.18985|        1|        0|    115| 0.08526551982049364|         0|         0|         0|        2.0| (3,[2],[1.0])|\n",
       " 18| 27.28|       3|southeast| 18223.4512|        1|        1|   1029|   0.768885564697083|         0|         0|         1|        0.0| (3,[0],[1.0])|\n",
       " 18|28.215|       0|northeast| 2200.83085|        1|        0|    116| 0.08601346297681377|         0|         0|         0|        2.0| (3,[2],[1.0])|\n",
       " 18|29.165|       0|northeast|7323.734819|        1|        0|    529|  0.3949139865370232|         0|         0|         0|        2.0| (3,[2],[1.0])|\n",
       " 18| 29.37|       1|southeast|  1719.4363|        0|        0|     57|0.041884816753926704|         0|         0|         0|        0.0| (3,[0],[1.0])|\n",
       " 18| 30.03|       1|southeast|  1720.3537|        0|        0|     58| 0.04263275991024682|         0|         0|         0|        0.0| (3,[0],[1.0])|\n",
       " 18|30.305|       0|northeast| 2203.73595|        1|        0|    119| 0.08825729244577413|         0|         0|         0|        2.0| (3,[2],[1.0])|\n",
       " 18| 31.13|       0|southeast|  1621.8827|        1|        0|     28| 0.02019446522064323|         0|         0|         0|        0.0| (3,[0],[1.0])|\n",
       " 18| 31.68|       2|southeast| 34303.1672|        0|        1|   1197|  0.8945400149588631|         0|         0|         1|        0.0| (3,[0],[1.0])|\n",
       " 18| 31.73|       0|northeast| 33732.6867|        0|        1|   1191|  0.8900523560209425|         0|         0|         1|        2.0| (3,[2],[1.0])|\n",
       " 18| 31.92|       0|northeast|  2205.9808|        1|        0|    120| 0.08900523560209424|         0|         0|         0|        2.0| (3,[2],[1.0])|\n",
       "+---+------+--------+---------+-----------+---------+---------+-------+--------------------+----------+----------+----------+-----------+--------------+\n",
       "only showing top 20 rows\n",
       "\n",
       "</div>"
      ]
     }
    }
   ],
   "execution_count": 0
  },
  {
   "cell_type": "code",
   "source": [
    "trainDF21.printSchema()"
   ],
   "metadata": {
    "application/vnd.databricks.v1+cell": {
     "showTitle": false,
     "cellMetadata": {
      "rowLimit": 10000,
      "byteLimit": 2048000
     },
     "nuid": "5c11e0f0-e60a-4fda-ac87-359b2fcf5145",
     "inputWidgets": {},
     "title": ""
    }
   },
   "outputs": [
    {
     "output_type": "display_data",
     "metadata": {
      "application/vnd.databricks.v1+output": {
       "datasetInfos": [],
       "data": "<div class=\"ansiout\">root\n |-- age: integer (nullable = true)\n |-- bmi: double (nullable = true)\n |-- children: integer (nullable = true)\n |-- region: string (nullable = true)\n |-- charges: double (nullable = true)\n |-- gender_cd: integer (nullable = true)\n |-- smoker_cd: integer (nullable = true)\n |-- row_num: integer (nullable = true)\n |-- percent_rank: double (nullable = true)\n |-- top05_trgt: integer (nullable = false)\n |-- top10_trgt: integer (nullable = false)\n |-- top25_trgt: integer (nullable = false)\n |-- regionIndex: double (nullable = false)\n |-- regionclassVec: vector (nullable = true)\n\n</div>",
       "removedWidgets": [],
       "addedWidgets": {},
       "metadata": {},
       "type": "html",
       "arguments": {}
      }
     },
     "data": {
      "text/html": [
       "<style scoped>\n",
       "  .ansiout {\n",
       "    display: block;\n",
       "    unicode-bidi: embed;\n",
       "    white-space: pre-wrap;\n",
       "    word-wrap: break-word;\n",
       "    word-break: break-all;\n",
       "    font-family: \"Source Code Pro\", \"Menlo\", monospace;;\n",
       "    font-size: 13px;\n",
       "    color: #555;\n",
       "    margin-left: 4px;\n",
       "    line-height: 19px;\n",
       "  }\n",
       "</style>\n",
       "<div class=\"ansiout\">root\n",
       "-- age: integer (nullable = true)\n",
       "-- bmi: double (nullable = true)\n",
       "-- children: integer (nullable = true)\n",
       "-- region: string (nullable = true)\n",
       "-- charges: double (nullable = true)\n",
       "-- gender_cd: integer (nullable = true)\n",
       "-- smoker_cd: integer (nullable = true)\n",
       "-- row_num: integer (nullable = true)\n",
       "-- percent_rank: double (nullable = true)\n",
       "-- top05_trgt: integer (nullable = false)\n",
       "-- top10_trgt: integer (nullable = false)\n",
       "-- top25_trgt: integer (nullable = false)\n",
       "-- regionIndex: double (nullable = false)\n",
       "-- regionclassVec: vector (nullable = true)\n",
       "\n",
       "</div>"
      ]
     }
    }
   ],
   "execution_count": 0
  },
  {
   "cell_type": "code",
   "source": [
    "# Linear regression expect a vector input\n",
    "vecAssembler = VectorAssembler(inputCols=['age','bmi','children','gender_cd','smoker_cd','regionclassVec'], outputCol=\"features\")\n",
    "vecTrainDF = vecAssembler.transform(trainDF21)\n",
    "\n",
    "# Take a look at the data\n",
    "#display(vecTrainDF)"
   ],
   "metadata": {
    "application/vnd.databricks.v1+cell": {
     "showTitle": false,
     "cellMetadata": {
      "rowLimit": 10000,
      "byteLimit": 2048000
     },
     "nuid": "f8fa852d-9b9d-459a-81a1-e921bdb941b1",
     "inputWidgets": {},
     "title": ""
    }
   },
   "outputs": [
    {
     "output_type": "display_data",
     "metadata": {
      "application/vnd.databricks.v1+output": {
       "datasetInfos": [
        {
         "name": "vecTrainDF",
         "typeStr": "pyspark.sql.dataframe.DataFrame",
         "schema": {
          "fields": [
           {
            "metadata": {},
            "name": "age",
            "nullable": true,
            "type": "integer"
           },
           {
            "metadata": {},
            "name": "bmi",
            "nullable": true,
            "type": "double"
           },
           {
            "metadata": {},
            "name": "children",
            "nullable": true,
            "type": "integer"
           },
           {
            "metadata": {},
            "name": "region",
            "nullable": true,
            "type": "string"
           },
           {
            "metadata": {},
            "name": "charges",
            "nullable": true,
            "type": "double"
           },
           {
            "metadata": {},
            "name": "gender_cd",
            "nullable": true,
            "type": "integer"
           },
           {
            "metadata": {},
            "name": "smoker_cd",
            "nullable": true,
            "type": "integer"
           },
           {
            "metadata": {},
            "name": "row_num",
            "nullable": true,
            "type": "integer"
           },
           {
            "metadata": {},
            "name": "percent_rank",
            "nullable": true,
            "type": "double"
           },
           {
            "metadata": {},
            "name": "top05_trgt",
            "nullable": false,
            "type": "integer"
           },
           {
            "metadata": {},
            "name": "top10_trgt",
            "nullable": false,
            "type": "integer"
           },
           {
            "metadata": {},
            "name": "top25_trgt",
            "nullable": false,
            "type": "integer"
           },
           {
            "metadata": {
             "ml_attr": {
              "name": "regionIndex",
              "type": "nominal",
              "vals": [
               "southeast",
               "southwest",
               "northeast",
               "northwest"
              ]
             }
            },
            "name": "regionIndex",
            "nullable": false,
            "type": "double"
           },
           {
            "metadata": {
             "ml_attr": {
              "attrs": {
               "binary": [
                {
                 "idx": 0,
                 "name": "southeast"
                },
                {
                 "idx": 1,
                 "name": "southwest"
                },
                {
                 "idx": 2,
                 "name": "northeast"
                }
               ]
              },
              "num_attrs": 3
             }
            },
            "name": "regionclassVec",
            "nullable": true,
            "type": {
             "class": "org.apache.spark.ml.linalg.VectorUDT",
             "pyClass": "pyspark.ml.linalg.VectorUDT",
             "sqlType": {
              "fields": [
               {
                "metadata": {},
                "name": "type",
                "nullable": false,
                "type": "byte"
               },
               {
                "metadata": {},
                "name": "size",
                "nullable": true,
                "type": "integer"
               },
               {
                "metadata": {},
                "name": "indices",
                "nullable": true,
                "type": {
                 "containsNull": false,
                 "elementType": "integer",
                 "type": "array"
                }
               },
               {
                "metadata": {},
                "name": "values",
                "nullable": true,
                "type": {
                 "containsNull": false,
                 "elementType": "double",
                 "type": "array"
                }
               }
              ],
              "type": "struct"
             },
             "type": "udt"
            }
           },
           {
            "metadata": {
             "ml_attr": {
              "attrs": {
               "binary": [
                {
                 "idx": 5,
                 "name": "regionclassVec_southeast"
                },
                {
                 "idx": 6,
                 "name": "regionclassVec_southwest"
                },
                {
                 "idx": 7,
                 "name": "regionclassVec_northeast"
                }
               ],
               "numeric": [
                {
                 "idx": 0,
                 "name": "age"
                },
                {
                 "idx": 1,
                 "name": "bmi"
                },
                {
                 "idx": 2,
                 "name": "children"
                },
                {
                 "idx": 3,
                 "name": "gender_cd"
                },
                {
                 "idx": 4,
                 "name": "smoker_cd"
                }
               ]
              },
              "num_attrs": 8
             }
            },
            "name": "features",
            "nullable": true,
            "type": {
             "class": "org.apache.spark.ml.linalg.VectorUDT",
             "pyClass": "pyspark.ml.linalg.VectorUDT",
             "sqlType": {
              "fields": [
               {
                "metadata": {},
                "name": "type",
                "nullable": false,
                "type": "byte"
               },
               {
                "metadata": {},
                "name": "size",
                "nullable": true,
                "type": "integer"
               },
               {
                "metadata": {},
                "name": "indices",
                "nullable": true,
                "type": {
                 "containsNull": false,
                 "elementType": "integer",
                 "type": "array"
                }
               },
               {
                "metadata": {},
                "name": "values",
                "nullable": true,
                "type": {
                 "containsNull": false,
                 "elementType": "double",
                 "type": "array"
                }
               }
              ],
              "type": "struct"
             },
             "type": "udt"
            }
           }
          ],
          "type": "struct"
         },
         "tableIdentifier": null
        }
       ],
       "data": "<div class=\"ansiout\"></div>",
       "removedWidgets": [],
       "addedWidgets": {},
       "metadata": {},
       "type": "html",
       "arguments": {}
      }
     },
     "data": {
      "text/html": [
       "<style scoped>\n",
       "  .ansiout {\n",
       "    display: block;\n",
       "    unicode-bidi: embed;\n",
       "    white-space: pre-wrap;\n",
       "    word-wrap: break-word;\n",
       "    word-break: break-all;\n",
       "    font-family: \"Source Code Pro\", \"Menlo\", monospace;;\n",
       "    font-size: 13px;\n",
       "    color: #555;\n",
       "    margin-left: 4px;\n",
       "    line-height: 19px;\n",
       "  }\n",
       "</style>\n",
       "<div class=\"ansiout\"></div>"
      ]
     }
    }
   ],
   "execution_count": 0
  },
  {
   "cell_type": "code",
   "source": [
    "testDF21=transform_mdl.transform(testDF) #do the data transformation using saved parameters from training\n",
    "vecTestDF = vecAssembler.transform(testDF21) #do the feature transformation using vector assembler"
   ],
   "metadata": {
    "application/vnd.databricks.v1+cell": {
     "showTitle": false,
     "cellMetadata": {
      "rowLimit": 10000,
      "byteLimit": 2048000
     },
     "nuid": "0a0fdc97-ebb2-4e4f-b8c3-bdba614e2051",
     "inputWidgets": {},
     "title": ""
    }
   },
   "outputs": [
    {
     "output_type": "display_data",
     "metadata": {
      "application/vnd.databricks.v1+output": {
       "datasetInfos": [
        {
         "name": "testDF21",
         "typeStr": "pyspark.sql.dataframe.DataFrame",
         "schema": {
          "fields": [
           {
            "metadata": {},
            "name": "age",
            "nullable": true,
            "type": "integer"
           },
           {
            "metadata": {},
            "name": "bmi",
            "nullable": true,
            "type": "double"
           },
           {
            "metadata": {},
            "name": "children",
            "nullable": true,
            "type": "integer"
           },
           {
            "metadata": {},
            "name": "region",
            "nullable": true,
            "type": "string"
           },
           {
            "metadata": {},
            "name": "charges",
            "nullable": true,
            "type": "double"
           },
           {
            "metadata": {},
            "name": "gender_cd",
            "nullable": true,
            "type": "integer"
           },
           {
            "metadata": {},
            "name": "smoker_cd",
            "nullable": true,
            "type": "integer"
           },
           {
            "metadata": {},
            "name": "row_num",
            "nullable": true,
            "type": "integer"
           },
           {
            "metadata": {},
            "name": "percent_rank",
            "nullable": true,
            "type": "double"
           },
           {
            "metadata": {},
            "name": "top05_trgt",
            "nullable": false,
            "type": "integer"
           },
           {
            "metadata": {},
            "name": "top10_trgt",
            "nullable": false,
            "type": "integer"
           },
           {
            "metadata": {},
            "name": "top25_trgt",
            "nullable": false,
            "type": "integer"
           },
           {
            "metadata": {
             "ml_attr": {
              "name": "regionIndex",
              "type": "nominal",
              "vals": [
               "southeast",
               "southwest",
               "northeast",
               "northwest"
              ]
             }
            },
            "name": "regionIndex",
            "nullable": false,
            "type": "double"
           },
           {
            "metadata": {
             "ml_attr": {
              "attrs": {
               "binary": [
                {
                 "idx": 0,
                 "name": "southeast"
                },
                {
                 "idx": 1,
                 "name": "southwest"
                },
                {
                 "idx": 2,
                 "name": "northeast"
                }
               ]
              },
              "num_attrs": 3
             }
            },
            "name": "regionclassVec",
            "nullable": true,
            "type": {
             "class": "org.apache.spark.ml.linalg.VectorUDT",
             "pyClass": "pyspark.ml.linalg.VectorUDT",
             "sqlType": {
              "fields": [
               {
                "metadata": {},
                "name": "type",
                "nullable": false,
                "type": "byte"
               },
               {
                "metadata": {},
                "name": "size",
                "nullable": true,
                "type": "integer"
               },
               {
                "metadata": {},
                "name": "indices",
                "nullable": true,
                "type": {
                 "containsNull": false,
                 "elementType": "integer",
                 "type": "array"
                }
               },
               {
                "metadata": {},
                "name": "values",
                "nullable": true,
                "type": {
                 "containsNull": false,
                 "elementType": "double",
                 "type": "array"
                }
               }
              ],
              "type": "struct"
             },
             "type": "udt"
            }
           }
          ],
          "type": "struct"
         },
         "tableIdentifier": null
        },
        {
         "name": "vecTestDF",
         "typeStr": "pyspark.sql.dataframe.DataFrame",
         "schema": {
          "fields": [
           {
            "metadata": {},
            "name": "age",
            "nullable": true,
            "type": "integer"
           },
           {
            "metadata": {},
            "name": "bmi",
            "nullable": true,
            "type": "double"
           },
           {
            "metadata": {},
            "name": "children",
            "nullable": true,
            "type": "integer"
           },
           {
            "metadata": {},
            "name": "region",
            "nullable": true,
            "type": "string"
           },
           {
            "metadata": {},
            "name": "charges",
            "nullable": true,
            "type": "double"
           },
           {
            "metadata": {},
            "name": "gender_cd",
            "nullable": true,
            "type": "integer"
           },
           {
            "metadata": {},
            "name": "smoker_cd",
            "nullable": true,
            "type": "integer"
           },
           {
            "metadata": {},
            "name": "row_num",
            "nullable": true,
            "type": "integer"
           },
           {
            "metadata": {},
            "name": "percent_rank",
            "nullable": true,
            "type": "double"
           },
           {
            "metadata": {},
            "name": "top05_trgt",
            "nullable": false,
            "type": "integer"
           },
           {
            "metadata": {},
            "name": "top10_trgt",
            "nullable": false,
            "type": "integer"
           },
           {
            "metadata": {},
            "name": "top25_trgt",
            "nullable": false,
            "type": "integer"
           },
           {
            "metadata": {
             "ml_attr": {
              "name": "regionIndex",
              "type": "nominal",
              "vals": [
               "southeast",
               "southwest",
               "northeast",
               "northwest"
              ]
             }
            },
            "name": "regionIndex",
            "nullable": false,
            "type": "double"
           },
           {
            "metadata": {
             "ml_attr": {
              "attrs": {
               "binary": [
                {
                 "idx": 0,
                 "name": "southeast"
                },
                {
                 "idx": 1,
                 "name": "southwest"
                },
                {
                 "idx": 2,
                 "name": "northeast"
                }
               ]
              },
              "num_attrs": 3
             }
            },
            "name": "regionclassVec",
            "nullable": true,
            "type": {
             "class": "org.apache.spark.ml.linalg.VectorUDT",
             "pyClass": "pyspark.ml.linalg.VectorUDT",
             "sqlType": {
              "fields": [
               {
                "metadata": {},
                "name": "type",
                "nullable": false,
                "type": "byte"
               },
               {
                "metadata": {},
                "name": "size",
                "nullable": true,
                "type": "integer"
               },
               {
                "metadata": {},
                "name": "indices",
                "nullable": true,
                "type": {
                 "containsNull": false,
                 "elementType": "integer",
                 "type": "array"
                }
               },
               {
                "metadata": {},
                "name": "values",
                "nullable": true,
                "type": {
                 "containsNull": false,
                 "elementType": "double",
                 "type": "array"
                }
               }
              ],
              "type": "struct"
             },
             "type": "udt"
            }
           },
           {
            "metadata": {
             "ml_attr": {
              "attrs": {
               "binary": [
                {
                 "idx": 5,
                 "name": "regionclassVec_southeast"
                },
                {
                 "idx": 6,
                 "name": "regionclassVec_southwest"
                },
                {
                 "idx": 7,
                 "name": "regionclassVec_northeast"
                }
               ],
               "numeric": [
                {
                 "idx": 0,
                 "name": "age"
                },
                {
                 "idx": 1,
                 "name": "bmi"
                },
                {
                 "idx": 2,
                 "name": "children"
                },
                {
                 "idx": 3,
                 "name": "gender_cd"
                },
                {
                 "idx": 4,
                 "name": "smoker_cd"
                }
               ]
              },
              "num_attrs": 8
             }
            },
            "name": "features",
            "nullable": true,
            "type": {
             "class": "org.apache.spark.ml.linalg.VectorUDT",
             "pyClass": "pyspark.ml.linalg.VectorUDT",
             "sqlType": {
              "fields": [
               {
                "metadata": {},
                "name": "type",
                "nullable": false,
                "type": "byte"
               },
               {
                "metadata": {},
                "name": "size",
                "nullable": true,
                "type": "integer"
               },
               {
                "metadata": {},
                "name": "indices",
                "nullable": true,
                "type": {
                 "containsNull": false,
                 "elementType": "integer",
                 "type": "array"
                }
               },
               {
                "metadata": {},
                "name": "values",
                "nullable": true,
                "type": {
                 "containsNull": false,
                 "elementType": "double",
                 "type": "array"
                }
               }
              ],
              "type": "struct"
             },
             "type": "udt"
            }
           }
          ],
          "type": "struct"
         },
         "tableIdentifier": null
        }
       ],
       "data": "<div class=\"ansiout\"></div>",
       "removedWidgets": [],
       "addedWidgets": {},
       "metadata": {},
       "type": "html",
       "arguments": {}
      }
     },
     "data": {
      "text/html": [
       "<style scoped>\n",
       "  .ansiout {\n",
       "    display: block;\n",
       "    unicode-bidi: embed;\n",
       "    white-space: pre-wrap;\n",
       "    word-wrap: break-word;\n",
       "    word-break: break-all;\n",
       "    font-family: \"Source Code Pro\", \"Menlo\", monospace;;\n",
       "    font-size: 13px;\n",
       "    color: #555;\n",
       "    margin-left: 4px;\n",
       "    line-height: 19px;\n",
       "  }\n",
       "</style>\n",
       "<div class=\"ansiout\"></div>"
      ]
     }
    }
   ],
   "execution_count": 0
  },
  {
   "cell_type": "code",
   "source": [
    "# Create linear regression\n",
    "lr = LogisticRegression(featuresCol=\"features\", labelCol=\"top10_trgt\")\n",
    "# Fit the linear regresssion model\n",
    "lrModel = lr.fit(vecTrainDF)\n",
    "predict_train = lrModel.transform(vecTrainDF)\n",
    "\n",
    "# Make predictions on testing dataset\n",
    "predict_test = lrModel.transform(vecTestDF) #make predictions using the trained model"
   ],
   "metadata": {
    "application/vnd.databricks.v1+cell": {
     "showTitle": false,
     "cellMetadata": {
      "rowLimit": 10000,
      "byteLimit": 2048000
     },
     "nuid": "2b2b03c5-11a2-4374-8d3c-c7ce7a6c4182",
     "inputWidgets": {},
     "title": ""
    }
   },
   "outputs": [
    {
     "output_type": "display_data",
     "metadata": {
      "application/vnd.databricks.v1+output": {
       "datasetInfos": [
        {
         "name": "predict_train",
         "typeStr": "pyspark.sql.dataframe.DataFrame",
         "schema": {
          "fields": [
           {
            "metadata": {},
            "name": "age",
            "nullable": true,
            "type": "integer"
           },
           {
            "metadata": {},
            "name": "bmi",
            "nullable": true,
            "type": "double"
           },
           {
            "metadata": {},
            "name": "children",
            "nullable": true,
            "type": "integer"
           },
           {
            "metadata": {},
            "name": "region",
            "nullable": true,
            "type": "string"
           },
           {
            "metadata": {},
            "name": "charges",
            "nullable": true,
            "type": "double"
           },
           {
            "metadata": {},
            "name": "gender_cd",
            "nullable": true,
            "type": "integer"
           },
           {
            "metadata": {},
            "name": "smoker_cd",
            "nullable": true,
            "type": "integer"
           },
           {
            "metadata": {},
            "name": "row_num",
            "nullable": true,
            "type": "integer"
           },
           {
            "metadata": {},
            "name": "percent_rank",
            "nullable": true,
            "type": "double"
           },
           {
            "metadata": {},
            "name": "top05_trgt",
            "nullable": false,
            "type": "integer"
           },
           {
            "metadata": {},
            "name": "top10_trgt",
            "nullable": false,
            "type": "integer"
           },
           {
            "metadata": {},
            "name": "top25_trgt",
            "nullable": false,
            "type": "integer"
           },
           {
            "metadata": {
             "ml_attr": {
              "name": "regionIndex",
              "type": "nominal",
              "vals": [
               "southeast",
               "southwest",
               "northeast",
               "northwest"
              ]
             }
            },
            "name": "regionIndex",
            "nullable": false,
            "type": "double"
           },
           {
            "metadata": {
             "ml_attr": {
              "attrs": {
               "binary": [
                {
                 "idx": 0,
                 "name": "southeast"
                },
                {
                 "idx": 1,
                 "name": "southwest"
                },
                {
                 "idx": 2,
                 "name": "northeast"
                }
               ]
              },
              "num_attrs": 3
             }
            },
            "name": "regionclassVec",
            "nullable": true,
            "type": {
             "class": "org.apache.spark.ml.linalg.VectorUDT",
             "pyClass": "pyspark.ml.linalg.VectorUDT",
             "sqlType": {
              "fields": [
               {
                "metadata": {},
                "name": "type",
                "nullable": false,
                "type": "byte"
               },
               {
                "metadata": {},
                "name": "size",
                "nullable": true,
                "type": "integer"
               },
               {
                "metadata": {},
                "name": "indices",
                "nullable": true,
                "type": {
                 "containsNull": false,
                 "elementType": "integer",
                 "type": "array"
                }
               },
               {
                "metadata": {},
                "name": "values",
                "nullable": true,
                "type": {
                 "containsNull": false,
                 "elementType": "double",
                 "type": "array"
                }
               }
              ],
              "type": "struct"
             },
             "type": "udt"
            }
           },
           {
            "metadata": {
             "ml_attr": {
              "attrs": {
               "binary": [
                {
                 "idx": 5,
                 "name": "regionclassVec_southeast"
                },
                {
                 "idx": 6,
                 "name": "regionclassVec_southwest"
                },
                {
                 "idx": 7,
                 "name": "regionclassVec_northeast"
                }
               ],
               "numeric": [
                {
                 "idx": 0,
                 "name": "age"
                },
                {
                 "idx": 1,
                 "name": "bmi"
                },
                {
                 "idx": 2,
                 "name": "children"
                },
                {
                 "idx": 3,
                 "name": "gender_cd"
                },
                {
                 "idx": 4,
                 "name": "smoker_cd"
                }
               ]
              },
              "num_attrs": 8
             }
            },
            "name": "features",
            "nullable": true,
            "type": {
             "class": "org.apache.spark.ml.linalg.VectorUDT",
             "pyClass": "pyspark.ml.linalg.VectorUDT",
             "sqlType": {
              "fields": [
               {
                "metadata": {},
                "name": "type",
                "nullable": false,
                "type": "byte"
               },
               {
                "metadata": {},
                "name": "size",
                "nullable": true,
                "type": "integer"
               },
               {
                "metadata": {},
                "name": "indices",
                "nullable": true,
                "type": {
                 "containsNull": false,
                 "elementType": "integer",
                 "type": "array"
                }
               },
               {
                "metadata": {},
                "name": "values",
                "nullable": true,
                "type": {
                 "containsNull": false,
                 "elementType": "double",
                 "type": "array"
                }
               }
              ],
              "type": "struct"
             },
             "type": "udt"
            }
           },
           {
            "metadata": {
             "ml_attr": {
              "num_attrs": 2
             }
            },
            "name": "rawPrediction",
            "nullable": true,
            "type": {
             "class": "org.apache.spark.ml.linalg.VectorUDT",
             "pyClass": "pyspark.ml.linalg.VectorUDT",
             "sqlType": {
              "fields": [
               {
                "metadata": {},
                "name": "type",
                "nullable": false,
                "type": "byte"
               },
               {
                "metadata": {},
                "name": "size",
                "nullable": true,
                "type": "integer"
               },
               {
                "metadata": {},
                "name": "indices",
                "nullable": true,
                "type": {
                 "containsNull": false,
                 "elementType": "integer",
                 "type": "array"
                }
               },
               {
                "metadata": {},
                "name": "values",
                "nullable": true,
                "type": {
                 "containsNull": false,
                 "elementType": "double",
                 "type": "array"
                }
               }
              ],
              "type": "struct"
             },
             "type": "udt"
            }
           },
           {
            "metadata": {
             "ml_attr": {
              "num_attrs": 2
             }
            },
            "name": "probability",
            "nullable": true,
            "type": {
             "class": "org.apache.spark.ml.linalg.VectorUDT",
             "pyClass": "pyspark.ml.linalg.VectorUDT",
             "sqlType": {
              "fields": [
               {
                "metadata": {},
                "name": "type",
                "nullable": false,
                "type": "byte"
               },
               {
                "metadata": {},
                "name": "size",
                "nullable": true,
                "type": "integer"
               },
               {
                "metadata": {},
                "name": "indices",
                "nullable": true,
                "type": {
                 "containsNull": false,
                 "elementType": "integer",
                 "type": "array"
                }
               },
               {
                "metadata": {},
                "name": "values",
                "nullable": true,
                "type": {
                 "containsNull": false,
                 "elementType": "double",
                 "type": "array"
                }
               }
              ],
              "type": "struct"
             },
             "type": "udt"
            }
           },
           {
            "metadata": {
             "ml_attr": {
              "num_vals": 2,
              "type": "nominal"
             }
            },
            "name": "prediction",
            "nullable": false,
            "type": "double"
           }
          ],
          "type": "struct"
         },
         "tableIdentifier": null
        },
        {
         "name": "predict_test",
         "typeStr": "pyspark.sql.dataframe.DataFrame",
         "schema": {
          "fields": [
           {
            "metadata": {},
            "name": "age",
            "nullable": true,
            "type": "integer"
           },
           {
            "metadata": {},
            "name": "bmi",
            "nullable": true,
            "type": "double"
           },
           {
            "metadata": {},
            "name": "children",
            "nullable": true,
            "type": "integer"
           },
           {
            "metadata": {},
            "name": "region",
            "nullable": true,
            "type": "string"
           },
           {
            "metadata": {},
            "name": "charges",
            "nullable": true,
            "type": "double"
           },
           {
            "metadata": {},
            "name": "gender_cd",
            "nullable": true,
            "type": "integer"
           },
           {
            "metadata": {},
            "name": "smoker_cd",
            "nullable": true,
            "type": "integer"
           },
           {
            "metadata": {},
            "name": "row_num",
            "nullable": true,
            "type": "integer"
           },
           {
            "metadata": {},
            "name": "percent_rank",
            "nullable": true,
            "type": "double"
           },
           {
            "metadata": {},
            "name": "top05_trgt",
            "nullable": false,
            "type": "integer"
           },
           {
            "metadata": {},
            "name": "top10_trgt",
            "nullable": false,
            "type": "integer"
           },
           {
            "metadata": {},
            "name": "top25_trgt",
            "nullable": false,
            "type": "integer"
           },
           {
            "metadata": {
             "ml_attr": {
              "name": "regionIndex",
              "type": "nominal",
              "vals": [
               "southeast",
               "southwest",
               "northeast",
               "northwest"
              ]
             }
            },
            "name": "regionIndex",
            "nullable": false,
            "type": "double"
           },
           {
            "metadata": {
             "ml_attr": {
              "attrs": {
               "binary": [
                {
                 "idx": 0,
                 "name": "southeast"
                },
                {
                 "idx": 1,
                 "name": "southwest"
                },
                {
                 "idx": 2,
                 "name": "northeast"
                }
               ]
              },
              "num_attrs": 3
             }
            },
            "name": "regionclassVec",
            "nullable": true,
            "type": {
             "class": "org.apache.spark.ml.linalg.VectorUDT",
             "pyClass": "pyspark.ml.linalg.VectorUDT",
             "sqlType": {
              "fields": [
               {
                "metadata": {},
                "name": "type",
                "nullable": false,
                "type": "byte"
               },
               {
                "metadata": {},
                "name": "size",
                "nullable": true,
                "type": "integer"
               },
               {
                "metadata": {},
                "name": "indices",
                "nullable": true,
                "type": {
                 "containsNull": false,
                 "elementType": "integer",
                 "type": "array"
                }
               },
               {
                "metadata": {},
                "name": "values",
                "nullable": true,
                "type": {
                 "containsNull": false,
                 "elementType": "double",
                 "type": "array"
                }
               }
              ],
              "type": "struct"
             },
             "type": "udt"
            }
           },
           {
            "metadata": {
             "ml_attr": {
              "attrs": {
               "binary": [
                {
                 "idx": 5,
                 "name": "regionclassVec_southeast"
                },
                {
                 "idx": 6,
                 "name": "regionclassVec_southwest"
                },
                {
                 "idx": 7,
                 "name": "regionclassVec_northeast"
                }
               ],
               "numeric": [
                {
                 "idx": 0,
                 "name": "age"
                },
                {
                 "idx": 1,
                 "name": "bmi"
                },
                {
                 "idx": 2,
                 "name": "children"
                },
                {
                 "idx": 3,
                 "name": "gender_cd"
                },
                {
                 "idx": 4,
                 "name": "smoker_cd"
                }
               ]
              },
              "num_attrs": 8
             }
            },
            "name": "features",
            "nullable": true,
            "type": {
             "class": "org.apache.spark.ml.linalg.VectorUDT",
             "pyClass": "pyspark.ml.linalg.VectorUDT",
             "sqlType": {
              "fields": [
               {
                "metadata": {},
                "name": "type",
                "nullable": false,
                "type": "byte"
               },
               {
                "metadata": {},
                "name": "size",
                "nullable": true,
                "type": "integer"
               },
               {
                "metadata": {},
                "name": "indices",
                "nullable": true,
                "type": {
                 "containsNull": false,
                 "elementType": "integer",
                 "type": "array"
                }
               },
               {
                "metadata": {},
                "name": "values",
                "nullable": true,
                "type": {
                 "containsNull": false,
                 "elementType": "double",
                 "type": "array"
                }
               }
              ],
              "type": "struct"
             },
             "type": "udt"
            }
           },
           {
            "metadata": {
             "ml_attr": {
              "num_attrs": 2
             }
            },
            "name": "rawPrediction",
            "nullable": true,
            "type": {
             "class": "org.apache.spark.ml.linalg.VectorUDT",
             "pyClass": "pyspark.ml.linalg.VectorUDT",
             "sqlType": {
              "fields": [
               {
                "metadata": {},
                "name": "type",
                "nullable": false,
                "type": "byte"
               },
               {
                "metadata": {},
                "name": "size",
                "nullable": true,
                "type": "integer"
               },
               {
                "metadata": {},
                "name": "indices",
                "nullable": true,
                "type": {
                 "containsNull": false,
                 "elementType": "integer",
                 "type": "array"
                }
               },
               {
                "metadata": {},
                "name": "values",
                "nullable": true,
                "type": {
                 "containsNull": false,
                 "elementType": "double",
                 "type": "array"
                }
               }
              ],
              "type": "struct"
             },
             "type": "udt"
            }
           },
           {
            "metadata": {
             "ml_attr": {
              "num_attrs": 2
             }
            },
            "name": "probability",
            "nullable": true,
            "type": {
             "class": "org.apache.spark.ml.linalg.VectorUDT",
             "pyClass": "pyspark.ml.linalg.VectorUDT",
             "sqlType": {
              "fields": [
               {
                "metadata": {},
                "name": "type",
                "nullable": false,
                "type": "byte"
               },
               {
                "metadata": {},
                "name": "size",
                "nullable": true,
                "type": "integer"
               },
               {
                "metadata": {},
                "name": "indices",
                "nullable": true,
                "type": {
                 "containsNull": false,
                 "elementType": "integer",
                 "type": "array"
                }
               },
               {
                "metadata": {},
                "name": "values",
                "nullable": true,
                "type": {
                 "containsNull": false,
                 "elementType": "double",
                 "type": "array"
                }
               }
              ],
              "type": "struct"
             },
             "type": "udt"
            }
           },
           {
            "metadata": {
             "ml_attr": {
              "num_vals": 2,
              "type": "nominal"
             }
            },
            "name": "prediction",
            "nullable": false,
            "type": "double"
           }
          ],
          "type": "struct"
         },
         "tableIdentifier": null
        }
       ],
       "data": "<div class=\"ansiout\"></div>",
       "removedWidgets": [],
       "addedWidgets": {},
       "metadata": {},
       "type": "html",
       "arguments": {}
      }
     },
     "data": {
      "text/html": [
       "<style scoped>\n",
       "  .ansiout {\n",
       "    display: block;\n",
       "    unicode-bidi: embed;\n",
       "    white-space: pre-wrap;\n",
       "    word-wrap: break-word;\n",
       "    word-break: break-all;\n",
       "    font-family: \"Source Code Pro\", \"Menlo\", monospace;;\n",
       "    font-size: 13px;\n",
       "    color: #555;\n",
       "    margin-left: 4px;\n",
       "    line-height: 19px;\n",
       "  }\n",
       "</style>\n",
       "<div class=\"ansiout\"></div>"
      ]
     }
    }
   ],
   "execution_count": 0
  },
  {
   "cell_type": "code",
   "source": [
    "from pyspark.ml.evaluation import BinaryClassificationEvaluator\n",
    "\n",
    "eval = BinaryClassificationEvaluator(labelCol = \"top10_trgt\")\n",
    "\n",
    "auc_train = eval.evaluate(predict_train)\n",
    "print(auc_train)\n",
    "\n",
    "auc_test = eval.evaluate(predict_test)\n",
    "print(auc_test)\n"
   ],
   "metadata": {
    "application/vnd.databricks.v1+cell": {
     "showTitle": false,
     "cellMetadata": {
      "rowLimit": 10000,
      "byteLimit": 2048000
     },
     "nuid": "f2f1de5e-9f6a-4889-be79-2855c06c4369",
     "inputWidgets": {},
     "title": ""
    }
   },
   "outputs": [
    {
     "output_type": "display_data",
     "metadata": {
      "application/vnd.databricks.v1+output": {
       "datasetInfos": [],
       "data": "<div class=\"ansiout\">0.9859703417150278\n0.9949208443271769\n</div>",
       "removedWidgets": [],
       "addedWidgets": {},
       "metadata": {},
       "type": "html",
       "arguments": {}
      }
     },
     "data": {
      "text/html": [
       "<style scoped>\n",
       "  .ansiout {\n",
       "    display: block;\n",
       "    unicode-bidi: embed;\n",
       "    white-space: pre-wrap;\n",
       "    word-wrap: break-word;\n",
       "    word-break: break-all;\n",
       "    font-family: \"Source Code Pro\", \"Menlo\", monospace;;\n",
       "    font-size: 13px;\n",
       "    color: #555;\n",
       "    margin-left: 4px;\n",
       "    line-height: 19px;\n",
       "  }\n",
       "</style>\n",
       "<div class=\"ansiout\">0.9859703417150278\n",
       "0.9949208443271769\n",
       "</div>"
      ]
     }
    }
   ],
   "execution_count": 0
  },
  {
   "cell_type": "code",
   "source": [
    "print(lrModel.summary.areaUnderROC)\n",
    "print(\"Coefficients: \\n\" + str(lrModel.coefficientMatrix))\n",
    "print(\"Intercept: \" + str(lrModel.interceptVector))"
   ],
   "metadata": {
    "application/vnd.databricks.v1+cell": {
     "showTitle": false,
     "cellMetadata": {
      "rowLimit": 10000,
      "byteLimit": 2048000
     },
     "nuid": "f01805e6-0a59-4a0d-bb95-0337eeb193b5",
     "inputWidgets": {},
     "title": ""
    }
   },
   "outputs": [
    {
     "output_type": "display_data",
     "metadata": {
      "application/vnd.databricks.v1+output": {
       "datasetInfos": [],
       "data": "<div class=\"ansiout\">0.9858284977433917\nCoefficients: \nDenseMatrix([[ 0.06274767,  0.50424427,  0.30393565,  0.34952187, 10.16871613,\n              -0.06492295,  0.80747231,  0.39489357]])\nIntercept: [-28.831158721646403]\n</div>",
       "removedWidgets": [],
       "addedWidgets": {},
       "metadata": {},
       "type": "html",
       "arguments": {}
      }
     },
     "data": {
      "text/html": [
       "<style scoped>\n",
       "  .ansiout {\n",
       "    display: block;\n",
       "    unicode-bidi: embed;\n",
       "    white-space: pre-wrap;\n",
       "    word-wrap: break-word;\n",
       "    word-break: break-all;\n",
       "    font-family: \"Source Code Pro\", \"Menlo\", monospace;;\n",
       "    font-size: 13px;\n",
       "    color: #555;\n",
       "    margin-left: 4px;\n",
       "    line-height: 19px;\n",
       "  }\n",
       "</style>\n",
       "<div class=\"ansiout\">0.9858284977433917\n",
       "Coefficients: \n",
       "DenseMatrix([[ 0.06274767,  0.50424427,  0.30393565,  0.34952187, 10.16871613,\n",
       "              -0.06492295,  0.80747231,  0.39489357]])\n",
       "Intercept: [-28.831158721646403]\n",
       "</div>"
      ]
     }
    }
   ],
   "execution_count": 0
  },
  {
   "cell_type": "code",
   "source": [
    "import pandas as pd\n",
    "import time \n",
    "import sys\n",
    "from pyspark.sql.window import *\n",
    "from pyspark.sql.types import * \n",
    "from pyspark.sql.functions import *\n",
    "import pyspark.sql.functions as f\n",
    "\n",
    "def get_model_stats(print_lable,dataset,evaluator,mbr_id,target):\n",
    "  print(print_lable)\n",
    "  AUROC=evaluator.evaluate(dataset)\n",
    "  \n",
    "  tot_event=dataset.count()\n",
    "  tot_target=dataset.select(target).filter(f.col(target)==1).count()\n",
    "  inc_rate=float(tot_target)/float(tot_event)\n",
    "  print('Incidence rate in dataset: ',inc_rate)\n",
    "  print('AUROC: ',AUROC)\n",
    "  \n",
    "\n",
    "  def mbr_prob1(prob_vec):\n",
    "    return float(prob_vec[1]) #Get the second value from probability vector of the prediction since that is probability of target 1\n",
    "  def mbr_prob2(rawp_vec):\n",
    "    prob_vec = np.exp(rawp_vector)/(1+ np.exp(rawp_vec)) #this is the same as the logit function e**x/1+e**x\n",
    "    return float(prob_vec[1])\n",
    "  get_prob_1= udf(mbr_prob1, FloatType())\n",
    "  get_prob_2= udf(mbr_prob2, FloatType())\n",
    "\n",
    "  try:\n",
    "    df_plot_tmp = dataset.withColumn('prob_score', get_prob_1('probability'))\n",
    "  except:\n",
    "    df_plot_tmp = dataset.withColumn('prob_score', get_prob_2('rawPrediction'))\n",
    "  df_reg1=(df_plot_tmp.select(mbr_id,\"rawPrediction\",\"probability\",\"prob_score\",target))\n",
    "\n",
    "  #Create Percentiles based on the predicted probability\n",
    "  df_reg_12=  df_reg1.sort(col(\"prob_score\").desc())\n",
    "  df_reg_12 = df_reg_12.withColumn(\"new_column\",lit(\"ABC\"))\n",
    "  w = Window().partitionBy(\"new_column\").orderBy(col(\"prob_score\").desc())  \n",
    "  df_reg_12 = df_reg_12.withColumn(\"row_num\",row_number().over(w)).drop(\"new_column\")\n",
    "  df_reg2 = (df_reg_12\n",
    "             .withColumn(\"score_pctl\", f.percent_rank().over(Window.orderBy(f.col(\"row_num\"))))\n",
    "             .withColumn(\"pctl_cat\", f.when(f.col(\"score_pctl\")==1, f.lit(100)).otherwise(f.floor(f.col(\"score_pctl\")*100) + 1))\n",
    "             )\n",
    "  df_reg22 = (df_reg2\n",
    "              .groupBy(\"pctl_cat\")\n",
    "              .agg(f.mean(target).alias(\"pctl_target_rate\"),\\\n",
    "                   (f.sum(target)).alias(\"pctl_target_total\"),\\\n",
    "                   (f.count(mbr_id)).alias(\"total_count\"),\\\n",
    "                   (f.mean(\"prob_score\")).alias(\"mean_predicted_prob\")\n",
    "                  ,)\n",
    "              .orderBy(f.col(\"pctl_cat\"))\n",
    "              )\n",
    "\n",
    "  #Now let's create the cumulative percentiles\n",
    "  cum_sum = (df_reg22\n",
    "              .withColumn('cum_target', f.sum(df_reg22.pctl_target_total).over(Window.partitionBy().orderBy().rowsBetween(-sys.maxsize, 0)))\n",
    "              .withColumn('cum_total', f.sum(df_reg22.total_count).over(Window.partitionBy().orderBy().rowsBetween(-sys.maxsize, 0)))\n",
    "              .withColumn('cum_target_cap_rate',f.col(\"cum_target\")/f.col(\"cum_total\"))\n",
    "              .withColumn('cum_target_cap_of_total',((f.col(\"cum_target\")/tot_target))*100)\n",
    "            )\n",
    "  return cum_sum\n",
    "  "
   ],
   "metadata": {
    "application/vnd.databricks.v1+cell": {
     "showTitle": false,
     "cellMetadata": {
      "rowLimit": 10000,
      "byteLimit": 2048000
     },
     "nuid": "a74b1b89-c4f6-4e28-a55c-92cf3e93164f",
     "inputWidgets": {},
     "title": ""
    }
   },
   "outputs": [
    {
     "output_type": "display_data",
     "metadata": {
      "application/vnd.databricks.v1+output": {
       "datasetInfos": [],
       "data": "<div class=\"ansiout\"></div>",
       "removedWidgets": [],
       "addedWidgets": {},
       "metadata": {},
       "type": "html",
       "arguments": {}
      }
     },
     "data": {
      "text/html": [
       "<style scoped>\n",
       "  .ansiout {\n",
       "    display: block;\n",
       "    unicode-bidi: embed;\n",
       "    white-space: pre-wrap;\n",
       "    word-wrap: break-word;\n",
       "    word-break: break-all;\n",
       "    font-family: \"Source Code Pro\", \"Menlo\", monospace;;\n",
       "    font-size: 13px;\n",
       "    color: #555;\n",
       "    margin-left: 4px;\n",
       "    line-height: 19px;\n",
       "  }\n",
       "</style>\n",
       "<div class=\"ansiout\"></div>"
      ]
     }
    }
   ],
   "execution_count": 0
  },
  {
   "cell_type": "code",
   "source": [
    "cump_cap_details = get_model_stats(\"Logistic Regression\",predict_test,eval,\"row_num\",\"top10_trgt\")\n",
    "display(cump_cap_details)"
   ],
   "metadata": {
    "application/vnd.databricks.v1+cell": {
     "showTitle": false,
     "cellMetadata": {
      "rowLimit": 10000,
      "byteLimit": 2048000
     },
     "nuid": "d03a4e02-592b-4301-81ee-2bdc24fc2fc9",
     "inputWidgets": {},
     "title": ""
    }
   },
   "outputs": [
    {
     "output_type": "display_data",
     "metadata": {
      "application/vnd.databricks.v1+output": {
       "overflow": false,
       "datasetInfos": [
        {
         "name": "cump_cap_details",
         "typeStr": "pyspark.sql.dataframe.DataFrame",
         "schema": {
          "fields": [
           {
            "metadata": {},
            "name": "pctl_cat",
            "nullable": true,
            "type": "long"
           },
           {
            "metadata": {},
            "name": "pctl_target_rate",
            "nullable": true,
            "type": "double"
           },
           {
            "metadata": {},
            "name": "pctl_target_total",
            "nullable": true,
            "type": "long"
           },
           {
            "metadata": {},
            "name": "total_count",
            "nullable": false,
            "type": "long"
           },
           {
            "metadata": {},
            "name": "mean_predicted_prob",
            "nullable": true,
            "type": "double"
           },
           {
            "metadata": {},
            "name": "cum_target",
            "nullable": true,
            "type": "long"
           },
           {
            "metadata": {},
            "name": "cum_total",
            "nullable": true,
            "type": "long"
           },
           {
            "metadata": {},
            "name": "cum_target_cap_rate",
            "nullable": true,
            "type": "double"
           },
           {
            "metadata": {},
            "name": "cum_target_cap_of_total",
            "nullable": true,
            "type": "double"
           }
          ],
          "type": "struct"
         },
         "tableIdentifier": null
        }
       ],
       "data": [
        [
         1,
         1.0,
         5,
         5,
         0.9949912548065185,
         5,
         5,
         1.0,
         12.5
        ],
        [
         2,
         1.0,
         4,
         4,
         0.9856249392032623,
         9,
         9,
         1.0,
         22.5
        ],
        [
         3,
         1.0,
         4,
         4,
         0.9693315327167511,
         13,
         13,
         1.0,
         32.5
        ],
        [
         4,
         1.0,
         4,
         4,
         0.9497404098510742,
         17,
         17,
         1.0,
         42.5
        ],
        [
         5,
         1.0,
         4,
         4,
         0.8989026248455048,
         21,
         21,
         1.0,
         52.5
        ],
        [
         6,
         1.0,
         5,
         5,
         0.8513014674186706,
         26,
         26,
         1.0,
         65.0
        ],
        [
         7,
         1.0,
         4,
         4,
         0.8082806766033173,
         30,
         30,
         1.0,
         75.0
        ],
        [
         8,
         0.75,
         3,
         4,
         0.6996464878320694,
         33,
         34,
         0.9705882352941176,
         82.5
        ],
        [
         9,
         0.75,
         3,
         4,
         0.5973019450902939,
         36,
         38,
         0.9473684210526315,
         90.0
        ],
        [
         10,
         0.25,
         1,
         4,
         0.5096063390374184,
         37,
         42,
         0.8809523809523809,
         92.5
        ],
        [
         11,
         0.0,
         0,
         4,
         0.4337848797440529,
         37,
         46,
         0.8043478260869565,
         92.5
        ],
        [
         12,
         0.4,
         2,
         5,
         0.34285272359848024,
         39,
         51,
         0.7647058823529411,
         97.5
        ],
        [
         13,
         0.0,
         0,
         4,
         0.30324120074510574,
         39,
         55,
         0.7090909090909091,
         97.5
        ],
        [
         14,
         0.0,
         0,
         4,
         0.2112175077199936,
         39,
         59,
         0.6610169491525424,
         97.5
        ],
        [
         15,
         0.0,
         0,
         4,
         0.18500597774982452,
         39,
         63,
         0.6190476190476191,
         97.5
        ],
        [
         16,
         0.0,
         0,
         4,
         0.1580432988703251,
         39,
         67,
         0.582089552238806,
         97.5
        ],
        [
         17,
         0.0,
         0,
         5,
         0.1035395622253418,
         39,
         72,
         0.5416666666666666,
         97.5
        ],
        [
         18,
         0.0,
         0,
         4,
         0.07206009607762098,
         39,
         76,
         0.5131578947368421,
         97.5
        ],
        [
         19,
         0.0,
         0,
         4,
         0.05189196206629276,
         39,
         80,
         0.4875,
         97.5
        ],
        [
         20,
         0.0,
         0,
         4,
         0.042947414331138134,
         39,
         84,
         0.4642857142857143,
         97.5
        ],
        [
         21,
         0.0,
         0,
         4,
         0.02941725356504321,
         39,
         88,
         0.4431818181818182,
         97.5
        ],
        [
         22,
         0.25,
         1,
         4,
         0.01856905920431018,
         40,
         92,
         0.43478260869565216,
         100.0
        ],
        [
         23,
         0.0,
         0,
         5,
         0.014816040545701981,
         40,
         97,
         0.41237113402061853,
         100.0
        ],
        [
         24,
         0.0,
         0,
         4,
         0.01111701037734747,
         40,
         101,
         0.39603960396039606,
         100.0
        ],
        [
         25,
         0.0,
         0,
         4,
         0.008030797587707639,
         40,
         105,
         0.38095238095238093,
         100.0
        ],
        [
         26,
         0.0,
         0,
         4,
         0.006492389249615371,
         40,
         109,
         0.3669724770642202,
         100.0
        ],
        [
         27,
         0.0,
         0,
         4,
         0.004837262211367488,
         40,
         113,
         0.35398230088495575,
         100.0
        ],
        [
         28,
         0.0,
         0,
         5,
         0.0034697209019213917,
         40,
         118,
         0.3389830508474576,
         100.0
        ],
        [
         29,
         0.0,
         0,
         4,
         0.0026141363196074963,
         40,
         122,
         0.32786885245901637,
         100.0
        ],
        [
         30,
         0.0,
         0,
         4,
         0.0023476474452763796,
         40,
         126,
         0.31746031746031744,
         100.0
        ],
        [
         31,
         0.0,
         0,
         4,
         0.002154487418010831,
         40,
         130,
         0.3076923076923077,
         100.0
        ],
        [
         32,
         0.0,
         0,
         4,
         0.0019754744425881654,
         40,
         134,
         0.29850746268656714,
         100.0
        ],
        [
         33,
         0.0,
         0,
         4,
         0.0018240506178699434,
         40,
         138,
         0.2898550724637681,
         100.0
        ],
        [
         34,
         0.0,
         0,
         5,
         0.0013530290219932795,
         40,
         143,
         0.27972027972027974,
         100.0
        ],
        [
         35,
         0.0,
         0,
         4,
         0.0011710265243891627,
         40,
         147,
         0.272108843537415,
         100.0
        ],
        [
         36,
         0.0,
         0,
         4,
         0.001112371654016897,
         40,
         151,
         0.26490066225165565,
         100.0
        ],
        [
         37,
         0.0,
         0,
         4,
         9.346221631858498E-4,
         40,
         155,
         0.25806451612903225,
         100.0
        ],
        [
         38,
         0.0,
         0,
         4,
         7.415612344630063E-4,
         40,
         159,
         0.25157232704402516,
         100.0
        ],
        [
         39,
         0.0,
         0,
         5,
         5.737461149692535E-4,
         40,
         164,
         0.24390243902439024,
         100.0
        ],
        [
         40,
         0.0,
         0,
         4,
         5.150942597538233E-4,
         40,
         168,
         0.23809523809523808,
         100.0
        ],
        [
         41,
         0.0,
         0,
         4,
         4.080862636328675E-4,
         40,
         172,
         0.23255813953488372,
         100.0
        ],
        [
         42,
         0.0,
         0,
         4,
         3.23498752550222E-4,
         40,
         176,
         0.22727272727272727,
         100.0
        ],
        [
         43,
         0.0,
         0,
         4,
         2.835715713445097E-4,
         40,
         180,
         0.2222222222222222,
         100.0
        ],
        [
         44,
         0.0,
         0,
         4,
         2.439772943034768E-4,
         40,
         184,
         0.21739130434782608,
         100.0
        ],
        [
         45,
         0.0,
         0,
         5,
         2.1271532750688493E-4,
         40,
         189,
         0.21164021164021163,
         100.0
        ],
        [
         46,
         0.0,
         0,
         4,
         1.85571003385121E-4,
         40,
         193,
         0.20725388601036268,
         100.0
        ],
        [
         47,
         0.0,
         0,
         4,
         1.7192686573253013E-4,
         40,
         197,
         0.20304568527918782,
         100.0
        ],
        [
         48,
         0.0,
         0,
         4,
         1.5596281082252972E-4,
         40,
         201,
         0.19900497512437812,
         100.0
        ],
        [
         49,
         0.0,
         0,
         4,
         1.2905623952974565E-4,
         40,
         205,
         0.1951219512195122,
         100.0
        ],
        [
         50,
         0.0,
         0,
         4,
         1.1948746578127611E-4,
         40,
         209,
         0.19138755980861244,
         100.0
        ],
        [
         51,
         0.0,
         0,
         5,
         1.0576426138868556E-4,
         40,
         214,
         0.18691588785046728,
         100.0
        ],
        [
         52,
         0.0,
         0,
         4,
         8.63706645759521E-5,
         40,
         218,
         0.1834862385321101,
         100.0
        ],
        [
         53,
         0.0,
         0,
         4,
         7.427443961205427E-5,
         40,
         222,
         0.18018018018018017,
         100.0
        ],
        [
         54,
         0.0,
         0,
         4,
         6.876031329738908E-5,
         40,
         226,
         0.17699115044247787,
         100.0
        ],
        [
         55,
         0.0,
         0,
         4,
         6.446911720559001E-5,
         40,
         230,
         0.17391304347826086,
         100.0
        ],
        [
         56,
         0.0,
         0,
         5,
         6.171216227812693E-5,
         40,
         235,
         0.1702127659574468,
         100.0
        ],
        [
         57,
         0.0,
         0,
         4,
         5.645575129165081E-5,
         40,
         239,
         0.16736401673640167,
         100.0
        ],
        [
         58,
         0.0,
         0,
         4,
         5.2070230594836175E-5,
         40,
         243,
         0.1646090534979424,
         100.0
        ],
        [
         59,
         0.0,
         0,
         4,
         4.1227502151741646E-5,
         40,
         247,
         0.16194331983805668,
         100.0
        ],
        [
         60,
         0.0,
         0,
         4,
         3.6322982850833796E-5,
         40,
         251,
         0.1593625498007968,
         100.0
        ],
        [
         61,
         0.0,
         0,
         4,
         3.270023807999678E-5,
         40,
         255,
         0.1568627450980392,
         100.0
        ],
        [
         62,
         0.0,
         0,
         5,
         2.9429262940539048E-5,
         40,
         260,
         0.15384615384615385,
         100.0
        ],
        [
         63,
         0.0,
         0,
         4,
         2.5866026135190623E-5,
         40,
         264,
         0.15151515151515152,
         100.0
        ],
        [
         64,
         0.0,
         0,
         4,
         2.4569586912548402E-5,
         40,
         268,
         0.14925373134328357,
         100.0
        ],
        [
         65,
         0.0,
         0,
         4,
         2.2288112177193398E-5,
         40,
         272,
         0.14705882352941177,
         100.0
        ],
        [
         66,
         0.0,
         0,
         4,
         1.9968015294580255E-5,
         40,
         276,
         0.14492753623188406,
         100.0
        ],
        [
         67,
         0.0,
         0,
         5,
         1.7957932141143828E-5,
         40,
         281,
         0.1423487544483986,
         100.0
        ],
        [
         68,
         0.0,
         0,
         4,
         1.6442748346889857E-5,
         40,
         285,
         0.14035087719298245,
         100.0
        ],
        [
         69,
         0.0,
         0,
         4,
         1.5629591416654876E-5,
         40,
         289,
         0.1384083044982699,
         100.0
        ],
        [
         70,
         0.0,
         0,
         4,
         1.3945259070169413E-5,
         40,
         293,
         0.13651877133105803,
         100.0
        ],
        [
         71,
         0.0,
         0,
         4,
         1.2728288993457681E-5,
         40,
         297,
         0.13468013468013468,
         100.0
        ],
        [
         72,
         0.0,
         0,
         4,
         1.1837805459435913E-5,
         40,
         301,
         0.132890365448505,
         100.0
        ],
        [
         73,
         0.0,
         0,
         5,
         1.1378451017662882E-5,
         40,
         306,
         0.13071895424836602,
         100.0
        ],
        [
         74,
         0.0,
         0,
         4,
         1.0504034435143694E-5,
         40,
         310,
         0.12903225806451613,
         100.0
        ],
        [
         75,
         0.0,
         0,
         4,
         8.869778184816823E-6,
         40,
         314,
         0.12738853503184713,
         100.0
        ],
        [
         76,
         0.0,
         0,
         4,
         7.795434612489771E-6,
         40,
         318,
         0.12578616352201258,
         100.0
        ],
        [
         77,
         0.0,
         0,
         4,
         7.226057959996979E-6,
         40,
         322,
         0.12422360248447205,
         100.0
        ],
        [
         78,
         0.0,
         0,
         5,
         6.6200041146657895E-6,
         40,
         327,
         0.12232415902140673,
         100.0
        ],
        [
         79,
         0.0,
         0,
         4,
         5.974420446364093E-6,
         40,
         331,
         0.12084592145015106,
         100.0
        ],
        [
         80,
         0.0,
         0,
         4,
         5.478026082528231E-6,
         40,
         335,
         0.11940298507462686,
         100.0
        ],
        [
         81,
         0.0,
         0,
         4,
         4.816179739464133E-6,
         40,
         339,
         0.11799410029498525,
         100.0
        ],
        [
         82,
         0.0,
         0,
         4,
         3.9926831618686265E-6,
         40,
         343,
         0.11661807580174927,
         100.0
        ],
        [
         83,
         0.0,
         0,
         4,
         3.5910249494008895E-6,
         40,
         347,
         0.11527377521613832,
         100.0
        ],
        [
         84,
         0.0,
         0,
         5,
         3.325147781652049E-6,
         40,
         352,
         0.11363636363636363,
         100.0
        ],
        [
         85,
         0.0,
         0,
         4,
         2.7232703700974525E-6,
         40,
         356,
         0.11235955056179775,
         100.0
        ],
        [
         86,
         0.0,
         0,
         4,
         2.401048220690427E-6,
         40,
         360,
         0.1111111111111111,
         100.0
        ],
        [
         87,
         0.0,
         0,
         4,
         2.114306994371873E-6,
         40,
         364,
         0.10989010989010989,
         100.0
        ],
        [
         88,
         0.0,
         0,
         4,
         1.6660738424434385E-6,
         40,
         368,
         0.10869565217391304,
         100.0
        ],
        [
         89,
         0.0,
         0,
         5,
         1.2834893595936593E-6,
         40,
         373,
         0.10723860589812333,
         100.0
        ],
        [
         90,
         0.0,
         0,
         4,
         1.1627459457486111E-6,
         40,
         377,
         0.10610079575596817,
         100.0
        ],
        [
         91,
         0.0,
         0,
         4,
         1.0511403445434553E-6,
         40,
         381,
         0.10498687664041995,
         100.0
        ],
        [
         92,
         0.0,
         0,
         4,
         8.634479229385761E-7,
         40,
         385,
         0.1038961038961039,
         100.0
        ],
        [
         93,
         0.0,
         0,
         4,
         7.033277569234997E-7,
         40,
         389,
         0.10282776349614396,
         100.0
        ],
        [
         94,
         0.0,
         0,
         4,
         5.036363788235576E-7,
         40,
         393,
         0.10178117048346055,
         100.0
        ],
        [
         95,
         0.0,
         0,
         5,
         3.145592359032889E-7,
         40,
         398,
         0.10050251256281408,
         100.0
        ],
        [
         96,
         0.0,
         0,
         4,
         1.9852109289786313E-7,
         40,
         402,
         0.09950248756218906,
         100.0
        ],
        [
         97,
         0.0,
         0,
         4,
         1.5120318508365926E-7,
         40,
         406,
         0.09852216748768473,
         100.0
        ],
        [
         98,
         0.0,
         0,
         4,
         1.1258626564369933E-7,
         40,
         410,
         0.0975609756097561,
         100.0
        ],
        [
         99,
         0.0,
         0,
         4,
         9.596523575794436E-8,
         40,
         414,
         0.0966183574879227,
         100.0
        ],
        [
         100,
         0.0,
         0,
         5,
         4.486688265359362E-8,
         40,
         419,
         0.0954653937947494,
         100.0
        ]
       ],
       "plotOptions": {
        "displayType": "table",
        "customPlotOptions": {},
        "pivotColumns": null,
        "pivotAggregation": null,
        "xColumns": null,
        "yColumns": null
       },
       "columnCustomDisplayInfos": {},
       "aggType": "",
       "isJsonSchema": true,
       "removedWidgets": [],
       "aggSchema": [],
       "schema": [
        {
         "name": "pctl_cat",
         "type": "\"long\"",
         "metadata": "{}"
        },
        {
         "name": "pctl_target_rate",
         "type": "\"double\"",
         "metadata": "{}"
        },
        {
         "name": "pctl_target_total",
         "type": "\"long\"",
         "metadata": "{}"
        },
        {
         "name": "total_count",
         "type": "\"long\"",
         "metadata": "{}"
        },
        {
         "name": "mean_predicted_prob",
         "type": "\"double\"",
         "metadata": "{}"
        },
        {
         "name": "cum_target",
         "type": "\"long\"",
         "metadata": "{}"
        },
        {
         "name": "cum_total",
         "type": "\"long\"",
         "metadata": "{}"
        },
        {
         "name": "cum_target_cap_rate",
         "type": "\"double\"",
         "metadata": "{}"
        },
        {
         "name": "cum_target_cap_of_total",
         "type": "\"double\"",
         "metadata": "{}"
        }
       ],
       "aggError": "",
       "aggData": [],
       "addedWidgets": {},
       "metadata": {},
       "dbfsResultPath": null,
       "type": "table",
       "aggOverflow": false,
       "aggSeriesLimitReached": false,
       "arguments": {}
      }
     },
     "data": {
      "text/html": [
       "<style scoped>\n",
       "  .table-result-container {\n",
       "    max-height: 300px;\n",
       "    overflow: auto;\n",
       "  }\n",
       "  table, th, td {\n",
       "    border: 1px solid black;\n",
       "    border-collapse: collapse;\n",
       "  }\n",
       "  th, td {\n",
       "    padding: 5px;\n",
       "  }\n",
       "  th {\n",
       "    text-align: left;\n",
       "  }\n",
       "</style><div class='table-result-container'><table class='table-result'><thead style='background-color: white'><tr><th>pctl_cat</th><th>pctl_target_rate</th><th>pctl_target_total</th><th>total_count</th><th>mean_predicted_prob</th><th>cum_target</th><th>cum_total</th><th>cum_target_cap_rate</th><th>cum_target_cap_of_total</th></tr></thead><tbody><tr><td>1</td><td>1.0</td><td>5</td><td>5</td><td>0.9949912548065185</td><td>5</td><td>5</td><td>1.0</td><td>12.5</td></tr><tr><td>2</td><td>1.0</td><td>4</td><td>4</td><td>0.9856249392032623</td><td>9</td><td>9</td><td>1.0</td><td>22.5</td></tr><tr><td>3</td><td>1.0</td><td>4</td><td>4</td><td>0.9693315327167511</td><td>13</td><td>13</td><td>1.0</td><td>32.5</td></tr><tr><td>4</td><td>1.0</td><td>4</td><td>4</td><td>0.9497404098510742</td><td>17</td><td>17</td><td>1.0</td><td>42.5</td></tr><tr><td>5</td><td>1.0</td><td>4</td><td>4</td><td>0.8989026248455048</td><td>21</td><td>21</td><td>1.0</td><td>52.5</td></tr><tr><td>6</td><td>1.0</td><td>5</td><td>5</td><td>0.8513014674186706</td><td>26</td><td>26</td><td>1.0</td><td>65.0</td></tr><tr><td>7</td><td>1.0</td><td>4</td><td>4</td><td>0.8082806766033173</td><td>30</td><td>30</td><td>1.0</td><td>75.0</td></tr><tr><td>8</td><td>0.75</td><td>3</td><td>4</td><td>0.6996464878320694</td><td>33</td><td>34</td><td>0.9705882352941176</td><td>82.5</td></tr><tr><td>9</td><td>0.75</td><td>3</td><td>4</td><td>0.5973019450902939</td><td>36</td><td>38</td><td>0.9473684210526315</td><td>90.0</td></tr><tr><td>10</td><td>0.25</td><td>1</td><td>4</td><td>0.5096063390374184</td><td>37</td><td>42</td><td>0.8809523809523809</td><td>92.5</td></tr><tr><td>11</td><td>0.0</td><td>0</td><td>4</td><td>0.4337848797440529</td><td>37</td><td>46</td><td>0.8043478260869565</td><td>92.5</td></tr><tr><td>12</td><td>0.4</td><td>2</td><td>5</td><td>0.34285272359848024</td><td>39</td><td>51</td><td>0.7647058823529411</td><td>97.5</td></tr><tr><td>13</td><td>0.0</td><td>0</td><td>4</td><td>0.30324120074510574</td><td>39</td><td>55</td><td>0.7090909090909091</td><td>97.5</td></tr><tr><td>14</td><td>0.0</td><td>0</td><td>4</td><td>0.2112175077199936</td><td>39</td><td>59</td><td>0.6610169491525424</td><td>97.5</td></tr><tr><td>15</td><td>0.0</td><td>0</td><td>4</td><td>0.18500597774982452</td><td>39</td><td>63</td><td>0.6190476190476191</td><td>97.5</td></tr><tr><td>16</td><td>0.0</td><td>0</td><td>4</td><td>0.1580432988703251</td><td>39</td><td>67</td><td>0.582089552238806</td><td>97.5</td></tr><tr><td>17</td><td>0.0</td><td>0</td><td>5</td><td>0.1035395622253418</td><td>39</td><td>72</td><td>0.5416666666666666</td><td>97.5</td></tr><tr><td>18</td><td>0.0</td><td>0</td><td>4</td><td>0.07206009607762098</td><td>39</td><td>76</td><td>0.5131578947368421</td><td>97.5</td></tr><tr><td>19</td><td>0.0</td><td>0</td><td>4</td><td>0.05189196206629276</td><td>39</td><td>80</td><td>0.4875</td><td>97.5</td></tr><tr><td>20</td><td>0.0</td><td>0</td><td>4</td><td>0.042947414331138134</td><td>39</td><td>84</td><td>0.4642857142857143</td><td>97.5</td></tr><tr><td>21</td><td>0.0</td><td>0</td><td>4</td><td>0.02941725356504321</td><td>39</td><td>88</td><td>0.4431818181818182</td><td>97.5</td></tr><tr><td>22</td><td>0.25</td><td>1</td><td>4</td><td>0.01856905920431018</td><td>40</td><td>92</td><td>0.43478260869565216</td><td>100.0</td></tr><tr><td>23</td><td>0.0</td><td>0</td><td>5</td><td>0.014816040545701981</td><td>40</td><td>97</td><td>0.41237113402061853</td><td>100.0</td></tr><tr><td>24</td><td>0.0</td><td>0</td><td>4</td><td>0.01111701037734747</td><td>40</td><td>101</td><td>0.39603960396039606</td><td>100.0</td></tr><tr><td>25</td><td>0.0</td><td>0</td><td>4</td><td>0.008030797587707639</td><td>40</td><td>105</td><td>0.38095238095238093</td><td>100.0</td></tr><tr><td>26</td><td>0.0</td><td>0</td><td>4</td><td>0.006492389249615371</td><td>40</td><td>109</td><td>0.3669724770642202</td><td>100.0</td></tr><tr><td>27</td><td>0.0</td><td>0</td><td>4</td><td>0.004837262211367488</td><td>40</td><td>113</td><td>0.35398230088495575</td><td>100.0</td></tr><tr><td>28</td><td>0.0</td><td>0</td><td>5</td><td>0.0034697209019213917</td><td>40</td><td>118</td><td>0.3389830508474576</td><td>100.0</td></tr><tr><td>29</td><td>0.0</td><td>0</td><td>4</td><td>0.0026141363196074963</td><td>40</td><td>122</td><td>0.32786885245901637</td><td>100.0</td></tr><tr><td>30</td><td>0.0</td><td>0</td><td>4</td><td>0.0023476474452763796</td><td>40</td><td>126</td><td>0.31746031746031744</td><td>100.0</td></tr><tr><td>31</td><td>0.0</td><td>0</td><td>4</td><td>0.002154487418010831</td><td>40</td><td>130</td><td>0.3076923076923077</td><td>100.0</td></tr><tr><td>32</td><td>0.0</td><td>0</td><td>4</td><td>0.0019754744425881654</td><td>40</td><td>134</td><td>0.29850746268656714</td><td>100.0</td></tr><tr><td>33</td><td>0.0</td><td>0</td><td>4</td><td>0.0018240506178699434</td><td>40</td><td>138</td><td>0.2898550724637681</td><td>100.0</td></tr><tr><td>34</td><td>0.0</td><td>0</td><td>5</td><td>0.0013530290219932795</td><td>40</td><td>143</td><td>0.27972027972027974</td><td>100.0</td></tr><tr><td>35</td><td>0.0</td><td>0</td><td>4</td><td>0.0011710265243891627</td><td>40</td><td>147</td><td>0.272108843537415</td><td>100.0</td></tr><tr><td>36</td><td>0.0</td><td>0</td><td>4</td><td>0.001112371654016897</td><td>40</td><td>151</td><td>0.26490066225165565</td><td>100.0</td></tr><tr><td>37</td><td>0.0</td><td>0</td><td>4</td><td>9.346221631858498E-4</td><td>40</td><td>155</td><td>0.25806451612903225</td><td>100.0</td></tr><tr><td>38</td><td>0.0</td><td>0</td><td>4</td><td>7.415612344630063E-4</td><td>40</td><td>159</td><td>0.25157232704402516</td><td>100.0</td></tr><tr><td>39</td><td>0.0</td><td>0</td><td>5</td><td>5.737461149692535E-4</td><td>40</td><td>164</td><td>0.24390243902439024</td><td>100.0</td></tr><tr><td>40</td><td>0.0</td><td>0</td><td>4</td><td>5.150942597538233E-4</td><td>40</td><td>168</td><td>0.23809523809523808</td><td>100.0</td></tr><tr><td>41</td><td>0.0</td><td>0</td><td>4</td><td>4.080862636328675E-4</td><td>40</td><td>172</td><td>0.23255813953488372</td><td>100.0</td></tr><tr><td>42</td><td>0.0</td><td>0</td><td>4</td><td>3.23498752550222E-4</td><td>40</td><td>176</td><td>0.22727272727272727</td><td>100.0</td></tr><tr><td>43</td><td>0.0</td><td>0</td><td>4</td><td>2.835715713445097E-4</td><td>40</td><td>180</td><td>0.2222222222222222</td><td>100.0</td></tr><tr><td>44</td><td>0.0</td><td>0</td><td>4</td><td>2.439772943034768E-4</td><td>40</td><td>184</td><td>0.21739130434782608</td><td>100.0</td></tr><tr><td>45</td><td>0.0</td><td>0</td><td>5</td><td>2.1271532750688493E-4</td><td>40</td><td>189</td><td>0.21164021164021163</td><td>100.0</td></tr><tr><td>46</td><td>0.0</td><td>0</td><td>4</td><td>1.85571003385121E-4</td><td>40</td><td>193</td><td>0.20725388601036268</td><td>100.0</td></tr><tr><td>47</td><td>0.0</td><td>0</td><td>4</td><td>1.7192686573253013E-4</td><td>40</td><td>197</td><td>0.20304568527918782</td><td>100.0</td></tr><tr><td>48</td><td>0.0</td><td>0</td><td>4</td><td>1.5596281082252972E-4</td><td>40</td><td>201</td><td>0.19900497512437812</td><td>100.0</td></tr><tr><td>49</td><td>0.0</td><td>0</td><td>4</td><td>1.2905623952974565E-4</td><td>40</td><td>205</td><td>0.1951219512195122</td><td>100.0</td></tr><tr><td>50</td><td>0.0</td><td>0</td><td>4</td><td>1.1948746578127611E-4</td><td>40</td><td>209</td><td>0.19138755980861244</td><td>100.0</td></tr><tr><td>51</td><td>0.0</td><td>0</td><td>5</td><td>1.0576426138868556E-4</td><td>40</td><td>214</td><td>0.18691588785046728</td><td>100.0</td></tr><tr><td>52</td><td>0.0</td><td>0</td><td>4</td><td>8.63706645759521E-5</td><td>40</td><td>218</td><td>0.1834862385321101</td><td>100.0</td></tr><tr><td>53</td><td>0.0</td><td>0</td><td>4</td><td>7.427443961205427E-5</td><td>40</td><td>222</td><td>0.18018018018018017</td><td>100.0</td></tr><tr><td>54</td><td>0.0</td><td>0</td><td>4</td><td>6.876031329738908E-5</td><td>40</td><td>226</td><td>0.17699115044247787</td><td>100.0</td></tr><tr><td>55</td><td>0.0</td><td>0</td><td>4</td><td>6.446911720559001E-5</td><td>40</td><td>230</td><td>0.17391304347826086</td><td>100.0</td></tr><tr><td>56</td><td>0.0</td><td>0</td><td>5</td><td>6.171216227812693E-5</td><td>40</td><td>235</td><td>0.1702127659574468</td><td>100.0</td></tr><tr><td>57</td><td>0.0</td><td>0</td><td>4</td><td>5.645575129165081E-5</td><td>40</td><td>239</td><td>0.16736401673640167</td><td>100.0</td></tr><tr><td>58</td><td>0.0</td><td>0</td><td>4</td><td>5.2070230594836175E-5</td><td>40</td><td>243</td><td>0.1646090534979424</td><td>100.0</td></tr><tr><td>59</td><td>0.0</td><td>0</td><td>4</td><td>4.1227502151741646E-5</td><td>40</td><td>247</td><td>0.16194331983805668</td><td>100.0</td></tr><tr><td>60</td><td>0.0</td><td>0</td><td>4</td><td>3.6322982850833796E-5</td><td>40</td><td>251</td><td>0.1593625498007968</td><td>100.0</td></tr><tr><td>61</td><td>0.0</td><td>0</td><td>4</td><td>3.270023807999678E-5</td><td>40</td><td>255</td><td>0.1568627450980392</td><td>100.0</td></tr><tr><td>62</td><td>0.0</td><td>0</td><td>5</td><td>2.9429262940539048E-5</td><td>40</td><td>260</td><td>0.15384615384615385</td><td>100.0</td></tr><tr><td>63</td><td>0.0</td><td>0</td><td>4</td><td>2.5866026135190623E-5</td><td>40</td><td>264</td><td>0.15151515151515152</td><td>100.0</td></tr><tr><td>64</td><td>0.0</td><td>0</td><td>4</td><td>2.4569586912548402E-5</td><td>40</td><td>268</td><td>0.14925373134328357</td><td>100.0</td></tr><tr><td>65</td><td>0.0</td><td>0</td><td>4</td><td>2.2288112177193398E-5</td><td>40</td><td>272</td><td>0.14705882352941177</td><td>100.0</td></tr><tr><td>66</td><td>0.0</td><td>0</td><td>4</td><td>1.9968015294580255E-5</td><td>40</td><td>276</td><td>0.14492753623188406</td><td>100.0</td></tr><tr><td>67</td><td>0.0</td><td>0</td><td>5</td><td>1.7957932141143828E-5</td><td>40</td><td>281</td><td>0.1423487544483986</td><td>100.0</td></tr><tr><td>68</td><td>0.0</td><td>0</td><td>4</td><td>1.6442748346889857E-5</td><td>40</td><td>285</td><td>0.14035087719298245</td><td>100.0</td></tr><tr><td>69</td><td>0.0</td><td>0</td><td>4</td><td>1.5629591416654876E-5</td><td>40</td><td>289</td><td>0.1384083044982699</td><td>100.0</td></tr><tr><td>70</td><td>0.0</td><td>0</td><td>4</td><td>1.3945259070169413E-5</td><td>40</td><td>293</td><td>0.13651877133105803</td><td>100.0</td></tr><tr><td>71</td><td>0.0</td><td>0</td><td>4</td><td>1.2728288993457681E-5</td><td>40</td><td>297</td><td>0.13468013468013468</td><td>100.0</td></tr><tr><td>72</td><td>0.0</td><td>0</td><td>4</td><td>1.1837805459435913E-5</td><td>40</td><td>301</td><td>0.132890365448505</td><td>100.0</td></tr><tr><td>73</td><td>0.0</td><td>0</td><td>5</td><td>1.1378451017662882E-5</td><td>40</td><td>306</td><td>0.13071895424836602</td><td>100.0</td></tr><tr><td>74</td><td>0.0</td><td>0</td><td>4</td><td>1.0504034435143694E-5</td><td>40</td><td>310</td><td>0.12903225806451613</td><td>100.0</td></tr><tr><td>75</td><td>0.0</td><td>0</td><td>4</td><td>8.869778184816823E-6</td><td>40</td><td>314</td><td>0.12738853503184713</td><td>100.0</td></tr><tr><td>76</td><td>0.0</td><td>0</td><td>4</td><td>7.795434612489771E-6</td><td>40</td><td>318</td><td>0.12578616352201258</td><td>100.0</td></tr><tr><td>77</td><td>0.0</td><td>0</td><td>4</td><td>7.226057959996979E-6</td><td>40</td><td>322</td><td>0.12422360248447205</td><td>100.0</td></tr><tr><td>78</td><td>0.0</td><td>0</td><td>5</td><td>6.6200041146657895E-6</td><td>40</td><td>327</td><td>0.12232415902140673</td><td>100.0</td></tr><tr><td>79</td><td>0.0</td><td>0</td><td>4</td><td>5.974420446364093E-6</td><td>40</td><td>331</td><td>0.12084592145015106</td><td>100.0</td></tr><tr><td>80</td><td>0.0</td><td>0</td><td>4</td><td>5.478026082528231E-6</td><td>40</td><td>335</td><td>0.11940298507462686</td><td>100.0</td></tr><tr><td>81</td><td>0.0</td><td>0</td><td>4</td><td>4.816179739464133E-6</td><td>40</td><td>339</td><td>0.11799410029498525</td><td>100.0</td></tr><tr><td>82</td><td>0.0</td><td>0</td><td>4</td><td>3.9926831618686265E-6</td><td>40</td><td>343</td><td>0.11661807580174927</td><td>100.0</td></tr><tr><td>83</td><td>0.0</td><td>0</td><td>4</td><td>3.5910249494008895E-6</td><td>40</td><td>347</td><td>0.11527377521613832</td><td>100.0</td></tr><tr><td>84</td><td>0.0</td><td>0</td><td>5</td><td>3.325147781652049E-6</td><td>40</td><td>352</td><td>0.11363636363636363</td><td>100.0</td></tr><tr><td>85</td><td>0.0</td><td>0</td><td>4</td><td>2.7232703700974525E-6</td><td>40</td><td>356</td><td>0.11235955056179775</td><td>100.0</td></tr><tr><td>86</td><td>0.0</td><td>0</td><td>4</td><td>2.401048220690427E-6</td><td>40</td><td>360</td><td>0.1111111111111111</td><td>100.0</td></tr><tr><td>87</td><td>0.0</td><td>0</td><td>4</td><td>2.114306994371873E-6</td><td>40</td><td>364</td><td>0.10989010989010989</td><td>100.0</td></tr><tr><td>88</td><td>0.0</td><td>0</td><td>4</td><td>1.6660738424434385E-6</td><td>40</td><td>368</td><td>0.10869565217391304</td><td>100.0</td></tr><tr><td>89</td><td>0.0</td><td>0</td><td>5</td><td>1.2834893595936593E-6</td><td>40</td><td>373</td><td>0.10723860589812333</td><td>100.0</td></tr><tr><td>90</td><td>0.0</td><td>0</td><td>4</td><td>1.1627459457486111E-6</td><td>40</td><td>377</td><td>0.10610079575596817</td><td>100.0</td></tr><tr><td>91</td><td>0.0</td><td>0</td><td>4</td><td>1.0511403445434553E-6</td><td>40</td><td>381</td><td>0.10498687664041995</td><td>100.0</td></tr><tr><td>92</td><td>0.0</td><td>0</td><td>4</td><td>8.634479229385761E-7</td><td>40</td><td>385</td><td>0.1038961038961039</td><td>100.0</td></tr><tr><td>93</td><td>0.0</td><td>0</td><td>4</td><td>7.033277569234997E-7</td><td>40</td><td>389</td><td>0.10282776349614396</td><td>100.0</td></tr><tr><td>94</td><td>0.0</td><td>0</td><td>4</td><td>5.036363788235576E-7</td><td>40</td><td>393</td><td>0.10178117048346055</td><td>100.0</td></tr><tr><td>95</td><td>0.0</td><td>0</td><td>5</td><td>3.145592359032889E-7</td><td>40</td><td>398</td><td>0.10050251256281408</td><td>100.0</td></tr><tr><td>96</td><td>0.0</td><td>0</td><td>4</td><td>1.9852109289786313E-7</td><td>40</td><td>402</td><td>0.09950248756218906</td><td>100.0</td></tr><tr><td>97</td><td>0.0</td><td>0</td><td>4</td><td>1.5120318508365926E-7</td><td>40</td><td>406</td><td>0.09852216748768473</td><td>100.0</td></tr><tr><td>98</td><td>0.0</td><td>0</td><td>4</td><td>1.1258626564369933E-7</td><td>40</td><td>410</td><td>0.0975609756097561</td><td>100.0</td></tr><tr><td>99</td><td>0.0</td><td>0</td><td>4</td><td>9.596523575794436E-8</td><td>40</td><td>414</td><td>0.0966183574879227</td><td>100.0</td></tr><tr><td>100</td><td>0.0</td><td>0</td><td>5</td><td>4.486688265359362E-8</td><td>40</td><td>419</td><td>0.0954653937947494</td><td>100.0</td></tr></tbody></table></div>"
      ]
     }
    }
   ],
   "execution_count": 0
  },
  {
   "cell_type": "code",
   "source": [
    "# Create a glm with binomial and logit to mimic logictic regression\n",
    "from pyspark.ml.regression import GeneralizedLinearRegression\n",
    "\n",
    "glr = GeneralizedLinearRegression(featuresCol=\"features\", labelCol=\"top10_trgt\",family=\"binomial\", link=\"logit\", maxIter=10, regParam=0.3)\n",
    "\n",
    "# Fit the model\n",
    "model = glr.fit(vecTrainDF)\n",
    "predict_train_glr = model.transform(vecTrainDF)\n",
    "\n",
    "eval_glr = BinaryClassificationEvaluator(rawPredictionCol = \"prediction\", labelCol = \"top10_trgt\")\n",
    "\n",
    "auc_train_glr = eval_glr.evaluate(predict_train_glr)\n",
    "print(auc_train_glr)\n",
    "print(model.summary)\n",
    "\n",
    "# Print the coefficients and intercept for generalized linear regression model\n",
    "predict_test_glr = model.transform(vecTestDF) #make predictions using the trained model\n",
    "auc_test_glr = eval_glr.evaluate(predict_test_glr)\n",
    "print(auc_test_glr)"
   ],
   "metadata": {
    "application/vnd.databricks.v1+cell": {
     "showTitle": false,
     "cellMetadata": {
      "rowLimit": 10000,
      "byteLimit": 2048000
     },
     "nuid": "ad2b1ca8-d053-4177-b393-18ed1850dece",
     "inputWidgets": {},
     "title": ""
    }
   },
   "outputs": [
    {
     "output_type": "display_data",
     "metadata": {
      "application/vnd.databricks.v1+output": {
       "datasetInfos": [
        {
         "name": "predict_train_glr",
         "typeStr": "pyspark.sql.dataframe.DataFrame",
         "schema": {
          "fields": [
           {
            "metadata": {},
            "name": "age",
            "nullable": true,
            "type": "integer"
           },
           {
            "metadata": {},
            "name": "bmi",
            "nullable": true,
            "type": "double"
           },
           {
            "metadata": {},
            "name": "children",
            "nullable": true,
            "type": "integer"
           },
           {
            "metadata": {},
            "name": "region",
            "nullable": true,
            "type": "string"
           },
           {
            "metadata": {},
            "name": "charges",
            "nullable": true,
            "type": "double"
           },
           {
            "metadata": {},
            "name": "gender_cd",
            "nullable": true,
            "type": "integer"
           },
           {
            "metadata": {},
            "name": "smoker_cd",
            "nullable": true,
            "type": "integer"
           },
           {
            "metadata": {},
            "name": "row_num",
            "nullable": true,
            "type": "integer"
           },
           {
            "metadata": {},
            "name": "percent_rank",
            "nullable": true,
            "type": "double"
           },
           {
            "metadata": {},
            "name": "top05_trgt",
            "nullable": false,
            "type": "integer"
           },
           {
            "metadata": {},
            "name": "top10_trgt",
            "nullable": false,
            "type": "integer"
           },
           {
            "metadata": {},
            "name": "top25_trgt",
            "nullable": false,
            "type": "integer"
           },
           {
            "metadata": {
             "ml_attr": {
              "name": "regionIndex",
              "type": "nominal",
              "vals": [
               "southeast",
               "southwest",
               "northeast",
               "northwest"
              ]
             }
            },
            "name": "regionIndex",
            "nullable": false,
            "type": "double"
           },
           {
            "metadata": {
             "ml_attr": {
              "attrs": {
               "binary": [
                {
                 "idx": 0,
                 "name": "southeast"
                },
                {
                 "idx": 1,
                 "name": "southwest"
                },
                {
                 "idx": 2,
                 "name": "northeast"
                }
               ]
              },
              "num_attrs": 3
             }
            },
            "name": "regionclassVec",
            "nullable": true,
            "type": {
             "class": "org.apache.spark.ml.linalg.VectorUDT",
             "pyClass": "pyspark.ml.linalg.VectorUDT",
             "sqlType": {
              "fields": [
               {
                "metadata": {},
                "name": "type",
                "nullable": false,
                "type": "byte"
               },
               {
                "metadata": {},
                "name": "size",
                "nullable": true,
                "type": "integer"
               },
               {
                "metadata": {},
                "name": "indices",
                "nullable": true,
                "type": {
                 "containsNull": false,
                 "elementType": "integer",
                 "type": "array"
                }
               },
               {
                "metadata": {},
                "name": "values",
                "nullable": true,
                "type": {
                 "containsNull": false,
                 "elementType": "double",
                 "type": "array"
                }
               }
              ],
              "type": "struct"
             },
             "type": "udt"
            }
           },
           {
            "metadata": {
             "ml_attr": {
              "attrs": {
               "binary": [
                {
                 "idx": 5,
                 "name": "regionclassVec_southeast"
                },
                {
                 "idx": 6,
                 "name": "regionclassVec_southwest"
                },
                {
                 "idx": 7,
                 "name": "regionclassVec_northeast"
                }
               ],
               "numeric": [
                {
                 "idx": 0,
                 "name": "age"
                },
                {
                 "idx": 1,
                 "name": "bmi"
                },
                {
                 "idx": 2,
                 "name": "children"
                },
                {
                 "idx": 3,
                 "name": "gender_cd"
                },
                {
                 "idx": 4,
                 "name": "smoker_cd"
                }
               ]
              },
              "num_attrs": 8
             }
            },
            "name": "features",
            "nullable": true,
            "type": {
             "class": "org.apache.spark.ml.linalg.VectorUDT",
             "pyClass": "pyspark.ml.linalg.VectorUDT",
             "sqlType": {
              "fields": [
               {
                "metadata": {},
                "name": "type",
                "nullable": false,
                "type": "byte"
               },
               {
                "metadata": {},
                "name": "size",
                "nullable": true,
                "type": "integer"
               },
               {
                "metadata": {},
                "name": "indices",
                "nullable": true,
                "type": {
                 "containsNull": false,
                 "elementType": "integer",
                 "type": "array"
                }
               },
               {
                "metadata": {},
                "name": "values",
                "nullable": true,
                "type": {
                 "containsNull": false,
                 "elementType": "double",
                 "type": "array"
                }
               }
              ],
              "type": "struct"
             },
             "type": "udt"
            }
           },
           {
            "metadata": {
             "ml_attr": {}
            },
            "name": "prediction",
            "nullable": false,
            "type": "double"
           }
          ],
          "type": "struct"
         },
         "tableIdentifier": null
        },
        {
         "name": "predict_test_glr",
         "typeStr": "pyspark.sql.dataframe.DataFrame",
         "schema": {
          "fields": [
           {
            "metadata": {},
            "name": "age",
            "nullable": true,
            "type": "integer"
           },
           {
            "metadata": {},
            "name": "bmi",
            "nullable": true,
            "type": "double"
           },
           {
            "metadata": {},
            "name": "children",
            "nullable": true,
            "type": "integer"
           },
           {
            "metadata": {},
            "name": "region",
            "nullable": true,
            "type": "string"
           },
           {
            "metadata": {},
            "name": "charges",
            "nullable": true,
            "type": "double"
           },
           {
            "metadata": {},
            "name": "gender_cd",
            "nullable": true,
            "type": "integer"
           },
           {
            "metadata": {},
            "name": "smoker_cd",
            "nullable": true,
            "type": "integer"
           },
           {
            "metadata": {},
            "name": "row_num",
            "nullable": true,
            "type": "integer"
           },
           {
            "metadata": {},
            "name": "percent_rank",
            "nullable": true,
            "type": "double"
           },
           {
            "metadata": {},
            "name": "top05_trgt",
            "nullable": false,
            "type": "integer"
           },
           {
            "metadata": {},
            "name": "top10_trgt",
            "nullable": false,
            "type": "integer"
           },
           {
            "metadata": {},
            "name": "top25_trgt",
            "nullable": false,
            "type": "integer"
           },
           {
            "metadata": {
             "ml_attr": {
              "name": "regionIndex",
              "type": "nominal",
              "vals": [
               "southeast",
               "southwest",
               "northeast",
               "northwest"
              ]
             }
            },
            "name": "regionIndex",
            "nullable": false,
            "type": "double"
           },
           {
            "metadata": {
             "ml_attr": {
              "attrs": {
               "binary": [
                {
                 "idx": 0,
                 "name": "southeast"
                },
                {
                 "idx": 1,
                 "name": "southwest"
                },
                {
                 "idx": 2,
                 "name": "northeast"
                }
               ]
              },
              "num_attrs": 3
             }
            },
            "name": "regionclassVec",
            "nullable": true,
            "type": {
             "class": "org.apache.spark.ml.linalg.VectorUDT",
             "pyClass": "pyspark.ml.linalg.VectorUDT",
             "sqlType": {
              "fields": [
               {
                "metadata": {},
                "name": "type",
                "nullable": false,
                "type": "byte"
               },
               {
                "metadata": {},
                "name": "size",
                "nullable": true,
                "type": "integer"
               },
               {
                "metadata": {},
                "name": "indices",
                "nullable": true,
                "type": {
                 "containsNull": false,
                 "elementType": "integer",
                 "type": "array"
                }
               },
               {
                "metadata": {},
                "name": "values",
                "nullable": true,
                "type": {
                 "containsNull": false,
                 "elementType": "double",
                 "type": "array"
                }
               }
              ],
              "type": "struct"
             },
             "type": "udt"
            }
           },
           {
            "metadata": {
             "ml_attr": {
              "attrs": {
               "binary": [
                {
                 "idx": 5,
                 "name": "regionclassVec_southeast"
                },
                {
                 "idx": 6,
                 "name": "regionclassVec_southwest"
                },
                {
                 "idx": 7,
                 "name": "regionclassVec_northeast"
                }
               ],
               "numeric": [
                {
                 "idx": 0,
                 "name": "age"
                },
                {
                 "idx": 1,
                 "name": "bmi"
                },
                {
                 "idx": 2,
                 "name": "children"
                },
                {
                 "idx": 3,
                 "name": "gender_cd"
                },
                {
                 "idx": 4,
                 "name": "smoker_cd"
                }
               ]
              },
              "num_attrs": 8
             }
            },
            "name": "features",
            "nullable": true,
            "type": {
             "class": "org.apache.spark.ml.linalg.VectorUDT",
             "pyClass": "pyspark.ml.linalg.VectorUDT",
             "sqlType": {
              "fields": [
               {
                "metadata": {},
                "name": "type",
                "nullable": false,
                "type": "byte"
               },
               {
                "metadata": {},
                "name": "size",
                "nullable": true,
                "type": "integer"
               },
               {
                "metadata": {},
                "name": "indices",
                "nullable": true,
                "type": {
                 "containsNull": false,
                 "elementType": "integer",
                 "type": "array"
                }
               },
               {
                "metadata": {},
                "name": "values",
                "nullable": true,
                "type": {
                 "containsNull": false,
                 "elementType": "double",
                 "type": "array"
                }
               }
              ],
              "type": "struct"
             },
             "type": "udt"
            }
           },
           {
            "metadata": {
             "ml_attr": {}
            },
            "name": "prediction",
            "nullable": false,
            "type": "double"
           }
          ],
          "type": "struct"
         },
         "tableIdentifier": null
        }
       ],
       "data": "<div class=\"ansiout\">0.9748549323017478\nCoefficients:\n             Feature Estimate Std Error  T Value P Value\n         (Intercept)  -9.0562    0.8484 -10.6738  0.0000\n                 age   0.0153    0.0088   1.7329  0.0831\n                 bmi   0.1681    0.0212   7.9345  0.0000\n            children   0.0983    0.0910   1.0803  0.2800\n           gender_cd  -0.1776    0.1666  -1.0662  0.2863\n           smoker_cd   1.9956    0.1682  11.8676  0.0000\nregionclassVec_so...   0.0036    0.1761   0.0205  0.9836\nregionclassVec_so...   0.0846    0.1811   0.4669  0.6406\nregionclassVec_no...   0.0033    0.1842   0.0181  0.9855\n\n(Dispersion parameter for binomial family taken to be 1.0000)\n    Null deviance: 606.6779 on 910 degrees of freedom\nResidual deviance: 300.8168 on 910 degrees of freedom\nAIC: 318.8168\n0.9757255936675463\n</div>",
       "removedWidgets": [],
       "addedWidgets": {},
       "metadata": {},
       "type": "html",
       "arguments": {}
      }
     },
     "data": {
      "text/html": [
       "<style scoped>\n",
       "  .ansiout {\n",
       "    display: block;\n",
       "    unicode-bidi: embed;\n",
       "    white-space: pre-wrap;\n",
       "    word-wrap: break-word;\n",
       "    word-break: break-all;\n",
       "    font-family: \"Source Code Pro\", \"Menlo\", monospace;;\n",
       "    font-size: 13px;\n",
       "    color: #555;\n",
       "    margin-left: 4px;\n",
       "    line-height: 19px;\n",
       "  }\n",
       "</style>\n",
       "<div class=\"ansiout\">0.9748549323017478\n",
       "Coefficients:\n",
       "             Feature Estimate Std Error  T Value P Value\n",
       "         (Intercept)  -9.0562    0.8484 -10.6738  0.0000\n",
       "                 age   0.0153    0.0088   1.7329  0.0831\n",
       "                 bmi   0.1681    0.0212   7.9345  0.0000\n",
       "            children   0.0983    0.0910   1.0803  0.2800\n",
       "           gender_cd  -0.1776    0.1666  -1.0662  0.2863\n",
       "           smoker_cd   1.9956    0.1682  11.8676  0.0000\n",
       "regionclassVec_so...   0.0036    0.1761   0.0205  0.9836\n",
       "regionclassVec_so...   0.0846    0.1811   0.4669  0.6406\n",
       "regionclassVec_no...   0.0033    0.1842   0.0181  0.9855\n",
       "\n",
       "(Dispersion parameter for binomial family taken to be 1.0000)\n",
       "    Null deviance: 606.6779 on 910 degrees of freedom\n",
       "Residual deviance: 300.8168 on 910 degrees of freedom\n",
       "AIC: 318.8168\n",
       "0.9757255936675463\n",
       "</div>"
      ]
     }
    }
   ],
   "execution_count": 0
  },
  {
   "cell_type": "markdown",
   "source": [
    "##This code is used for regularization"
   ],
   "metadata": {
    "application/vnd.databricks.v1+cell": {
     "showTitle": false,
     "cellMetadata": {
      "rowLimit": 10000,
      "byteLimit": 2048000
     },
     "nuid": "1d7f4794-13f6-4c89-a548-2cfe2166629a",
     "inputWidgets": {},
     "title": ""
    }
   }
  },
  {
   "cell_type": "code",
   "source": [
    "# Create linear regression\n",
    "lr2 = LogisticRegression(featuresCol=\"features\", labelCol=\"top10_trgt\", regParam=0, elasticNetParam=0.0)\n",
    "# Fit the linear regresssion model\n",
    "lrModel2 = lr2.fit(vecTrainDF)\n",
    "predict_train2 = lrModel2.transform(vecTrainDF)\n",
    "\n",
    "# Make predictions on testing dataset\n",
    "predict_test2 = lrModel2.transform(vecTestDF) #make predictions using the trained model"
   ],
   "metadata": {
    "application/vnd.databricks.v1+cell": {
     "showTitle": false,
     "cellMetadata": {
      "rowLimit": 10000,
      "byteLimit": 2048000
     },
     "nuid": "a55410e8-d20a-4ba2-8e53-f965125d7331",
     "inputWidgets": {},
     "title": ""
    }
   },
   "outputs": [
    {
     "output_type": "display_data",
     "metadata": {
      "application/vnd.databricks.v1+output": {
       "datasetInfos": [
        {
         "name": "predict_train2",
         "typeStr": "pyspark.sql.dataframe.DataFrame",
         "schema": {
          "fields": [
           {
            "metadata": {},
            "name": "age",
            "nullable": true,
            "type": "integer"
           },
           {
            "metadata": {},
            "name": "bmi",
            "nullable": true,
            "type": "double"
           },
           {
            "metadata": {},
            "name": "children",
            "nullable": true,
            "type": "integer"
           },
           {
            "metadata": {},
            "name": "region",
            "nullable": true,
            "type": "string"
           },
           {
            "metadata": {},
            "name": "charges",
            "nullable": true,
            "type": "double"
           },
           {
            "metadata": {},
            "name": "gender_cd",
            "nullable": true,
            "type": "integer"
           },
           {
            "metadata": {},
            "name": "smoker_cd",
            "nullable": true,
            "type": "integer"
           },
           {
            "metadata": {},
            "name": "row_num",
            "nullable": true,
            "type": "integer"
           },
           {
            "metadata": {},
            "name": "percent_rank",
            "nullable": true,
            "type": "double"
           },
           {
            "metadata": {},
            "name": "top05_trgt",
            "nullable": false,
            "type": "integer"
           },
           {
            "metadata": {},
            "name": "top10_trgt",
            "nullable": false,
            "type": "integer"
           },
           {
            "metadata": {},
            "name": "top25_trgt",
            "nullable": false,
            "type": "integer"
           },
           {
            "metadata": {
             "ml_attr": {
              "name": "regionIndex",
              "type": "nominal",
              "vals": [
               "southeast",
               "southwest",
               "northeast",
               "northwest"
              ]
             }
            },
            "name": "regionIndex",
            "nullable": false,
            "type": "double"
           },
           {
            "metadata": {
             "ml_attr": {
              "attrs": {
               "binary": [
                {
                 "idx": 0,
                 "name": "southeast"
                },
                {
                 "idx": 1,
                 "name": "southwest"
                },
                {
                 "idx": 2,
                 "name": "northeast"
                }
               ]
              },
              "num_attrs": 3
             }
            },
            "name": "regionclassVec",
            "nullable": true,
            "type": {
             "class": "org.apache.spark.ml.linalg.VectorUDT",
             "pyClass": "pyspark.ml.linalg.VectorUDT",
             "sqlType": {
              "fields": [
               {
                "metadata": {},
                "name": "type",
                "nullable": false,
                "type": "byte"
               },
               {
                "metadata": {},
                "name": "size",
                "nullable": true,
                "type": "integer"
               },
               {
                "metadata": {},
                "name": "indices",
                "nullable": true,
                "type": {
                 "containsNull": false,
                 "elementType": "integer",
                 "type": "array"
                }
               },
               {
                "metadata": {},
                "name": "values",
                "nullable": true,
                "type": {
                 "containsNull": false,
                 "elementType": "double",
                 "type": "array"
                }
               }
              ],
              "type": "struct"
             },
             "type": "udt"
            }
           },
           {
            "metadata": {
             "ml_attr": {
              "attrs": {
               "binary": [
                {
                 "idx": 5,
                 "name": "regionclassVec_southeast"
                },
                {
                 "idx": 6,
                 "name": "regionclassVec_southwest"
                },
                {
                 "idx": 7,
                 "name": "regionclassVec_northeast"
                }
               ],
               "numeric": [
                {
                 "idx": 0,
                 "name": "age"
                },
                {
                 "idx": 1,
                 "name": "bmi"
                },
                {
                 "idx": 2,
                 "name": "children"
                },
                {
                 "idx": 3,
                 "name": "gender_cd"
                },
                {
                 "idx": 4,
                 "name": "smoker_cd"
                }
               ]
              },
              "num_attrs": 8
             }
            },
            "name": "features",
            "nullable": true,
            "type": {
             "class": "org.apache.spark.ml.linalg.VectorUDT",
             "pyClass": "pyspark.ml.linalg.VectorUDT",
             "sqlType": {
              "fields": [
               {
                "metadata": {},
                "name": "type",
                "nullable": false,
                "type": "byte"
               },
               {
                "metadata": {},
                "name": "size",
                "nullable": true,
                "type": "integer"
               },
               {
                "metadata": {},
                "name": "indices",
                "nullable": true,
                "type": {
                 "containsNull": false,
                 "elementType": "integer",
                 "type": "array"
                }
               },
               {
                "metadata": {},
                "name": "values",
                "nullable": true,
                "type": {
                 "containsNull": false,
                 "elementType": "double",
                 "type": "array"
                }
               }
              ],
              "type": "struct"
             },
             "type": "udt"
            }
           },
           {
            "metadata": {
             "ml_attr": {
              "num_attrs": 2
             }
            },
            "name": "rawPrediction",
            "nullable": true,
            "type": {
             "class": "org.apache.spark.ml.linalg.VectorUDT",
             "pyClass": "pyspark.ml.linalg.VectorUDT",
             "sqlType": {
              "fields": [
               {
                "metadata": {},
                "name": "type",
                "nullable": false,
                "type": "byte"
               },
               {
                "metadata": {},
                "name": "size",
                "nullable": true,
                "type": "integer"
               },
               {
                "metadata": {},
                "name": "indices",
                "nullable": true,
                "type": {
                 "containsNull": false,
                 "elementType": "integer",
                 "type": "array"
                }
               },
               {
                "metadata": {},
                "name": "values",
                "nullable": true,
                "type": {
                 "containsNull": false,
                 "elementType": "double",
                 "type": "array"
                }
               }
              ],
              "type": "struct"
             },
             "type": "udt"
            }
           },
           {
            "metadata": {
             "ml_attr": {
              "num_attrs": 2
             }
            },
            "name": "probability",
            "nullable": true,
            "type": {
             "class": "org.apache.spark.ml.linalg.VectorUDT",
             "pyClass": "pyspark.ml.linalg.VectorUDT",
             "sqlType": {
              "fields": [
               {
                "metadata": {},
                "name": "type",
                "nullable": false,
                "type": "byte"
               },
               {
                "metadata": {},
                "name": "size",
                "nullable": true,
                "type": "integer"
               },
               {
                "metadata": {},
                "name": "indices",
                "nullable": true,
                "type": {
                 "containsNull": false,
                 "elementType": "integer",
                 "type": "array"
                }
               },
               {
                "metadata": {},
                "name": "values",
                "nullable": true,
                "type": {
                 "containsNull": false,
                 "elementType": "double",
                 "type": "array"
                }
               }
              ],
              "type": "struct"
             },
             "type": "udt"
            }
           },
           {
            "metadata": {
             "ml_attr": {
              "num_vals": 2,
              "type": "nominal"
             }
            },
            "name": "prediction",
            "nullable": false,
            "type": "double"
           }
          ],
          "type": "struct"
         },
         "tableIdentifier": null
        },
        {
         "name": "predict_test2",
         "typeStr": "pyspark.sql.dataframe.DataFrame",
         "schema": {
          "fields": [
           {
            "metadata": {},
            "name": "age",
            "nullable": true,
            "type": "integer"
           },
           {
            "metadata": {},
            "name": "bmi",
            "nullable": true,
            "type": "double"
           },
           {
            "metadata": {},
            "name": "children",
            "nullable": true,
            "type": "integer"
           },
           {
            "metadata": {},
            "name": "region",
            "nullable": true,
            "type": "string"
           },
           {
            "metadata": {},
            "name": "charges",
            "nullable": true,
            "type": "double"
           },
           {
            "metadata": {},
            "name": "gender_cd",
            "nullable": true,
            "type": "integer"
           },
           {
            "metadata": {},
            "name": "smoker_cd",
            "nullable": true,
            "type": "integer"
           },
           {
            "metadata": {},
            "name": "row_num",
            "nullable": true,
            "type": "integer"
           },
           {
            "metadata": {},
            "name": "percent_rank",
            "nullable": true,
            "type": "double"
           },
           {
            "metadata": {},
            "name": "top05_trgt",
            "nullable": false,
            "type": "integer"
           },
           {
            "metadata": {},
            "name": "top10_trgt",
            "nullable": false,
            "type": "integer"
           },
           {
            "metadata": {},
            "name": "top25_trgt",
            "nullable": false,
            "type": "integer"
           },
           {
            "metadata": {
             "ml_attr": {
              "name": "regionIndex",
              "type": "nominal",
              "vals": [
               "southeast",
               "southwest",
               "northeast",
               "northwest"
              ]
             }
            },
            "name": "regionIndex",
            "nullable": false,
            "type": "double"
           },
           {
            "metadata": {
             "ml_attr": {
              "attrs": {
               "binary": [
                {
                 "idx": 0,
                 "name": "southeast"
                },
                {
                 "idx": 1,
                 "name": "southwest"
                },
                {
                 "idx": 2,
                 "name": "northeast"
                }
               ]
              },
              "num_attrs": 3
             }
            },
            "name": "regionclassVec",
            "nullable": true,
            "type": {
             "class": "org.apache.spark.ml.linalg.VectorUDT",
             "pyClass": "pyspark.ml.linalg.VectorUDT",
             "sqlType": {
              "fields": [
               {
                "metadata": {},
                "name": "type",
                "nullable": false,
                "type": "byte"
               },
               {
                "metadata": {},
                "name": "size",
                "nullable": true,
                "type": "integer"
               },
               {
                "metadata": {},
                "name": "indices",
                "nullable": true,
                "type": {
                 "containsNull": false,
                 "elementType": "integer",
                 "type": "array"
                }
               },
               {
                "metadata": {},
                "name": "values",
                "nullable": true,
                "type": {
                 "containsNull": false,
                 "elementType": "double",
                 "type": "array"
                }
               }
              ],
              "type": "struct"
             },
             "type": "udt"
            }
           },
           {
            "metadata": {
             "ml_attr": {
              "attrs": {
               "binary": [
                {
                 "idx": 5,
                 "name": "regionclassVec_southeast"
                },
                {
                 "idx": 6,
                 "name": "regionclassVec_southwest"
                },
                {
                 "idx": 7,
                 "name": "regionclassVec_northeast"
                }
               ],
               "numeric": [
                {
                 "idx": 0,
                 "name": "age"
                },
                {
                 "idx": 1,
                 "name": "bmi"
                },
                {
                 "idx": 2,
                 "name": "children"
                },
                {
                 "idx": 3,
                 "name": "gender_cd"
                },
                {
                 "idx": 4,
                 "name": "smoker_cd"
                }
               ]
              },
              "num_attrs": 8
             }
            },
            "name": "features",
            "nullable": true,
            "type": {
             "class": "org.apache.spark.ml.linalg.VectorUDT",
             "pyClass": "pyspark.ml.linalg.VectorUDT",
             "sqlType": {
              "fields": [
               {
                "metadata": {},
                "name": "type",
                "nullable": false,
                "type": "byte"
               },
               {
                "metadata": {},
                "name": "size",
                "nullable": true,
                "type": "integer"
               },
               {
                "metadata": {},
                "name": "indices",
                "nullable": true,
                "type": {
                 "containsNull": false,
                 "elementType": "integer",
                 "type": "array"
                }
               },
               {
                "metadata": {},
                "name": "values",
                "nullable": true,
                "type": {
                 "containsNull": false,
                 "elementType": "double",
                 "type": "array"
                }
               }
              ],
              "type": "struct"
             },
             "type": "udt"
            }
           },
           {
            "metadata": {
             "ml_attr": {
              "num_attrs": 2
             }
            },
            "name": "rawPrediction",
            "nullable": true,
            "type": {
             "class": "org.apache.spark.ml.linalg.VectorUDT",
             "pyClass": "pyspark.ml.linalg.VectorUDT",
             "sqlType": {
              "fields": [
               {
                "metadata": {},
                "name": "type",
                "nullable": false,
                "type": "byte"
               },
               {
                "metadata": {},
                "name": "size",
                "nullable": true,
                "type": "integer"
               },
               {
                "metadata": {},
                "name": "indices",
                "nullable": true,
                "type": {
                 "containsNull": false,
                 "elementType": "integer",
                 "type": "array"
                }
               },
               {
                "metadata": {},
                "name": "values",
                "nullable": true,
                "type": {
                 "containsNull": false,
                 "elementType": "double",
                 "type": "array"
                }
               }
              ],
              "type": "struct"
             },
             "type": "udt"
            }
           },
           {
            "metadata": {
             "ml_attr": {
              "num_attrs": 2
             }
            },
            "name": "probability",
            "nullable": true,
            "type": {
             "class": "org.apache.spark.ml.linalg.VectorUDT",
             "pyClass": "pyspark.ml.linalg.VectorUDT",
             "sqlType": {
              "fields": [
               {
                "metadata": {},
                "name": "type",
                "nullable": false,
                "type": "byte"
               },
               {
                "metadata": {},
                "name": "size",
                "nullable": true,
                "type": "integer"
               },
               {
                "metadata": {},
                "name": "indices",
                "nullable": true,
                "type": {
                 "containsNull": false,
                 "elementType": "integer",
                 "type": "array"
                }
               },
               {
                "metadata": {},
                "name": "values",
                "nullable": true,
                "type": {
                 "containsNull": false,
                 "elementType": "double",
                 "type": "array"
                }
               }
              ],
              "type": "struct"
             },
             "type": "udt"
            }
           },
           {
            "metadata": {
             "ml_attr": {
              "num_vals": 2,
              "type": "nominal"
             }
            },
            "name": "prediction",
            "nullable": false,
            "type": "double"
           }
          ],
          "type": "struct"
         },
         "tableIdentifier": null
        }
       ],
       "data": "<div class=\"ansiout\"></div>",
       "removedWidgets": [],
       "addedWidgets": {},
       "metadata": {},
       "type": "html",
       "arguments": {}
      }
     },
     "data": {
      "text/html": [
       "<style scoped>\n",
       "  .ansiout {\n",
       "    display: block;\n",
       "    unicode-bidi: embed;\n",
       "    white-space: pre-wrap;\n",
       "    word-wrap: break-word;\n",
       "    word-break: break-all;\n",
       "    font-family: \"Source Code Pro\", \"Menlo\", monospace;;\n",
       "    font-size: 13px;\n",
       "    color: #555;\n",
       "    margin-left: 4px;\n",
       "    line-height: 19px;\n",
       "  }\n",
       "</style>\n",
       "<div class=\"ansiout\"></div>"
      ]
     }
    }
   ],
   "execution_count": 0
  },
  {
   "cell_type": "code",
   "source": [
    "eval = BinaryClassificationEvaluator(labelCol = \"top10_trgt\")\n",
    "\n",
    "auc_train2 = eval.evaluate(predict_train2)\n",
    "print(auc_train2)\n",
    "auc_test2 = eval.evaluate(predict_test2)\n",
    "print(auc_test2)\n",
    "\n",
    "print(\"Training AUROC\", lrModel.summary.areaUnderROC)\n",
    "print(\"Coefficients: \\n\" + str(lrModel.coefficientMatrix))\n",
    "print(\"Intercept: \" + str(lrModel.interceptVector))"
   ],
   "metadata": {
    "application/vnd.databricks.v1+cell": {
     "showTitle": false,
     "cellMetadata": {
      "rowLimit": 10000,
      "byteLimit": 2048000
     },
     "nuid": "edd9bf58-83ca-4e5c-bf36-5b4c76e4dfc7",
     "inputWidgets": {},
     "title": ""
    }
   },
   "outputs": [
    {
     "output_type": "display_data",
     "metadata": {
      "application/vnd.databricks.v1+output": {
       "datasetInfos": [],
       "data": "<div class=\"ansiout\">0.9859703417150278\n0.9949208443271769\nTraining AUROC 0.9858284977433917\nCoefficients: \nDenseMatrix([[ 0.06274767,  0.50424427,  0.30393565,  0.34952187, 10.16871613,\n              -0.06492295,  0.80747231,  0.39489357]])\nIntercept: [-28.831158721646403]\n</div>",
       "removedWidgets": [],
       "addedWidgets": {},
       "metadata": {},
       "type": "html",
       "arguments": {}
      }
     },
     "data": {
      "text/html": [
       "<style scoped>\n",
       "  .ansiout {\n",
       "    display: block;\n",
       "    unicode-bidi: embed;\n",
       "    white-space: pre-wrap;\n",
       "    word-wrap: break-word;\n",
       "    word-break: break-all;\n",
       "    font-family: \"Source Code Pro\", \"Menlo\", monospace;;\n",
       "    font-size: 13px;\n",
       "    color: #555;\n",
       "    margin-left: 4px;\n",
       "    line-height: 19px;\n",
       "  }\n",
       "</style>\n",
       "<div class=\"ansiout\">0.9859703417150278\n",
       "0.9949208443271769\n",
       "Training AUROC 0.9858284977433917\n",
       "Coefficients: \n",
       "DenseMatrix([[ 0.06274767,  0.50424427,  0.30393565,  0.34952187, 10.16871613,\n",
       "              -0.06492295,  0.80747231,  0.39489357]])\n",
       "Intercept: [-28.831158721646403]\n",
       "</div>"
      ]
     }
    }
   ],
   "execution_count": 0
  },
  {
   "cell_type": "code",
   "source": [
    "# Create lasso logistic regression\n",
    "lr_lasso = LogisticRegression(featuresCol=\"features\", labelCol=\"top10_trgt\", regParam=0.1, elasticNetParam=1)\n",
    "# Fit the linear regresssion model\n",
    "lrModel_lasso = lr_lasso.fit(vecTrainDF)\n",
    "predict_train31 = lrModel_lasso.transform(vecTrainDF)\n",
    "\n",
    "# Make predictions on testing dataset\n",
    "predict_test31 = lrModel_lasso.transform(vecTestDF) #make predictions using the trained model\n",
    "\n",
    "auc_train31 = eval.evaluate(predict_train31)\n",
    "print(auc_train31)\n",
    "auc_test31 = eval.evaluate(predict_test31)\n",
    "print(auc_test31)\n",
    "\n",
    "print(\"Training AUROC\", lrModel_lasso.summary.areaUnderROC)\n",
    "print(\"Coefficients: \" + str(lrModel_lasso.coefficients))\n",
    "print(\"Intercept: \" + str(lrModel_lasso.interceptVector))"
   ],
   "metadata": {
    "application/vnd.databricks.v1+cell": {
     "showTitle": false,
     "cellMetadata": {
      "rowLimit": 10000,
      "byteLimit": 2048000
     },
     "nuid": "46703146-88ae-4abb-b766-88388082aa5e",
     "inputWidgets": {},
     "title": ""
    }
   },
   "outputs": [
    {
     "output_type": "display_data",
     "metadata": {
      "application/vnd.databricks.v1+output": {
       "datasetInfos": [
        {
         "name": "predict_train31",
         "typeStr": "pyspark.sql.dataframe.DataFrame",
         "schema": {
          "fields": [
           {
            "metadata": {},
            "name": "age",
            "nullable": true,
            "type": "integer"
           },
           {
            "metadata": {},
            "name": "bmi",
            "nullable": true,
            "type": "double"
           },
           {
            "metadata": {},
            "name": "children",
            "nullable": true,
            "type": "integer"
           },
           {
            "metadata": {},
            "name": "region",
            "nullable": true,
            "type": "string"
           },
           {
            "metadata": {},
            "name": "charges",
            "nullable": true,
            "type": "double"
           },
           {
            "metadata": {},
            "name": "gender_cd",
            "nullable": true,
            "type": "integer"
           },
           {
            "metadata": {},
            "name": "smoker_cd",
            "nullable": true,
            "type": "integer"
           },
           {
            "metadata": {},
            "name": "row_num",
            "nullable": true,
            "type": "integer"
           },
           {
            "metadata": {},
            "name": "percent_rank",
            "nullable": true,
            "type": "double"
           },
           {
            "metadata": {},
            "name": "top05_trgt",
            "nullable": false,
            "type": "integer"
           },
           {
            "metadata": {},
            "name": "top10_trgt",
            "nullable": false,
            "type": "integer"
           },
           {
            "metadata": {},
            "name": "top25_trgt",
            "nullable": false,
            "type": "integer"
           },
           {
            "metadata": {
             "ml_attr": {
              "name": "regionIndex",
              "type": "nominal",
              "vals": [
               "southeast",
               "southwest",
               "northeast",
               "northwest"
              ]
             }
            },
            "name": "regionIndex",
            "nullable": false,
            "type": "double"
           },
           {
            "metadata": {
             "ml_attr": {
              "attrs": {
               "binary": [
                {
                 "idx": 0,
                 "name": "southeast"
                },
                {
                 "idx": 1,
                 "name": "southwest"
                },
                {
                 "idx": 2,
                 "name": "northeast"
                }
               ]
              },
              "num_attrs": 3
             }
            },
            "name": "regionclassVec",
            "nullable": true,
            "type": {
             "class": "org.apache.spark.ml.linalg.VectorUDT",
             "pyClass": "pyspark.ml.linalg.VectorUDT",
             "sqlType": {
              "fields": [
               {
                "metadata": {},
                "name": "type",
                "nullable": false,
                "type": "byte"
               },
               {
                "metadata": {},
                "name": "size",
                "nullable": true,
                "type": "integer"
               },
               {
                "metadata": {},
                "name": "indices",
                "nullable": true,
                "type": {
                 "containsNull": false,
                 "elementType": "integer",
                 "type": "array"
                }
               },
               {
                "metadata": {},
                "name": "values",
                "nullable": true,
                "type": {
                 "containsNull": false,
                 "elementType": "double",
                 "type": "array"
                }
               }
              ],
              "type": "struct"
             },
             "type": "udt"
            }
           },
           {
            "metadata": {
             "ml_attr": {
              "attrs": {
               "binary": [
                {
                 "idx": 5,
                 "name": "regionclassVec_southeast"
                },
                {
                 "idx": 6,
                 "name": "regionclassVec_southwest"
                },
                {
                 "idx": 7,
                 "name": "regionclassVec_northeast"
                }
               ],
               "numeric": [
                {
                 "idx": 0,
                 "name": "age"
                },
                {
                 "idx": 1,
                 "name": "bmi"
                },
                {
                 "idx": 2,
                 "name": "children"
                },
                {
                 "idx": 3,
                 "name": "gender_cd"
                },
                {
                 "idx": 4,
                 "name": "smoker_cd"
                }
               ]
              },
              "num_attrs": 8
             }
            },
            "name": "features",
            "nullable": true,
            "type": {
             "class": "org.apache.spark.ml.linalg.VectorUDT",
             "pyClass": "pyspark.ml.linalg.VectorUDT",
             "sqlType": {
              "fields": [
               {
                "metadata": {},
                "name": "type",
                "nullable": false,
                "type": "byte"
               },
               {
                "metadata": {},
                "name": "size",
                "nullable": true,
                "type": "integer"
               },
               {
                "metadata": {},
                "name": "indices",
                "nullable": true,
                "type": {
                 "containsNull": false,
                 "elementType": "integer",
                 "type": "array"
                }
               },
               {
                "metadata": {},
                "name": "values",
                "nullable": true,
                "type": {
                 "containsNull": false,
                 "elementType": "double",
                 "type": "array"
                }
               }
              ],
              "type": "struct"
             },
             "type": "udt"
            }
           },
           {
            "metadata": {
             "ml_attr": {
              "num_attrs": 2
             }
            },
            "name": "rawPrediction",
            "nullable": true,
            "type": {
             "class": "org.apache.spark.ml.linalg.VectorUDT",
             "pyClass": "pyspark.ml.linalg.VectorUDT",
             "sqlType": {
              "fields": [
               {
                "metadata": {},
                "name": "type",
                "nullable": false,
                "type": "byte"
               },
               {
                "metadata": {},
                "name": "size",
                "nullable": true,
                "type": "integer"
               },
               {
                "metadata": {},
                "name": "indices",
                "nullable": true,
                "type": {
                 "containsNull": false,
                 "elementType": "integer",
                 "type": "array"
                }
               },
               {
                "metadata": {},
                "name": "values",
                "nullable": true,
                "type": {
                 "containsNull": false,
                 "elementType": "double",
                 "type": "array"
                }
               }
              ],
              "type": "struct"
             },
             "type": "udt"
            }
           },
           {
            "metadata": {
             "ml_attr": {
              "num_attrs": 2
             }
            },
            "name": "probability",
            "nullable": true,
            "type": {
             "class": "org.apache.spark.ml.linalg.VectorUDT",
             "pyClass": "pyspark.ml.linalg.VectorUDT",
             "sqlType": {
              "fields": [
               {
                "metadata": {},
                "name": "type",
                "nullable": false,
                "type": "byte"
               },
               {
                "metadata": {},
                "name": "size",
                "nullable": true,
                "type": "integer"
               },
               {
                "metadata": {},
                "name": "indices",
                "nullable": true,
                "type": {
                 "containsNull": false,
                 "elementType": "integer",
                 "type": "array"
                }
               },
               {
                "metadata": {},
                "name": "values",
                "nullable": true,
                "type": {
                 "containsNull": false,
                 "elementType": "double",
                 "type": "array"
                }
               }
              ],
              "type": "struct"
             },
             "type": "udt"
            }
           },
           {
            "metadata": {
             "ml_attr": {
              "num_vals": 2,
              "type": "nominal"
             }
            },
            "name": "prediction",
            "nullable": false,
            "type": "double"
           }
          ],
          "type": "struct"
         },
         "tableIdentifier": null
        },
        {
         "name": "predict_test31",
         "typeStr": "pyspark.sql.dataframe.DataFrame",
         "schema": {
          "fields": [
           {
            "metadata": {},
            "name": "age",
            "nullable": true,
            "type": "integer"
           },
           {
            "metadata": {},
            "name": "bmi",
            "nullable": true,
            "type": "double"
           },
           {
            "metadata": {},
            "name": "children",
            "nullable": true,
            "type": "integer"
           },
           {
            "metadata": {},
            "name": "region",
            "nullable": true,
            "type": "string"
           },
           {
            "metadata": {},
            "name": "charges",
            "nullable": true,
            "type": "double"
           },
           {
            "metadata": {},
            "name": "gender_cd",
            "nullable": true,
            "type": "integer"
           },
           {
            "metadata": {},
            "name": "smoker_cd",
            "nullable": true,
            "type": "integer"
           },
           {
            "metadata": {},
            "name": "row_num",
            "nullable": true,
            "type": "integer"
           },
           {
            "metadata": {},
            "name": "percent_rank",
            "nullable": true,
            "type": "double"
           },
           {
            "metadata": {},
            "name": "top05_trgt",
            "nullable": false,
            "type": "integer"
           },
           {
            "metadata": {},
            "name": "top10_trgt",
            "nullable": false,
            "type": "integer"
           },
           {
            "metadata": {},
            "name": "top25_trgt",
            "nullable": false,
            "type": "integer"
           },
           {
            "metadata": {
             "ml_attr": {
              "name": "regionIndex",
              "type": "nominal",
              "vals": [
               "southeast",
               "southwest",
               "northeast",
               "northwest"
              ]
             }
            },
            "name": "regionIndex",
            "nullable": false,
            "type": "double"
           },
           {
            "metadata": {
             "ml_attr": {
              "attrs": {
               "binary": [
                {
                 "idx": 0,
                 "name": "southeast"
                },
                {
                 "idx": 1,
                 "name": "southwest"
                },
                {
                 "idx": 2,
                 "name": "northeast"
                }
               ]
              },
              "num_attrs": 3
             }
            },
            "name": "regionclassVec",
            "nullable": true,
            "type": {
             "class": "org.apache.spark.ml.linalg.VectorUDT",
             "pyClass": "pyspark.ml.linalg.VectorUDT",
             "sqlType": {
              "fields": [
               {
                "metadata": {},
                "name": "type",
                "nullable": false,
                "type": "byte"
               },
               {
                "metadata": {},
                "name": "size",
                "nullable": true,
                "type": "integer"
               },
               {
                "metadata": {},
                "name": "indices",
                "nullable": true,
                "type": {
                 "containsNull": false,
                 "elementType": "integer",
                 "type": "array"
                }
               },
               {
                "metadata": {},
                "name": "values",
                "nullable": true,
                "type": {
                 "containsNull": false,
                 "elementType": "double",
                 "type": "array"
                }
               }
              ],
              "type": "struct"
             },
             "type": "udt"
            }
           },
           {
            "metadata": {
             "ml_attr": {
              "attrs": {
               "binary": [
                {
                 "idx": 5,
                 "name": "regionclassVec_southeast"
                },
                {
                 "idx": 6,
                 "name": "regionclassVec_southwest"
                },
                {
                 "idx": 7,
                 "name": "regionclassVec_northeast"
                }
               ],
               "numeric": [
                {
                 "idx": 0,
                 "name": "age"
                },
                {
                 "idx": 1,
                 "name": "bmi"
                },
                {
                 "idx": 2,
                 "name": "children"
                },
                {
                 "idx": 3,
                 "name": "gender_cd"
                },
                {
                 "idx": 4,
                 "name": "smoker_cd"
                }
               ]
              },
              "num_attrs": 8
             }
            },
            "name": "features",
            "nullable": true,
            "type": {
             "class": "org.apache.spark.ml.linalg.VectorUDT",
             "pyClass": "pyspark.ml.linalg.VectorUDT",
             "sqlType": {
              "fields": [
               {
                "metadata": {},
                "name": "type",
                "nullable": false,
                "type": "byte"
               },
               {
                "metadata": {},
                "name": "size",
                "nullable": true,
                "type": "integer"
               },
               {
                "metadata": {},
                "name": "indices",
                "nullable": true,
                "type": {
                 "containsNull": false,
                 "elementType": "integer",
                 "type": "array"
                }
               },
               {
                "metadata": {},
                "name": "values",
                "nullable": true,
                "type": {
                 "containsNull": false,
                 "elementType": "double",
                 "type": "array"
                }
               }
              ],
              "type": "struct"
             },
             "type": "udt"
            }
           },
           {
            "metadata": {
             "ml_attr": {
              "num_attrs": 2
             }
            },
            "name": "rawPrediction",
            "nullable": true,
            "type": {
             "class": "org.apache.spark.ml.linalg.VectorUDT",
             "pyClass": "pyspark.ml.linalg.VectorUDT",
             "sqlType": {
              "fields": [
               {
                "metadata": {},
                "name": "type",
                "nullable": false,
                "type": "byte"
               },
               {
                "metadata": {},
                "name": "size",
                "nullable": true,
                "type": "integer"
               },
               {
                "metadata": {},
                "name": "indices",
                "nullable": true,
                "type": {
                 "containsNull": false,
                 "elementType": "integer",
                 "type": "array"
                }
               },
               {
                "metadata": {},
                "name": "values",
                "nullable": true,
                "type": {
                 "containsNull": false,
                 "elementType": "double",
                 "type": "array"
                }
               }
              ],
              "type": "struct"
             },
             "type": "udt"
            }
           },
           {
            "metadata": {
             "ml_attr": {
              "num_attrs": 2
             }
            },
            "name": "probability",
            "nullable": true,
            "type": {
             "class": "org.apache.spark.ml.linalg.VectorUDT",
             "pyClass": "pyspark.ml.linalg.VectorUDT",
             "sqlType": {
              "fields": [
               {
                "metadata": {},
                "name": "type",
                "nullable": false,
                "type": "byte"
               },
               {
                "metadata": {},
                "name": "size",
                "nullable": true,
                "type": "integer"
               },
               {
                "metadata": {},
                "name": "indices",
                "nullable": true,
                "type": {
                 "containsNull": false,
                 "elementType": "integer",
                 "type": "array"
                }
               },
               {
                "metadata": {},
                "name": "values",
                "nullable": true,
                "type": {
                 "containsNull": false,
                 "elementType": "double",
                 "type": "array"
                }
               }
              ],
              "type": "struct"
             },
             "type": "udt"
            }
           },
           {
            "metadata": {
             "ml_attr": {
              "num_vals": 2,
              "type": "nominal"
             }
            },
            "name": "prediction",
            "nullable": false,
            "type": "double"
           }
          ],
          "type": "struct"
         },
         "tableIdentifier": null
        }
       ],
       "data": "<div class=\"ansiout\">0.9258607350096711\n0.9379947229551452\nTraining AUROC 0.9258607350096711\nCoefficients: (8,[4],[1.9483972754703498])\nIntercept: [-2.8502314051542776]\n</div>",
       "removedWidgets": [],
       "addedWidgets": {},
       "metadata": {},
       "type": "html",
       "arguments": {}
      }
     },
     "data": {
      "text/html": [
       "<style scoped>\n",
       "  .ansiout {\n",
       "    display: block;\n",
       "    unicode-bidi: embed;\n",
       "    white-space: pre-wrap;\n",
       "    word-wrap: break-word;\n",
       "    word-break: break-all;\n",
       "    font-family: \"Source Code Pro\", \"Menlo\", monospace;;\n",
       "    font-size: 13px;\n",
       "    color: #555;\n",
       "    margin-left: 4px;\n",
       "    line-height: 19px;\n",
       "  }\n",
       "</style>\n",
       "<div class=\"ansiout\">0.9258607350096711\n",
       "0.9379947229551452\n",
       "Training AUROC 0.9258607350096711\n",
       "Coefficients: (8,[4],[1.9483972754703498])\n",
       "Intercept: [-2.8502314051542776]\n",
       "</div>"
      ]
     }
    }
   ],
   "execution_count": 0
  },
  {
   "cell_type": "code",
   "source": [
    "# Create ridge:L2 logistic regression\n",
    "lr_ridge = LogisticRegression(featuresCol=\"features\", labelCol=\"top10_trgt\", regParam=0.1, elasticNetParam=0)\n",
    "# Fit the linear regresssion model\n",
    "lrModel_ridge = lr_ridge.fit(vecTrainDF)\n",
    "predict_train32 = lrModel_ridge.transform(vecTrainDF)\n",
    "\n",
    "# Make predictions on testing dataset\n",
    "predict_test32 = lrModel_ridge.transform(vecTestDF) #make predictions using the trained model\n",
    "\n",
    "auc_train32 = eval.evaluate(predict_train32)\n",
    "print(auc_train32)\n",
    "auc_test32 = eval.evaluate(predict_test32)\n",
    "print(auc_test32)\n",
    "\n",
    "print(\"Training AUROC\", lrModel_ridge.summary.areaUnderROC)\n",
    "print(\"Coefficients: \" + str(lrModel_ridge.coefficients))\n",
    "print(\"Intercept: \" + str(lrModel_ridge.interceptVector))"
   ],
   "metadata": {
    "application/vnd.databricks.v1+cell": {
     "showTitle": false,
     "cellMetadata": {
      "rowLimit": 10000,
      "byteLimit": 2048000
     },
     "nuid": "85a66a3e-ef4a-4474-950d-5879d3f89dfc",
     "inputWidgets": {},
     "title": ""
    }
   },
   "outputs": [
    {
     "output_type": "display_data",
     "metadata": {
      "application/vnd.databricks.v1+output": {
       "datasetInfos": [
        {
         "name": "predict_train32",
         "typeStr": "pyspark.sql.dataframe.DataFrame",
         "schema": {
          "fields": [
           {
            "metadata": {},
            "name": "age",
            "nullable": true,
            "type": "integer"
           },
           {
            "metadata": {},
            "name": "bmi",
            "nullable": true,
            "type": "double"
           },
           {
            "metadata": {},
            "name": "children",
            "nullable": true,
            "type": "integer"
           },
           {
            "metadata": {},
            "name": "region",
            "nullable": true,
            "type": "string"
           },
           {
            "metadata": {},
            "name": "charges",
            "nullable": true,
            "type": "double"
           },
           {
            "metadata": {},
            "name": "gender_cd",
            "nullable": true,
            "type": "integer"
           },
           {
            "metadata": {},
            "name": "smoker_cd",
            "nullable": true,
            "type": "integer"
           },
           {
            "metadata": {},
            "name": "row_num",
            "nullable": true,
            "type": "integer"
           },
           {
            "metadata": {},
            "name": "percent_rank",
            "nullable": true,
            "type": "double"
           },
           {
            "metadata": {},
            "name": "top05_trgt",
            "nullable": false,
            "type": "integer"
           },
           {
            "metadata": {},
            "name": "top10_trgt",
            "nullable": false,
            "type": "integer"
           },
           {
            "metadata": {},
            "name": "top25_trgt",
            "nullable": false,
            "type": "integer"
           },
           {
            "metadata": {
             "ml_attr": {
              "name": "regionIndex",
              "type": "nominal",
              "vals": [
               "southeast",
               "southwest",
               "northeast",
               "northwest"
              ]
             }
            },
            "name": "regionIndex",
            "nullable": false,
            "type": "double"
           },
           {
            "metadata": {
             "ml_attr": {
              "attrs": {
               "binary": [
                {
                 "idx": 0,
                 "name": "southeast"
                },
                {
                 "idx": 1,
                 "name": "southwest"
                },
                {
                 "idx": 2,
                 "name": "northeast"
                }
               ]
              },
              "num_attrs": 3
             }
            },
            "name": "regionclassVec",
            "nullable": true,
            "type": {
             "class": "org.apache.spark.ml.linalg.VectorUDT",
             "pyClass": "pyspark.ml.linalg.VectorUDT",
             "sqlType": {
              "fields": [
               {
                "metadata": {},
                "name": "type",
                "nullable": false,
                "type": "byte"
               },
               {
                "metadata": {},
                "name": "size",
                "nullable": true,
                "type": "integer"
               },
               {
                "metadata": {},
                "name": "indices",
                "nullable": true,
                "type": {
                 "containsNull": false,
                 "elementType": "integer",
                 "type": "array"
                }
               },
               {
                "metadata": {},
                "name": "values",
                "nullable": true,
                "type": {
                 "containsNull": false,
                 "elementType": "double",
                 "type": "array"
                }
               }
              ],
              "type": "struct"
             },
             "type": "udt"
            }
           },
           {
            "metadata": {
             "ml_attr": {
              "attrs": {
               "binary": [
                {
                 "idx": 5,
                 "name": "regionclassVec_southeast"
                },
                {
                 "idx": 6,
                 "name": "regionclassVec_southwest"
                },
                {
                 "idx": 7,
                 "name": "regionclassVec_northeast"
                }
               ],
               "numeric": [
                {
                 "idx": 0,
                 "name": "age"
                },
                {
                 "idx": 1,
                 "name": "bmi"
                },
                {
                 "idx": 2,
                 "name": "children"
                },
                {
                 "idx": 3,
                 "name": "gender_cd"
                },
                {
                 "idx": 4,
                 "name": "smoker_cd"
                }
               ]
              },
              "num_attrs": 8
             }
            },
            "name": "features",
            "nullable": true,
            "type": {
             "class": "org.apache.spark.ml.linalg.VectorUDT",
             "pyClass": "pyspark.ml.linalg.VectorUDT",
             "sqlType": {
              "fields": [
               {
                "metadata": {},
                "name": "type",
                "nullable": false,
                "type": "byte"
               },
               {
                "metadata": {},
                "name": "size",
                "nullable": true,
                "type": "integer"
               },
               {
                "metadata": {},
                "name": "indices",
                "nullable": true,
                "type": {
                 "containsNull": false,
                 "elementType": "integer",
                 "type": "array"
                }
               },
               {
                "metadata": {},
                "name": "values",
                "nullable": true,
                "type": {
                 "containsNull": false,
                 "elementType": "double",
                 "type": "array"
                }
               }
              ],
              "type": "struct"
             },
             "type": "udt"
            }
           },
           {
            "metadata": {
             "ml_attr": {
              "num_attrs": 2
             }
            },
            "name": "rawPrediction",
            "nullable": true,
            "type": {
             "class": "org.apache.spark.ml.linalg.VectorUDT",
             "pyClass": "pyspark.ml.linalg.VectorUDT",
             "sqlType": {
              "fields": [
               {
                "metadata": {},
                "name": "type",
                "nullable": false,
                "type": "byte"
               },
               {
                "metadata": {},
                "name": "size",
                "nullable": true,
                "type": "integer"
               },
               {
                "metadata": {},
                "name": "indices",
                "nullable": true,
                "type": {
                 "containsNull": false,
                 "elementType": "integer",
                 "type": "array"
                }
               },
               {
                "metadata": {},
                "name": "values",
                "nullable": true,
                "type": {
                 "containsNull": false,
                 "elementType": "double",
                 "type": "array"
                }
               }
              ],
              "type": "struct"
             },
             "type": "udt"
            }
           },
           {
            "metadata": {
             "ml_attr": {
              "num_attrs": 2
             }
            },
            "name": "probability",
            "nullable": true,
            "type": {
             "class": "org.apache.spark.ml.linalg.VectorUDT",
             "pyClass": "pyspark.ml.linalg.VectorUDT",
             "sqlType": {
              "fields": [
               {
                "metadata": {},
                "name": "type",
                "nullable": false,
                "type": "byte"
               },
               {
                "metadata": {},
                "name": "size",
                "nullable": true,
                "type": "integer"
               },
               {
                "metadata": {},
                "name": "indices",
                "nullable": true,
                "type": {
                 "containsNull": false,
                 "elementType": "integer",
                 "type": "array"
                }
               },
               {
                "metadata": {},
                "name": "values",
                "nullable": true,
                "type": {
                 "containsNull": false,
                 "elementType": "double",
                 "type": "array"
                }
               }
              ],
              "type": "struct"
             },
             "type": "udt"
            }
           },
           {
            "metadata": {
             "ml_attr": {
              "num_vals": 2,
              "type": "nominal"
             }
            },
            "name": "prediction",
            "nullable": false,
            "type": "double"
           }
          ],
          "type": "struct"
         },
         "tableIdentifier": null
        },
        {
         "name": "predict_test32",
         "typeStr": "pyspark.sql.dataframe.DataFrame",
         "schema": {
          "fields": [
           {
            "metadata": {},
            "name": "age",
            "nullable": true,
            "type": "integer"
           },
           {
            "metadata": {},
            "name": "bmi",
            "nullable": true,
            "type": "double"
           },
           {
            "metadata": {},
            "name": "children",
            "nullable": true,
            "type": "integer"
           },
           {
            "metadata": {},
            "name": "region",
            "nullable": true,
            "type": "string"
           },
           {
            "metadata": {},
            "name": "charges",
            "nullable": true,
            "type": "double"
           },
           {
            "metadata": {},
            "name": "gender_cd",
            "nullable": true,
            "type": "integer"
           },
           {
            "metadata": {},
            "name": "smoker_cd",
            "nullable": true,
            "type": "integer"
           },
           {
            "metadata": {},
            "name": "row_num",
            "nullable": true,
            "type": "integer"
           },
           {
            "metadata": {},
            "name": "percent_rank",
            "nullable": true,
            "type": "double"
           },
           {
            "metadata": {},
            "name": "top05_trgt",
            "nullable": false,
            "type": "integer"
           },
           {
            "metadata": {},
            "name": "top10_trgt",
            "nullable": false,
            "type": "integer"
           },
           {
            "metadata": {},
            "name": "top25_trgt",
            "nullable": false,
            "type": "integer"
           },
           {
            "metadata": {
             "ml_attr": {
              "name": "regionIndex",
              "type": "nominal",
              "vals": [
               "southeast",
               "southwest",
               "northeast",
               "northwest"
              ]
             }
            },
            "name": "regionIndex",
            "nullable": false,
            "type": "double"
           },
           {
            "metadata": {
             "ml_attr": {
              "attrs": {
               "binary": [
                {
                 "idx": 0,
                 "name": "southeast"
                },
                {
                 "idx": 1,
                 "name": "southwest"
                },
                {
                 "idx": 2,
                 "name": "northeast"
                }
               ]
              },
              "num_attrs": 3
             }
            },
            "name": "regionclassVec",
            "nullable": true,
            "type": {
             "class": "org.apache.spark.ml.linalg.VectorUDT",
             "pyClass": "pyspark.ml.linalg.VectorUDT",
             "sqlType": {
              "fields": [
               {
                "metadata": {},
                "name": "type",
                "nullable": false,
                "type": "byte"
               },
               {
                "metadata": {},
                "name": "size",
                "nullable": true,
                "type": "integer"
               },
               {
                "metadata": {},
                "name": "indices",
                "nullable": true,
                "type": {
                 "containsNull": false,
                 "elementType": "integer",
                 "type": "array"
                }
               },
               {
                "metadata": {},
                "name": "values",
                "nullable": true,
                "type": {
                 "containsNull": false,
                 "elementType": "double",
                 "type": "array"
                }
               }
              ],
              "type": "struct"
             },
             "type": "udt"
            }
           },
           {
            "metadata": {
             "ml_attr": {
              "attrs": {
               "binary": [
                {
                 "idx": 5,
                 "name": "regionclassVec_southeast"
                },
                {
                 "idx": 6,
                 "name": "regionclassVec_southwest"
                },
                {
                 "idx": 7,
                 "name": "regionclassVec_northeast"
                }
               ],
               "numeric": [
                {
                 "idx": 0,
                 "name": "age"
                },
                {
                 "idx": 1,
                 "name": "bmi"
                },
                {
                 "idx": 2,
                 "name": "children"
                },
                {
                 "idx": 3,
                 "name": "gender_cd"
                },
                {
                 "idx": 4,
                 "name": "smoker_cd"
                }
               ]
              },
              "num_attrs": 8
             }
            },
            "name": "features",
            "nullable": true,
            "type": {
             "class": "org.apache.spark.ml.linalg.VectorUDT",
             "pyClass": "pyspark.ml.linalg.VectorUDT",
             "sqlType": {
              "fields": [
               {
                "metadata": {},
                "name": "type",
                "nullable": false,
                "type": "byte"
               },
               {
                "metadata": {},
                "name": "size",
                "nullable": true,
                "type": "integer"
               },
               {
                "metadata": {},
                "name": "indices",
                "nullable": true,
                "type": {
                 "containsNull": false,
                 "elementType": "integer",
                 "type": "array"
                }
               },
               {
                "metadata": {},
                "name": "values",
                "nullable": true,
                "type": {
                 "containsNull": false,
                 "elementType": "double",
                 "type": "array"
                }
               }
              ],
              "type": "struct"
             },
             "type": "udt"
            }
           },
           {
            "metadata": {
             "ml_attr": {
              "num_attrs": 2
             }
            },
            "name": "rawPrediction",
            "nullable": true,
            "type": {
             "class": "org.apache.spark.ml.linalg.VectorUDT",
             "pyClass": "pyspark.ml.linalg.VectorUDT",
             "sqlType": {
              "fields": [
               {
                "metadata": {},
                "name": "type",
                "nullable": false,
                "type": "byte"
               },
               {
                "metadata": {},
                "name": "size",
                "nullable": true,
                "type": "integer"
               },
               {
                "metadata": {},
                "name": "indices",
                "nullable": true,
                "type": {
                 "containsNull": false,
                 "elementType": "integer",
                 "type": "array"
                }
               },
               {
                "metadata": {},
                "name": "values",
                "nullable": true,
                "type": {
                 "containsNull": false,
                 "elementType": "double",
                 "type": "array"
                }
               }
              ],
              "type": "struct"
             },
             "type": "udt"
            }
           },
           {
            "metadata": {
             "ml_attr": {
              "num_attrs": 2
             }
            },
            "name": "probability",
            "nullable": true,
            "type": {
             "class": "org.apache.spark.ml.linalg.VectorUDT",
             "pyClass": "pyspark.ml.linalg.VectorUDT",
             "sqlType": {
              "fields": [
               {
                "metadata": {},
                "name": "type",
                "nullable": false,
                "type": "byte"
               },
               {
                "metadata": {},
                "name": "size",
                "nullable": true,
                "type": "integer"
               },
               {
                "metadata": {},
                "name": "indices",
                "nullable": true,
                "type": {
                 "containsNull": false,
                 "elementType": "integer",
                 "type": "array"
                }
               },
               {
                "metadata": {},
                "name": "values",
                "nullable": true,
                "type": {
                 "containsNull": false,
                 "elementType": "double",
                 "type": "array"
                }
               }
              ],
              "type": "struct"
             },
             "type": "udt"
            }
           },
           {
            "metadata": {
             "ml_attr": {
              "num_vals": 2,
              "type": "nominal"
             }
            },
            "name": "prediction",
            "nullable": false,
            "type": "double"
           }
          ],
          "type": "struct"
         },
         "tableIdentifier": null
        }
       ],
       "data": "<div class=\"ansiout\">0.9834945196647399\n0.9942612137203166\nTraining AUROC 0.9835074145712442\nCoefficients: [0.0075282301833286425,0.07260108108517231,0.05331035609868231,-0.1722075107272817,2.197877704650337,0.15058138398646648,0.08169113044369598,-0.03185860273218363]\nIntercept: [-5.622715605369718]\n</div>",
       "removedWidgets": [],
       "addedWidgets": {},
       "metadata": {},
       "type": "html",
       "arguments": {}
      }
     },
     "data": {
      "text/html": [
       "<style scoped>\n",
       "  .ansiout {\n",
       "    display: block;\n",
       "    unicode-bidi: embed;\n",
       "    white-space: pre-wrap;\n",
       "    word-wrap: break-word;\n",
       "    word-break: break-all;\n",
       "    font-family: \"Source Code Pro\", \"Menlo\", monospace;;\n",
       "    font-size: 13px;\n",
       "    color: #555;\n",
       "    margin-left: 4px;\n",
       "    line-height: 19px;\n",
       "  }\n",
       "</style>\n",
       "<div class=\"ansiout\">0.9834945196647399\n",
       "0.9942612137203166\n",
       "Training AUROC 0.9835074145712442\n",
       "Coefficients: [0.0075282301833286425,0.07260108108517231,0.05331035609868231,-0.1722075107272817,2.197877704650337,0.15058138398646648,0.08169113044369598,-0.03185860273218363]\n",
       "Intercept: [-5.622715605369718]\n",
       "</div>"
      ]
     }
    }
   ],
   "execution_count": 0
  },
  {
   "cell_type": "code",
   "source": [
    "# Create elastic net L1+L2 logistic regression\n",
    "lr_elastnet = LogisticRegression(featuresCol=\"features\", labelCol=\"top10_trgt\", regParam=0.1, elasticNetParam=0.1)\n",
    "# Fit the regresssion model\n",
    "lrModel_elastnet = lr_elastnet.fit(vecTrainDF)\n",
    "predict_train33 = lrModel_elastnet.transform(vecTrainDF)\n",
    "\n",
    "# Make predictions on testing dataset\n",
    "predict_test33 = lrModel_elastnet.transform(vecTestDF) #make predictions using the trained model\n",
    "\n",
    "auc_train33 = eval.evaluate(predict_train33)\n",
    "print(auc_train33)\n",
    "auc_test33 = eval.evaluate(predict_test33)\n",
    "print(auc_test33)\n",
    "\n",
    "print(\"Training AUROC\", lrModel_elastnet.summary.areaUnderROC)\n",
    "print(\"Coefficients: \" + str(lrModel_elastnet.coefficients))\n",
    "print(\"Intercept: \" + str(lrModel_elastnet.interceptVector))"
   ],
   "metadata": {
    "application/vnd.databricks.v1+cell": {
     "showTitle": false,
     "cellMetadata": {
      "rowLimit": 10000,
      "byteLimit": 2048000
     },
     "nuid": "039a6f30-38d0-4c3d-99e4-978fd05e21a1",
     "inputWidgets": {},
     "title": ""
    }
   },
   "outputs": [
    {
     "output_type": "display_data",
     "metadata": {
      "application/vnd.databricks.v1+output": {
       "datasetInfos": [
        {
         "name": "predict_train33",
         "typeStr": "pyspark.sql.dataframe.DataFrame",
         "schema": {
          "fields": [
           {
            "metadata": {},
            "name": "age",
            "nullable": true,
            "type": "integer"
           },
           {
            "metadata": {},
            "name": "bmi",
            "nullable": true,
            "type": "double"
           },
           {
            "metadata": {},
            "name": "children",
            "nullable": true,
            "type": "integer"
           },
           {
            "metadata": {},
            "name": "region",
            "nullable": true,
            "type": "string"
           },
           {
            "metadata": {},
            "name": "charges",
            "nullable": true,
            "type": "double"
           },
           {
            "metadata": {},
            "name": "gender_cd",
            "nullable": true,
            "type": "integer"
           },
           {
            "metadata": {},
            "name": "smoker_cd",
            "nullable": true,
            "type": "integer"
           },
           {
            "metadata": {},
            "name": "row_num",
            "nullable": true,
            "type": "integer"
           },
           {
            "metadata": {},
            "name": "percent_rank",
            "nullable": true,
            "type": "double"
           },
           {
            "metadata": {},
            "name": "top05_trgt",
            "nullable": false,
            "type": "integer"
           },
           {
            "metadata": {},
            "name": "top10_trgt",
            "nullable": false,
            "type": "integer"
           },
           {
            "metadata": {},
            "name": "top25_trgt",
            "nullable": false,
            "type": "integer"
           },
           {
            "metadata": {
             "ml_attr": {
              "name": "regionIndex",
              "type": "nominal",
              "vals": [
               "southeast",
               "southwest",
               "northeast",
               "northwest"
              ]
             }
            },
            "name": "regionIndex",
            "nullable": false,
            "type": "double"
           },
           {
            "metadata": {
             "ml_attr": {
              "attrs": {
               "binary": [
                {
                 "idx": 0,
                 "name": "southeast"
                },
                {
                 "idx": 1,
                 "name": "southwest"
                },
                {
                 "idx": 2,
                 "name": "northeast"
                }
               ]
              },
              "num_attrs": 3
             }
            },
            "name": "regionclassVec",
            "nullable": true,
            "type": {
             "class": "org.apache.spark.ml.linalg.VectorUDT",
             "pyClass": "pyspark.ml.linalg.VectorUDT",
             "sqlType": {
              "fields": [
               {
                "metadata": {},
                "name": "type",
                "nullable": false,
                "type": "byte"
               },
               {
                "metadata": {},
                "name": "size",
                "nullable": true,
                "type": "integer"
               },
               {
                "metadata": {},
                "name": "indices",
                "nullable": true,
                "type": {
                 "containsNull": false,
                 "elementType": "integer",
                 "type": "array"
                }
               },
               {
                "metadata": {},
                "name": "values",
                "nullable": true,
                "type": {
                 "containsNull": false,
                 "elementType": "double",
                 "type": "array"
                }
               }
              ],
              "type": "struct"
             },
             "type": "udt"
            }
           },
           {
            "metadata": {
             "ml_attr": {
              "attrs": {
               "binary": [
                {
                 "idx": 5,
                 "name": "regionclassVec_southeast"
                },
                {
                 "idx": 6,
                 "name": "regionclassVec_southwest"
                },
                {
                 "idx": 7,
                 "name": "regionclassVec_northeast"
                }
               ],
               "numeric": [
                {
                 "idx": 0,
                 "name": "age"
                },
                {
                 "idx": 1,
                 "name": "bmi"
                },
                {
                 "idx": 2,
                 "name": "children"
                },
                {
                 "idx": 3,
                 "name": "gender_cd"
                },
                {
                 "idx": 4,
                 "name": "smoker_cd"
                }
               ]
              },
              "num_attrs": 8
             }
            },
            "name": "features",
            "nullable": true,
            "type": {
             "class": "org.apache.spark.ml.linalg.VectorUDT",
             "pyClass": "pyspark.ml.linalg.VectorUDT",
             "sqlType": {
              "fields": [
               {
                "metadata": {},
                "name": "type",
                "nullable": false,
                "type": "byte"
               },
               {
                "metadata": {},
                "name": "size",
                "nullable": true,
                "type": "integer"
               },
               {
                "metadata": {},
                "name": "indices",
                "nullable": true,
                "type": {
                 "containsNull": false,
                 "elementType": "integer",
                 "type": "array"
                }
               },
               {
                "metadata": {},
                "name": "values",
                "nullable": true,
                "type": {
                 "containsNull": false,
                 "elementType": "double",
                 "type": "array"
                }
               }
              ],
              "type": "struct"
             },
             "type": "udt"
            }
           },
           {
            "metadata": {
             "ml_attr": {
              "num_attrs": 2
             }
            },
            "name": "rawPrediction",
            "nullable": true,
            "type": {
             "class": "org.apache.spark.ml.linalg.VectorUDT",
             "pyClass": "pyspark.ml.linalg.VectorUDT",
             "sqlType": {
              "fields": [
               {
                "metadata": {},
                "name": "type",
                "nullable": false,
                "type": "byte"
               },
               {
                "metadata": {},
                "name": "size",
                "nullable": true,
                "type": "integer"
               },
               {
                "metadata": {},
                "name": "indices",
                "nullable": true,
                "type": {
                 "containsNull": false,
                 "elementType": "integer",
                 "type": "array"
                }
               },
               {
                "metadata": {},
                "name": "values",
                "nullable": true,
                "type": {
                 "containsNull": false,
                 "elementType": "double",
                 "type": "array"
                }
               }
              ],
              "type": "struct"
             },
             "type": "udt"
            }
           },
           {
            "metadata": {
             "ml_attr": {
              "num_attrs": 2
             }
            },
            "name": "probability",
            "nullable": true,
            "type": {
             "class": "org.apache.spark.ml.linalg.VectorUDT",
             "pyClass": "pyspark.ml.linalg.VectorUDT",
             "sqlType": {
              "fields": [
               {
                "metadata": {},
                "name": "type",
                "nullable": false,
                "type": "byte"
               },
               {
                "metadata": {},
                "name": "size",
                "nullable": true,
                "type": "integer"
               },
               {
                "metadata": {},
                "name": "indices",
                "nullable": true,
                "type": {
                 "containsNull": false,
                 "elementType": "integer",
                 "type": "array"
                }
               },
               {
                "metadata": {},
                "name": "values",
                "nullable": true,
                "type": {
                 "containsNull": false,
                 "elementType": "double",
                 "type": "array"
                }
               }
              ],
              "type": "struct"
             },
             "type": "udt"
            }
           },
           {
            "metadata": {
             "ml_attr": {
              "num_vals": 2,
              "type": "nominal"
             }
            },
            "name": "prediction",
            "nullable": false,
            "type": "double"
           }
          ],
          "type": "struct"
         },
         "tableIdentifier": null
        },
        {
         "name": "predict_test33",
         "typeStr": "pyspark.sql.dataframe.DataFrame",
         "schema": {
          "fields": [
           {
            "metadata": {},
            "name": "age",
            "nullable": true,
            "type": "integer"
           },
           {
            "metadata": {},
            "name": "bmi",
            "nullable": true,
            "type": "double"
           },
           {
            "metadata": {},
            "name": "children",
            "nullable": true,
            "type": "integer"
           },
           {
            "metadata": {},
            "name": "region",
            "nullable": true,
            "type": "string"
           },
           {
            "metadata": {},
            "name": "charges",
            "nullable": true,
            "type": "double"
           },
           {
            "metadata": {},
            "name": "gender_cd",
            "nullable": true,
            "type": "integer"
           },
           {
            "metadata": {},
            "name": "smoker_cd",
            "nullable": true,
            "type": "integer"
           },
           {
            "metadata": {},
            "name": "row_num",
            "nullable": true,
            "type": "integer"
           },
           {
            "metadata": {},
            "name": "percent_rank",
            "nullable": true,
            "type": "double"
           },
           {
            "metadata": {},
            "name": "top05_trgt",
            "nullable": false,
            "type": "integer"
           },
           {
            "metadata": {},
            "name": "top10_trgt",
            "nullable": false,
            "type": "integer"
           },
           {
            "metadata": {},
            "name": "top25_trgt",
            "nullable": false,
            "type": "integer"
           },
           {
            "metadata": {
             "ml_attr": {
              "name": "regionIndex",
              "type": "nominal",
              "vals": [
               "southeast",
               "southwest",
               "northeast",
               "northwest"
              ]
             }
            },
            "name": "regionIndex",
            "nullable": false,
            "type": "double"
           },
           {
            "metadata": {
             "ml_attr": {
              "attrs": {
               "binary": [
                {
                 "idx": 0,
                 "name": "southeast"
                },
                {
                 "idx": 1,
                 "name": "southwest"
                },
                {
                 "idx": 2,
                 "name": "northeast"
                }
               ]
              },
              "num_attrs": 3
             }
            },
            "name": "regionclassVec",
            "nullable": true,
            "type": {
             "class": "org.apache.spark.ml.linalg.VectorUDT",
             "pyClass": "pyspark.ml.linalg.VectorUDT",
             "sqlType": {
              "fields": [
               {
                "metadata": {},
                "name": "type",
                "nullable": false,
                "type": "byte"
               },
               {
                "metadata": {},
                "name": "size",
                "nullable": true,
                "type": "integer"
               },
               {
                "metadata": {},
                "name": "indices",
                "nullable": true,
                "type": {
                 "containsNull": false,
                 "elementType": "integer",
                 "type": "array"
                }
               },
               {
                "metadata": {},
                "name": "values",
                "nullable": true,
                "type": {
                 "containsNull": false,
                 "elementType": "double",
                 "type": "array"
                }
               }
              ],
              "type": "struct"
             },
             "type": "udt"
            }
           },
           {
            "metadata": {
             "ml_attr": {
              "attrs": {
               "binary": [
                {
                 "idx": 5,
                 "name": "regionclassVec_southeast"
                },
                {
                 "idx": 6,
                 "name": "regionclassVec_southwest"
                },
                {
                 "idx": 7,
                 "name": "regionclassVec_northeast"
                }
               ],
               "numeric": [
                {
                 "idx": 0,
                 "name": "age"
                },
                {
                 "idx": 1,
                 "name": "bmi"
                },
                {
                 "idx": 2,
                 "name": "children"
                },
                {
                 "idx": 3,
                 "name": "gender_cd"
                },
                {
                 "idx": 4,
                 "name": "smoker_cd"
                }
               ]
              },
              "num_attrs": 8
             }
            },
            "name": "features",
            "nullable": true,
            "type": {
             "class": "org.apache.spark.ml.linalg.VectorUDT",
             "pyClass": "pyspark.ml.linalg.VectorUDT",
             "sqlType": {
              "fields": [
               {
                "metadata": {},
                "name": "type",
                "nullable": false,
                "type": "byte"
               },
               {
                "metadata": {},
                "name": "size",
                "nullable": true,
                "type": "integer"
               },
               {
                "metadata": {},
                "name": "indices",
                "nullable": true,
                "type": {
                 "containsNull": false,
                 "elementType": "integer",
                 "type": "array"
                }
               },
               {
                "metadata": {},
                "name": "values",
                "nullable": true,
                "type": {
                 "containsNull": false,
                 "elementType": "double",
                 "type": "array"
                }
               }
              ],
              "type": "struct"
             },
             "type": "udt"
            }
           },
           {
            "metadata": {
             "ml_attr": {
              "num_attrs": 2
             }
            },
            "name": "rawPrediction",
            "nullable": true,
            "type": {
             "class": "org.apache.spark.ml.linalg.VectorUDT",
             "pyClass": "pyspark.ml.linalg.VectorUDT",
             "sqlType": {
              "fields": [
               {
                "metadata": {},
                "name": "type",
                "nullable": false,
                "type": "byte"
               },
               {
                "metadata": {},
                "name": "size",
                "nullable": true,
                "type": "integer"
               },
               {
                "metadata": {},
                "name": "indices",
                "nullable": true,
                "type": {
                 "containsNull": false,
                 "elementType": "integer",
                 "type": "array"
                }
               },
               {
                "metadata": {},
                "name": "values",
                "nullable": true,
                "type": {
                 "containsNull": false,
                 "elementType": "double",
                 "type": "array"
                }
               }
              ],
              "type": "struct"
             },
             "type": "udt"
            }
           },
           {
            "metadata": {
             "ml_attr": {
              "num_attrs": 2
             }
            },
            "name": "probability",
            "nullable": true,
            "type": {
             "class": "org.apache.spark.ml.linalg.VectorUDT",
             "pyClass": "pyspark.ml.linalg.VectorUDT",
             "sqlType": {
              "fields": [
               {
                "metadata": {},
                "name": "type",
                "nullable": false,
                "type": "byte"
               },
               {
                "metadata": {},
                "name": "size",
                "nullable": true,
                "type": "integer"
               },
               {
                "metadata": {},
                "name": "indices",
                "nullable": true,
                "type": {
                 "containsNull": false,
                 "elementType": "integer",
                 "type": "array"
                }
               },
               {
                "metadata": {},
                "name": "values",
                "nullable": true,
                "type": {
                 "containsNull": false,
                 "elementType": "double",
                 "type": "array"
                }
               }
              ],
              "type": "struct"
             },
             "type": "udt"
            }
           },
           {
            "metadata": {
             "ml_attr": {
              "num_vals": 2,
              "type": "nominal"
             }
            },
            "name": "prediction",
            "nullable": false,
            "type": "double"
           }
          ],
          "type": "struct"
         },
         "tableIdentifier": null
        }
       ],
       "data": "<div class=\"ansiout\">0.9827466150870481\n0.9962401055408971\nTraining AUROC 0.9824629271437778\nCoefficients: [0.0038359673970106197,0.06904570746593378,0.007439917295521564,-0.0653108619210248,2.1839926890910917,0.02938418486012431,0.0,0.0]\nIntercept: [-5.293275777183871]\n</div>",
       "removedWidgets": [],
       "addedWidgets": {},
       "metadata": {},
       "type": "html",
       "arguments": {}
      }
     },
     "data": {
      "text/html": [
       "<style scoped>\n",
       "  .ansiout {\n",
       "    display: block;\n",
       "    unicode-bidi: embed;\n",
       "    white-space: pre-wrap;\n",
       "    word-wrap: break-word;\n",
       "    word-break: break-all;\n",
       "    font-family: \"Source Code Pro\", \"Menlo\", monospace;;\n",
       "    font-size: 13px;\n",
       "    color: #555;\n",
       "    margin-left: 4px;\n",
       "    line-height: 19px;\n",
       "  }\n",
       "</style>\n",
       "<div class=\"ansiout\">0.9827466150870481\n",
       "0.9962401055408971\n",
       "Training AUROC 0.9824629271437778\n",
       "Coefficients: [0.0038359673970106197,0.06904570746593378,0.007439917295521564,-0.0653108619210248,2.1839926890910917,0.02938418486012431,0.0,0.0]\n",
       "Intercept: [-5.293275777183871]\n",
       "</div>"
      ]
     }
    }
   ],
   "execution_count": 0
  }
 ],
 "metadata": {
  "application/vnd.databricks.v1+notebook": {
   "notebookName": "Class1_LogisticRegression_InsuranceExample",
   "dashboards": [],
   "notebookMetadata": {
    "pythonIndentUnit": 2,
    "mostRecentlyExecutedCommandWithImplicitDF": {
     "commandId": 4107560357685426,
     "dataframes": [
      "_sqldf"
     ]
    }
   },
   "language": "python",
   "widgets": {}
  }
 },
 "nbformat": 4,
 "nbformat_minor": 0
}
